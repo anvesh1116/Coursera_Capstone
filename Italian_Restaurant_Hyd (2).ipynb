{
 "cells": [
  {
   "cell_type": "markdown",
   "metadata": {},
   "source": [
    "<h1>Capstone Project - Battle of Neighbourhoods </h1>"
   ]
  },
  {
   "cell_type": "markdown",
   "metadata": {},
   "source": [
    "<h3>Introduction to Business Problem</h3>"
   ]
  },
  {
   "cell_type": "markdown",
   "metadata": {},
   "source": [
    "<h4>Opening a new Italian Restaurant in Hyderabad, India</h4>"
   ]
  },
  {
   "cell_type": "markdown",
   "metadata": {},
   "source": [
    "Hyderabad is a cosmopolitan city spread across the area of 7250 Km2 roughly making it the fourth most populous city in India. The city is popular for its rich heritage and it is home for restaurants serving multiple cuisines. The objective of this project is to evaluate the best possible location to open Italian Restaurant in Hyderabad, India with minimum competition.\n"
   ]
  },
  {
   "cell_type": "markdown",
   "metadata": {},
   "source": [
    "<h3>Data</h3>"
   ]
  },
  {
   "cell_type": "markdown",
   "metadata": {},
   "source": [
    "Data Sources for the Project would be : <br/>\n",
    "\n",
    "Wikimedia Commons: Information about areas/localities in Hyderabad <br/>\n",
    "Geopy - For the co-ordinates of different locations <br/>\n",
    "Foursquare API - To get the list of venues and their details around a given location <br/>"
   ]
  },
  {
   "cell_type": "markdown",
   "metadata": {},
   "source": [
    "<h3>Methodology</h3>"
   ]
  },
  {
   "cell_type": "markdown",
   "metadata": {},
   "source": [
    "<ol>\n",
    "    <li>To get the Lat,Long co-ordinates of the Hyderabad city.</li>\n",
    "    <li>To get the list of localities in the Hyderabad and their co-ordinates.</li>\n",
    "    <li>Explore the venues and venue categories in the target localities.</li>\n",
    "    <li>Cluster the localities in the Hyderabad city.</li>\n",
    "    <li>Analyzing the clusters formed.</li>\n",
    "    <li>Collecting information about the Italian Restaurant already present in the clusters.</li>\n",
    "    <li>Compare the clusters and recommend the cluster with minimum competition </li>\n",
    "</ol>"
   ]
  },
  {
   "cell_type": "markdown",
   "metadata": {},
   "source": [
    "<h3>1. Importing required libraries</h3>"
   ]
  },
  {
   "cell_type": "code",
   "execution_count": 1,
   "metadata": {},
   "outputs": [
    {
     "name": "stdout",
     "output_type": "stream",
     "text": [
      "Collecting geocoder\n",
      "\u001b[?25l  Downloading https://files.pythonhosted.org/packages/4f/6b/13166c909ad2f2d76b929a4227c952630ebaf0d729f6317eb09cbceccbab/geocoder-1.38.1-py2.py3-none-any.whl (98kB)\n",
      "\u001b[K     |████████████████████████████████| 102kB 18.0MB/s ta 0:00:01\n",
      "\u001b[?25hRequirement already satisfied: click in /opt/conda/envs/Python36/lib/python3.6/site-packages (from geocoder) (7.0)\n",
      "Collecting ratelim (from geocoder)\n",
      "  Downloading https://files.pythonhosted.org/packages/f2/98/7e6d147fd16a10a5f821db6e25f192265d6ecca3d82957a4fdd592cad49c/ratelim-0.1.6-py2.py3-none-any.whl\n",
      "Requirement already satisfied: requests in /opt/conda/envs/Python36/lib/python3.6/site-packages (from geocoder) (2.21.0)\n",
      "Requirement already satisfied: future in /opt/conda/envs/Python36/lib/python3.6/site-packages (from geocoder) (0.17.1)\n",
      "Requirement already satisfied: six in /opt/conda/envs/Python36/lib/python3.6/site-packages (from geocoder) (1.12.0)\n",
      "Requirement already satisfied: decorator in /opt/conda/envs/Python36/lib/python3.6/site-packages (from ratelim->geocoder) (4.3.2)\n",
      "Requirement already satisfied: certifi>=2017.4.17 in /opt/conda/envs/Python36/lib/python3.6/site-packages (from requests->geocoder) (2020.4.5.1)\n",
      "Requirement already satisfied: idna<2.9,>=2.5 in /opt/conda/envs/Python36/lib/python3.6/site-packages (from requests->geocoder) (2.8)\n",
      "Requirement already satisfied: chardet<3.1.0,>=3.0.2 in /opt/conda/envs/Python36/lib/python3.6/site-packages (from requests->geocoder) (3.0.4)\n",
      "Requirement already satisfied: urllib3<1.25,>=1.21.1 in /opt/conda/envs/Python36/lib/python3.6/site-packages (from requests->geocoder) (1.24.1)\n",
      "Installing collected packages: ratelim, geocoder\n",
      "Successfully installed geocoder-1.38.1 ratelim-0.1.6\n",
      "Collecting folium\n",
      "\u001b[?25l  Downloading https://files.pythonhosted.org/packages/a4/f0/44e69d50519880287cc41e7c8a6acc58daa9a9acf5f6afc52bcc70f69a6d/folium-0.11.0-py2.py3-none-any.whl (93kB)\n",
      "\u001b[K     |████████████████████████████████| 102kB 6.4MB/s ta 0:00:011\n",
      "\u001b[?25hRequirement already satisfied: jinja2>=2.9 in /opt/conda/envs/Python36/lib/python3.6/site-packages (from folium) (2.10)\n",
      "Collecting branca>=0.3.0 (from folium)\n",
      "  Downloading https://files.pythonhosted.org/packages/13/fb/9eacc24ba3216510c6b59a4ea1cd53d87f25ba76237d7f4393abeaf4c94e/branca-0.4.1-py3-none-any.whl\n",
      "Requirement already satisfied: numpy in /opt/conda/envs/Python36/lib/python3.6/site-packages (from folium) (1.15.4)\n",
      "Requirement already satisfied: requests in /opt/conda/envs/Python36/lib/python3.6/site-packages (from folium) (2.21.0)\n",
      "Requirement already satisfied: MarkupSafe>=0.23 in /opt/conda/envs/Python36/lib/python3.6/site-packages (from jinja2>=2.9->folium) (1.1.0)\n",
      "Requirement already satisfied: urllib3<1.25,>=1.21.1 in /opt/conda/envs/Python36/lib/python3.6/site-packages (from requests->folium) (1.24.1)\n",
      "Requirement already satisfied: chardet<3.1.0,>=3.0.2 in /opt/conda/envs/Python36/lib/python3.6/site-packages (from requests->folium) (3.0.4)\n",
      "Requirement already satisfied: certifi>=2017.4.17 in /opt/conda/envs/Python36/lib/python3.6/site-packages (from requests->folium) (2020.4.5.1)\n",
      "Requirement already satisfied: idna<2.9,>=2.5 in /opt/conda/envs/Python36/lib/python3.6/site-packages (from requests->folium) (2.8)\n",
      "Installing collected packages: branca, folium\n",
      "Successfully installed branca-0.4.1 folium-0.11.0\n",
      "Libraries Installed\n"
     ]
    }
   ],
   "source": [
    "import numpy as np\n",
    "import pandas as pd\n",
    "from geopy.geocoders import Nominatim\n",
    "try:\n",
    "    import geocoder\n",
    "except:\n",
    "    !pip install geocoder\n",
    "    import geocoder\n",
    "import requests\n",
    "from bs4 import BeautifulSoup\n",
    "try:\n",
    "    import folium\n",
    "except:\n",
    "    !pip install folium\n",
    "    import folium   \n",
    "from sklearn.cluster import KMeans\n",
    "from sklearn import preprocessing\n",
    "from sklearn.model_selection import train_test_split\n",
    "from sklearn.neighbors import KNeighborsClassifier\n",
    "from sklearn import metrics\n",
    "import matplotlib as mpl\n",
    "import matplotlib.pyplot as plt\n",
    "\n",
    "print(\"Libraries Installed\")"
   ]
  },
  {
   "cell_type": "markdown",
   "metadata": {},
   "source": [
    "<h3>2. Hyderbad Location Details</h3>"
   ]
  },
  {
   "cell_type": "code",
   "execution_count": 2,
   "metadata": {},
   "outputs": [
    {
     "name": "stdout",
     "output_type": "stream",
     "text": [
      "Hyderabad Latitute & Longitute are 17.394870000000026 and 78.47076000000004\n"
     ]
    }
   ],
   "source": [
    "g = geocoder.arcgis('Hyderabad, India')\n",
    "h_lat = g.latlng[0]\n",
    "h_lng = g.latlng[1]\n",
    "print(\"Hyderabad Latitute & Longitute are {} and {}\".format(h_lat, h_lng))"
   ]
  },
  {
   "cell_type": "markdown",
   "metadata": {},
   "source": [
    "<h3>3. List of Localities in Hyderabad from Wikimedia</h3>"
   ]
  },
  {
   "cell_type": "code",
   "execution_count": 3,
   "metadata": {},
   "outputs": [],
   "source": [
    "loca = requests.get(\"https://commons.wikimedia.org/wiki/Category:Suburbs_of_Hyderabad,_India\").text"
   ]
  },
  {
   "cell_type": "code",
   "execution_count": 5,
   "metadata": {},
   "outputs": [],
   "source": [
    "soup = BeautifulSoup(loca, 'html.parser')"
   ]
  },
  {
   "cell_type": "code",
   "execution_count": 6,
   "metadata": {},
   "outputs": [],
   "source": [
    "localist = []"
   ]
  },
  {
   "cell_type": "code",
   "execution_count": 7,
   "metadata": {},
   "outputs": [
    {
     "data": {
      "text/html": [
       "<div>\n",
       "<style scoped>\n",
       "    .dataframe tbody tr th:only-of-type {\n",
       "        vertical-align: middle;\n",
       "    }\n",
       "\n",
       "    .dataframe tbody tr th {\n",
       "        vertical-align: top;\n",
       "    }\n",
       "\n",
       "    .dataframe thead th {\n",
       "        text-align: right;\n",
       "    }\n",
       "</style>\n",
       "<table border=\"1\" class=\"dataframe\">\n",
       "  <thead>\n",
       "    <tr style=\"text-align: right;\">\n",
       "      <th></th>\n",
       "      <th>Locality</th>\n",
       "    </tr>\n",
       "  </thead>\n",
       "  <tbody>\n",
       "    <tr>\n",
       "      <th>0</th>\n",
       "      <td>Abids</td>\n",
       "    </tr>\n",
       "    <tr>\n",
       "      <th>1</th>\n",
       "      <td>Alwal</td>\n",
       "    </tr>\n",
       "    <tr>\n",
       "      <th>2</th>\n",
       "      <td>Ameerpet, Hyderabad</td>\n",
       "    </tr>\n",
       "    <tr>\n",
       "      <th>3</th>\n",
       "      <td>Bandlaguda, Rangareddy</td>\n",
       "    </tr>\n",
       "    <tr>\n",
       "      <th>4</th>\n",
       "      <td>Banjara Hills</td>\n",
       "    </tr>\n",
       "  </tbody>\n",
       "</table>\n",
       "</div>"
      ],
      "text/plain": [
       "                 Locality\n",
       "0                   Abids\n",
       "1                   Alwal\n",
       "2     Ameerpet, Hyderabad\n",
       "3  Bandlaguda, Rangareddy\n",
       "4           Banjara Hills"
      ]
     },
     "execution_count": 7,
     "metadata": {},
     "output_type": "execute_result"
    }
   ],
   "source": [
    "for i in soup.find_all('div', class_='mw-category')[0].find_all('a'):\n",
    "    localist.append(i.text)\n",
    "\n",
    "#Creating a dataframe from the list\n",
    "loca_df = pd.DataFrame({\"Locality\": localist})\n",
    "loca_df.head()"
   ]
  },
  {
   "cell_type": "code",
   "execution_count": 8,
   "metadata": {},
   "outputs": [
    {
     "data": {
      "text/plain": [
       "(54, 1)"
      ]
     },
     "execution_count": 8,
     "metadata": {},
     "output_type": "execute_result"
    }
   ],
   "source": [
    "loca_df.shape"
   ]
  },
  {
   "cell_type": "markdown",
   "metadata": {},
   "source": [
    "<h3>4. To get Co-ordinates of Localities</h3>"
   ]
  },
  {
   "cell_type": "code",
   "execution_count": 9,
   "metadata": {},
   "outputs": [],
   "source": [
    "def get_location(localities):\n",
    "    g = geocoder.arcgis('{}, Hyderabad, India'.format(localities))\n",
    "    get_latlng = g.latlng\n",
    "    return get_latlng"
   ]
  },
  {
   "cell_type": "code",
   "execution_count": 10,
   "metadata": {},
   "outputs": [
    {
     "name": "stdout",
     "output_type": "stream",
     "text": [
      "[[17.389800000000037, 78.47658000000007], [17.535430000000076, 78.54427000000004], [17.435350000000028, 78.44861000000003], [17.299820000000068, 78.46495000000004], [17.415350000000046, 78.43435000000005], [17.40211000000005, 78.47770000000008], [17.447290000000066, 78.45396000000005], [17.40954000000005, 78.57896000000005], [17.51911000000007, 78.50153000000006], [17.394870000000026, 78.47076000000004], [17.40301000000005, 78.49792000000008], [17.366180000000043, 78.48736000000008], [17.368570000000034, 78.53515000000004], [17.409950000000038, 78.48229000000003], [17.45333000000005, 78.43034000000006], [17.43181000000004, 78.38636000000008], [17.522760000000062, 78.43862000000007], [17.463205559882393, 78.62119384031365], [17.389410000000055, 78.40406000000007], [17.32707000000005, 78.60533000000004], [17.429230000000075, 78.37495000000007], [17.399230000000045, 78.48073000000005], [17.36838000000006, 78.39999000000006], [17.42865000000006, 78.39762000000007], [17.386880000000076, 78.49553000000003], [17.405920000000037, 78.45856000000003], [17.385940000000062, 78.48338000000007], [17.48735000000005, 78.42087000000004], [17.512650000000065, 78.44129000000004], [17.45694000000003, 78.39013000000006], [17.374930000000063, 78.51567000000006], [17.447370000000035, 78.53520000000003], [17.40139000000005, 78.39163000000008], [17.400930000000074, 78.45362000000006], [17.392630000000054, 78.44219000000004], [17.421020000000055, 78.58244000000008], [17.384480000000053, 78.47442000000007], [17.465770000000077, 78.56018000000006], [17.43351000000007, 78.56673000000006], [17.27861000000007, 78.53871000000004], [17.372417809806066, 78.544476025997], [17.38897000000003, 78.46733000000006], [17.396420000000035, 78.48842000000008], [17.51833000000005, 78.38186000000007], [17.40843819426981, 78.47844131793521], [17.321150000000046, 78.64237000000008], [17.45876000000004, 78.44310000000007], [17.444380000000024, 78.44724000000008], [17.555613574484934, 78.57885403365474], [17.242020000000025, 78.42587000000003], [17.428000000000054, 78.51700000000005], [17.420720000000074, 78.46300000000008], [17.42792000000003, 78.54313000000008], [17.481220000000064, 78.51760000000007]]\n"
     ]
    }
   ],
   "source": [
    "co_ordinates = []\n",
    "for i in loca_df[\"Locality\"].tolist():\n",
    "    co_ordinates.append(get_location(i))\n",
    "print(co_ordinates)"
   ]
  },
  {
   "cell_type": "code",
   "execution_count": 11,
   "metadata": {},
   "outputs": [
    {
     "data": {
      "text/plain": [
       "[[17.389800000000037, 78.47658000000007],\n",
       " [17.535430000000076, 78.54427000000004],\n",
       " [17.435350000000028, 78.44861000000003],\n",
       " [17.299820000000068, 78.46495000000004],\n",
       " [17.415350000000046, 78.43435000000005]]"
      ]
     },
     "execution_count": 11,
     "metadata": {},
     "output_type": "execute_result"
    }
   ],
   "source": [
    "co_ordinates[:5]"
   ]
  },
  {
   "cell_type": "code",
   "execution_count": 12,
   "metadata": {},
   "outputs": [],
   "source": [
    "co_ordinates_df = pd.DataFrame(co_ordinates, columns=['Latitudes', 'Longitudes'])"
   ]
  },
  {
   "cell_type": "code",
   "execution_count": 13,
   "metadata": {},
   "outputs": [],
   "source": [
    "loca_df[\"Latitudes\"] = co_ordinates_df[\"Latitudes\"]\n",
    "loca_df[\"Longitudes\"] = co_ordinates_df[\"Longitudes\"]"
   ]
  },
  {
   "cell_type": "code",
   "execution_count": 14,
   "metadata": {},
   "outputs": [
    {
     "name": "stdout",
     "output_type": "stream",
     "text": [
      "The shape of loca_df is (54, 3)\n"
     ]
    },
    {
     "data": {
      "text/html": [
       "<div>\n",
       "<style scoped>\n",
       "    .dataframe tbody tr th:only-of-type {\n",
       "        vertical-align: middle;\n",
       "    }\n",
       "\n",
       "    .dataframe tbody tr th {\n",
       "        vertical-align: top;\n",
       "    }\n",
       "\n",
       "    .dataframe thead th {\n",
       "        text-align: right;\n",
       "    }\n",
       "</style>\n",
       "<table border=\"1\" class=\"dataframe\">\n",
       "  <thead>\n",
       "    <tr style=\"text-align: right;\">\n",
       "      <th></th>\n",
       "      <th>Locality</th>\n",
       "      <th>Latitudes</th>\n",
       "      <th>Longitudes</th>\n",
       "    </tr>\n",
       "  </thead>\n",
       "  <tbody>\n",
       "    <tr>\n",
       "      <th>0</th>\n",
       "      <td>Abids</td>\n",
       "      <td>17.38980</td>\n",
       "      <td>78.47658</td>\n",
       "    </tr>\n",
       "    <tr>\n",
       "      <th>1</th>\n",
       "      <td>Alwal</td>\n",
       "      <td>17.53543</td>\n",
       "      <td>78.54427</td>\n",
       "    </tr>\n",
       "    <tr>\n",
       "      <th>2</th>\n",
       "      <td>Ameerpet, Hyderabad</td>\n",
       "      <td>17.43535</td>\n",
       "      <td>78.44861</td>\n",
       "    </tr>\n",
       "    <tr>\n",
       "      <th>3</th>\n",
       "      <td>Bandlaguda, Rangareddy</td>\n",
       "      <td>17.29982</td>\n",
       "      <td>78.46495</td>\n",
       "    </tr>\n",
       "    <tr>\n",
       "      <th>4</th>\n",
       "      <td>Banjara Hills</td>\n",
       "      <td>17.41535</td>\n",
       "      <td>78.43435</td>\n",
       "    </tr>\n",
       "  </tbody>\n",
       "</table>\n",
       "</div>"
      ],
      "text/plain": [
       "                 Locality  Latitudes  Longitudes\n",
       "0                   Abids   17.38980    78.47658\n",
       "1                   Alwal   17.53543    78.54427\n",
       "2     Ameerpet, Hyderabad   17.43535    78.44861\n",
       "3  Bandlaguda, Rangareddy   17.29982    78.46495\n",
       "4           Banjara Hills   17.41535    78.43435"
      ]
     },
     "execution_count": 14,
     "metadata": {},
     "output_type": "execute_result"
    }
   ],
   "source": [
    "print(\"The shape of loca_df is {}\".format(loca_df.shape))\n",
    "loca_df.head()"
   ]
  },
  {
   "cell_type": "markdown",
   "metadata": {},
   "source": [
    "<h3>5. Plotting the Localities on map</h3>"
   ]
  },
  {
   "cell_type": "code",
   "execution_count": 16,
   "metadata": {},
   "outputs": [
    {
     "data": {
      "text/html": [
       "<div style=\"width:100%;\"><div style=\"position:relative;width:100%;height:0;padding-bottom:60%;\"><span style=\"color:#565656\">Make this Notebook Trusted to load map: File -> Trust Notebook</span><iframe src=\"about:blank\" style=\"position:absolute;width:100%;height:100%;left:0;top:0;border:none !important;\" data-html=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 onload=\"this.contentDocument.open();this.contentDocument.write(atob(this.getAttribute('data-html')));this.contentDocument.close();\" allowfullscreen webkitallowfullscreen mozallowfullscreen></iframe></div></div>"
      ],
      "text/plain": [
       "<folium.folium.Map at 0x7fb5580b0f98>"
      ]
     },
     "execution_count": 16,
     "metadata": {},
     "output_type": "execute_result"
    }
   ],
   "source": [
    "hyd_map = folium.Map(location=[h_lat, h_lng],zoom_start=11)\n",
    "\n",
    "folium.Marker([h_lat, h_lng], popup='<i>Hyderabad/i>', color='red', tooltip=\"Click to see\").add_to(hyd_map)\n",
    "\n",
    "for latitude,longitude,name in zip(loca_df[\"Latitudes\"], loca_df[\"Longitudes\"], loca_df[\"Locality\"]):\n",
    "    folium.CircleMarker(\n",
    "        [latitude, longitude],\n",
    "        radius=6,\n",
    "        color='blue',\n",
    "        popup=name,\n",
    "        fill=True,\n",
    "        fill_color='#3186ff'\n",
    "    ).add_to(hyd_map)\n",
    "\n",
    "hyd_map"
   ]
  },
  {
   "cell_type": "markdown",
   "metadata": {},
   "source": [
    "<h3>6. Using Foursquare API to explore the localities</h3>"
   ]
  },
  {
   "cell_type": "code",
   "execution_count": 21,
   "metadata": {},
   "outputs": [],
   "source": [
    "CLIENT_ID = 'NGLX4VOILIGRUM1DHLXDMDC5BG5FJ04ZWJLFRLTJHOC4XGDM'\n",
    "CLIENT_SECRET = 'DTD0MXPJXDJCUSPCJVVASLVNMVYN22LVM4NDPRFKTWYUCTU4'\n",
    "VERSION = '20180605' "
   ]
  },
  {
   "cell_type": "code",
   "execution_count": 22,
   "metadata": {},
   "outputs": [],
   "source": [
    "#Getting the top 100 venues in each locality\n",
    "radius = 2000\n",
    "LIMIT = 100\n",
    "\n",
    "venues = []\n",
    "\n",
    "for lat, lng, locality in zip(loca_df[\"Latitudes\"], loca_df[\"Longitudes\"], loca_df[\"Locality\"]):\n",
    "    url = 'https://api.foursquare.com/v2/venues/explore?client_id={}&client_secret={}&ll={},{}&v={}&radius={}&limit={}'.format(CLIENT_ID, CLIENT_SECRET, lat, lng, VERSION, radius, LIMIT)\n",
    "    results = requests.get(url).json()['response']['groups'][0]['items']\n",
    "\n",
    "    for venue in results:\n",
    "        venues.append((locality, lat, lng, venue['venue']['name'], venue['venue']['location']['lat'], venue['venue']['location']['lng'], venue['venue']['categories'][0]['name'], venue['venue']['id']))"
   ]
  },
  {
   "cell_type": "code",
   "execution_count": 23,
   "metadata": {},
   "outputs": [
    {
     "data": {
      "text/plain": [
       "('Abids',\n",
       " 17.389800000000037,\n",
       " 78.47658000000007,\n",
       " 'Pragati',\n",
       " 17.38808781386729,\n",
       " 78.48113363131787,\n",
       " 'South Indian Restaurant',\n",
       " '4dc4a65e18506de4adc5d5e5')"
      ]
     },
     "execution_count": 23,
     "metadata": {},
     "output_type": "execute_result"
    }
   ],
   "source": [
    "venues[0]"
   ]
  },
  {
   "cell_type": "code",
   "execution_count": 24,
   "metadata": {},
   "outputs": [
    {
     "data": {
      "text/html": [
       "<div>\n",
       "<style scoped>\n",
       "    .dataframe tbody tr th:only-of-type {\n",
       "        vertical-align: middle;\n",
       "    }\n",
       "\n",
       "    .dataframe tbody tr th {\n",
       "        vertical-align: top;\n",
       "    }\n",
       "\n",
       "    .dataframe thead th {\n",
       "        text-align: right;\n",
       "    }\n",
       "</style>\n",
       "<table border=\"1\" class=\"dataframe\">\n",
       "  <thead>\n",
       "    <tr style=\"text-align: right;\">\n",
       "      <th></th>\n",
       "      <th>Locality</th>\n",
       "      <th>Latitude</th>\n",
       "      <th>Longitude</th>\n",
       "      <th>Venue name</th>\n",
       "      <th>Venue Lat</th>\n",
       "      <th>Venue Lng</th>\n",
       "      <th>Venue Category</th>\n",
       "      <th>Venue ID</th>\n",
       "    </tr>\n",
       "  </thead>\n",
       "  <tbody>\n",
       "    <tr>\n",
       "      <th>0</th>\n",
       "      <td>Abids</td>\n",
       "      <td>17.3898</td>\n",
       "      <td>78.47658</td>\n",
       "      <td>Pragati</td>\n",
       "      <td>17.388088</td>\n",
       "      <td>78.481134</td>\n",
       "      <td>South Indian Restaurant</td>\n",
       "      <td>4dc4a65e18506de4adc5d5e5</td>\n",
       "    </tr>\n",
       "    <tr>\n",
       "      <th>1</th>\n",
       "      <td>Abids</td>\n",
       "      <td>17.3898</td>\n",
       "      <td>78.47658</td>\n",
       "      <td>Mayur Pan Shop</td>\n",
       "      <td>17.388894</td>\n",
       "      <td>78.480578</td>\n",
       "      <td>Juice Bar</td>\n",
       "      <td>4cdd08d4fc973704fe47d905</td>\n",
       "    </tr>\n",
       "    <tr>\n",
       "      <th>2</th>\n",
       "      <td>Abids</td>\n",
       "      <td>17.3898</td>\n",
       "      <td>78.47658</td>\n",
       "      <td>Santosh Dhaba</td>\n",
       "      <td>17.388485</td>\n",
       "      <td>78.479509</td>\n",
       "      <td>Indian Restaurant</td>\n",
       "      <td>4d3d4eca14aa8cfaa6d6b15e</td>\n",
       "    </tr>\n",
       "    <tr>\n",
       "      <th>3</th>\n",
       "      <td>Abids</td>\n",
       "      <td>17.3898</td>\n",
       "      <td>78.47658</td>\n",
       "      <td>Taj Mahal Hotel</td>\n",
       "      <td>17.391942</td>\n",
       "      <td>78.476915</td>\n",
       "      <td>Hotel</td>\n",
       "      <td>4be06fbf4c55b651426feab7</td>\n",
       "    </tr>\n",
       "    <tr>\n",
       "      <th>4</th>\n",
       "      <td>Abids</td>\n",
       "      <td>17.3898</td>\n",
       "      <td>78.47658</td>\n",
       "      <td>Karachi Bakery</td>\n",
       "      <td>17.383454</td>\n",
       "      <td>78.475075</td>\n",
       "      <td>Bakery</td>\n",
       "      <td>4bffe44ec30a2d7fbc9a111d</td>\n",
       "    </tr>\n",
       "  </tbody>\n",
       "</table>\n",
       "</div>"
      ],
      "text/plain": [
       "  Locality  Latitude  Longitude       Venue name  Venue Lat  Venue Lng  \\\n",
       "0    Abids   17.3898   78.47658          Pragati  17.388088  78.481134   \n",
       "1    Abids   17.3898   78.47658   Mayur Pan Shop  17.388894  78.480578   \n",
       "2    Abids   17.3898   78.47658    Santosh Dhaba  17.388485  78.479509   \n",
       "3    Abids   17.3898   78.47658  Taj Mahal Hotel  17.391942  78.476915   \n",
       "4    Abids   17.3898   78.47658   Karachi Bakery  17.383454  78.475075   \n",
       "\n",
       "            Venue Category                  Venue ID  \n",
       "0  South Indian Restaurant  4dc4a65e18506de4adc5d5e5  \n",
       "1                Juice Bar  4cdd08d4fc973704fe47d905  \n",
       "2        Indian Restaurant  4d3d4eca14aa8cfaa6d6b15e  \n",
       "3                    Hotel  4be06fbf4c55b651426feab7  \n",
       "4                   Bakery  4bffe44ec30a2d7fbc9a111d  "
      ]
     },
     "execution_count": 24,
     "metadata": {},
     "output_type": "execute_result"
    }
   ],
   "source": [
    "venues_df = pd.DataFrame(venues)\n",
    "venues_df.columns = ['Locality', 'Latitude', 'Longitude', 'Venue name', 'Venue Lat', 'Venue Lng', 'Venue Category', 'Venue ID']\n",
    "venues_df.head()"
   ]
  },
  {
   "cell_type": "code",
   "execution_count": 25,
   "metadata": {},
   "outputs": [
    {
     "data": {
      "text/plain": [
       "(2289, 8)"
      ]
     },
     "execution_count": 25,
     "metadata": {},
     "output_type": "execute_result"
    }
   ],
   "source": [
    "venues_df.shape"
   ]
  },
  {
   "cell_type": "code",
   "execution_count": 27,
   "metadata": {},
   "outputs": [
    {
     "name": "stdout",
     "output_type": "stream",
     "text": [
      "                      Strength\n",
      "Venue Category                \n",
      "Indian Restaurant          319\n",
      "Café                       119\n",
      "Fast Food Restaurant       104\n",
      "Hotel                      104\n",
      "Coffee Shop                 83\n"
     ]
    }
   ],
   "source": [
    "res_df = pd.DataFrame({'Venue Category': venues_df['Venue Category'], 'Strength': venues_df['Venue Category']})\n",
    "res_df = res_df.groupby(['Venue Category']).count()\n",
    "res_df = res_df.sort_values(['Strength'], ascending=False)\n",
    "print(res_df.head())"
   ]
  },
  {
   "cell_type": "code",
   "execution_count": 28,
   "metadata": {},
   "outputs": [
    {
     "data": {
      "text/plain": [
       "(150, 1)"
      ]
     },
     "execution_count": 28,
     "metadata": {},
     "output_type": "execute_result"
    }
   ],
   "source": [
    "res_df.shape"
   ]
  },
  {
   "cell_type": "code",
   "execution_count": 29,
   "metadata": {},
   "outputs": [
    {
     "data": {
      "text/html": [
       "<div>\n",
       "<style scoped>\n",
       "    .dataframe tbody tr th:only-of-type {\n",
       "        vertical-align: middle;\n",
       "    }\n",
       "\n",
       "    .dataframe tbody tr th {\n",
       "        vertical-align: top;\n",
       "    }\n",
       "\n",
       "    .dataframe thead th {\n",
       "        text-align: right;\n",
       "    }\n",
       "</style>\n",
       "<table border=\"1\" class=\"dataframe\">\n",
       "  <thead>\n",
       "    <tr style=\"text-align: right;\">\n",
       "      <th></th>\n",
       "      <th>Venue Category</th>\n",
       "      <th>Strength</th>\n",
       "    </tr>\n",
       "  </thead>\n",
       "  <tbody>\n",
       "    <tr>\n",
       "      <th>0</th>\n",
       "      <td>Indian Restaurant</td>\n",
       "      <td>319</td>\n",
       "    </tr>\n",
       "    <tr>\n",
       "      <th>1</th>\n",
       "      <td>Café</td>\n",
       "      <td>119</td>\n",
       "    </tr>\n",
       "    <tr>\n",
       "      <th>2</th>\n",
       "      <td>Fast Food Restaurant</td>\n",
       "      <td>104</td>\n",
       "    </tr>\n",
       "    <tr>\n",
       "      <th>3</th>\n",
       "      <td>Hotel</td>\n",
       "      <td>104</td>\n",
       "    </tr>\n",
       "    <tr>\n",
       "      <th>4</th>\n",
       "      <td>Coffee Shop</td>\n",
       "      <td>83</td>\n",
       "    </tr>\n",
       "  </tbody>\n",
       "</table>\n",
       "</div>"
      ],
      "text/plain": [
       "         Venue Category  Strength\n",
       "0     Indian Restaurant       319\n",
       "1                  Café       119\n",
       "2  Fast Food Restaurant       104\n",
       "3                 Hotel       104\n",
       "4           Coffee Shop        83"
      ]
     },
     "execution_count": 29,
     "metadata": {},
     "output_type": "execute_result"
    }
   ],
   "source": [
    "df1 = pd.DataFrame({'Venue Category':res_df.index[:50]})\n",
    "category_strength=[]\n",
    "for i in range(50):\n",
    "    category_strength.append(res_df['Strength'][i])\n",
    "df2 = pd.DataFrame(category_strength, columns=['Strength'])\n",
    "dff = pd.DataFrame({'Venue Category': df1['Venue Category'], 'Strength': df2['Strength']})\n",
    "dff.head()"
   ]
  },
  {
   "cell_type": "code",
   "execution_count": 30,
   "metadata": {},
   "outputs": [
    {
     "data": {
      "text/plain": [
       "Index(['Indian Restaurant', 'Café', 'Fast Food Restaurant', 'Hotel',\n",
       "       'Coffee Shop', 'Bakery', 'Pizza Place', 'Multiplex', 'Ice Cream Shop',\n",
       "       'Chinese Restaurant', 'Restaurant', 'Vegetarian / Vegan Restaurant',\n",
       "       'Department Store', 'Sandwich Place', 'Dessert Shop', 'Lounge',\n",
       "       'Breakfast Spot', 'Clothing Store', 'Asian Restaurant', 'Movie Theater',\n",
       "       'South Indian Restaurant', 'Snack Place', 'Shopping Mall', 'Hookah Bar',\n",
       "       'Italian Restaurant', 'Juice Bar', 'Bookstore', 'Diner',\n",
       "       'Hyderabadi Restaurant', 'Stadium', 'Park', 'Hotel Bar',\n",
       "       'Middle Eastern Restaurant', 'Food Court', 'Gym', 'Bar', 'Pub',\n",
       "       'Train Station', 'BBQ Joint', 'Bus Station', 'Shoe Store',\n",
       "       'Indie Movie Theater', 'Chaat Place', 'Performing Arts Venue',\n",
       "       'Farmers Market', 'Burger Joint', 'Garden', 'Science Museum',\n",
       "       'Smoke Shop', 'Convenience Store'],\n",
       "      dtype='object', name='Venue Category')"
      ]
     },
     "execution_count": 30,
     "metadata": {},
     "output_type": "execute_result"
    }
   ],
   "source": [
    "#List of 50 most common categories of restuarants in Hyderabad City\n",
    "cat_res_list = res_df.index[0:50]\n",
    "cat_res_list"
   ]
  },
  {
   "cell_type": "code",
   "execution_count": 31,
   "metadata": {},
   "outputs": [],
   "source": [
    "venue_final = venues_df[venues_df['Venue Category'].isin(['Indian Restaurant', 'Café', 'Ice Cream Shop', 'Fast Food Restaurant',\n",
    "       'Pizza Place', 'Coffee Shop', 'Hotel', 'Chinese Restaurant', 'Lounge',\n",
    "       'Italian Restaurant', 'Bakery', 'Pub', 'Restaurant',\n",
    "       'Asian Restaurant', 'Breakfast Spot', 'Bar', 'Brewery', 'Burger Joint',\n",
    "       'Shopping Mall', 'Sandwich Place', 'Vegetarian / Vegan Restaurant',\n",
    "       'BBQ Joint', 'Snack Place', 'Park', 'Juice Bar',\n",
    "       'South Indian Restaurant', 'Tea Room',\n",
    "       'Middle Eastern Restaurant', 'Dessert Shop', 'Donut Shop', 'Bookstore',\n",
    "       'Multiplex', 'Cocktail Bar',\n",
    "       'Seafood Restaurant', 'Mexican Restaurant', 'French Restaurant',\n",
    "       'Andhra Restaurant', 'Korean Restaurant', 'Cupcake Shop',\n",
    "       'Karnataka Restaurant', 'Steakhouse', 'Boutique', 'Liquor Store',\n",
    "       'Arcade', 'Deli / Bodega', 'Bus Station'])]"
   ]
  },
  {
   "cell_type": "markdown",
   "metadata": {},
   "source": [
    "<h3>7. Analyzing the Localities according to the venues</h3>"
   ]
  },
  {
   "cell_type": "code",
   "execution_count": 32,
   "metadata": {},
   "outputs": [
    {
     "data": {
      "text/html": [
       "<div>\n",
       "<style scoped>\n",
       "    .dataframe tbody tr th:only-of-type {\n",
       "        vertical-align: middle;\n",
       "    }\n",
       "\n",
       "    .dataframe tbody tr th {\n",
       "        vertical-align: top;\n",
       "    }\n",
       "\n",
       "    .dataframe thead th {\n",
       "        text-align: right;\n",
       "    }\n",
       "</style>\n",
       "<table border=\"1\" class=\"dataframe\">\n",
       "  <thead>\n",
       "    <tr style=\"text-align: right;\">\n",
       "      <th></th>\n",
       "      <th>Locality</th>\n",
       "      <th>ATM</th>\n",
       "      <th>Accessories Store</th>\n",
       "      <th>Afghan Restaurant</th>\n",
       "      <th>Airport</th>\n",
       "      <th>Airport Food Court</th>\n",
       "      <th>Airport Lounge</th>\n",
       "      <th>Airport Service</th>\n",
       "      <th>American Restaurant</th>\n",
       "      <th>Arcade</th>\n",
       "      <th>...</th>\n",
       "      <th>Supermarket</th>\n",
       "      <th>Taxi Stand</th>\n",
       "      <th>Tea Room</th>\n",
       "      <th>Tech Startup</th>\n",
       "      <th>Temple</th>\n",
       "      <th>Tex-Mex Restaurant</th>\n",
       "      <th>Thai Restaurant</th>\n",
       "      <th>Train Station</th>\n",
       "      <th>Vegetarian / Vegan Restaurant</th>\n",
       "      <th>Wings Joint</th>\n",
       "    </tr>\n",
       "  </thead>\n",
       "  <tbody>\n",
       "    <tr>\n",
       "      <th>0</th>\n",
       "      <td>Abids</td>\n",
       "      <td>0</td>\n",
       "      <td>0</td>\n",
       "      <td>0</td>\n",
       "      <td>0</td>\n",
       "      <td>0</td>\n",
       "      <td>0</td>\n",
       "      <td>0</td>\n",
       "      <td>0</td>\n",
       "      <td>0</td>\n",
       "      <td>...</td>\n",
       "      <td>0</td>\n",
       "      <td>0</td>\n",
       "      <td>0</td>\n",
       "      <td>0</td>\n",
       "      <td>0</td>\n",
       "      <td>0</td>\n",
       "      <td>0</td>\n",
       "      <td>0</td>\n",
       "      <td>0</td>\n",
       "      <td>0</td>\n",
       "    </tr>\n",
       "    <tr>\n",
       "      <th>1</th>\n",
       "      <td>Abids</td>\n",
       "      <td>0</td>\n",
       "      <td>0</td>\n",
       "      <td>0</td>\n",
       "      <td>0</td>\n",
       "      <td>0</td>\n",
       "      <td>0</td>\n",
       "      <td>0</td>\n",
       "      <td>0</td>\n",
       "      <td>0</td>\n",
       "      <td>...</td>\n",
       "      <td>0</td>\n",
       "      <td>0</td>\n",
       "      <td>0</td>\n",
       "      <td>0</td>\n",
       "      <td>0</td>\n",
       "      <td>0</td>\n",
       "      <td>0</td>\n",
       "      <td>0</td>\n",
       "      <td>0</td>\n",
       "      <td>0</td>\n",
       "    </tr>\n",
       "    <tr>\n",
       "      <th>2</th>\n",
       "      <td>Abids</td>\n",
       "      <td>0</td>\n",
       "      <td>0</td>\n",
       "      <td>0</td>\n",
       "      <td>0</td>\n",
       "      <td>0</td>\n",
       "      <td>0</td>\n",
       "      <td>0</td>\n",
       "      <td>0</td>\n",
       "      <td>0</td>\n",
       "      <td>...</td>\n",
       "      <td>0</td>\n",
       "      <td>0</td>\n",
       "      <td>0</td>\n",
       "      <td>0</td>\n",
       "      <td>0</td>\n",
       "      <td>0</td>\n",
       "      <td>0</td>\n",
       "      <td>0</td>\n",
       "      <td>0</td>\n",
       "      <td>0</td>\n",
       "    </tr>\n",
       "    <tr>\n",
       "      <th>3</th>\n",
       "      <td>Abids</td>\n",
       "      <td>0</td>\n",
       "      <td>0</td>\n",
       "      <td>0</td>\n",
       "      <td>0</td>\n",
       "      <td>0</td>\n",
       "      <td>0</td>\n",
       "      <td>0</td>\n",
       "      <td>0</td>\n",
       "      <td>0</td>\n",
       "      <td>...</td>\n",
       "      <td>0</td>\n",
       "      <td>0</td>\n",
       "      <td>0</td>\n",
       "      <td>0</td>\n",
       "      <td>0</td>\n",
       "      <td>0</td>\n",
       "      <td>0</td>\n",
       "      <td>0</td>\n",
       "      <td>0</td>\n",
       "      <td>0</td>\n",
       "    </tr>\n",
       "    <tr>\n",
       "      <th>4</th>\n",
       "      <td>Abids</td>\n",
       "      <td>0</td>\n",
       "      <td>0</td>\n",
       "      <td>0</td>\n",
       "      <td>0</td>\n",
       "      <td>0</td>\n",
       "      <td>0</td>\n",
       "      <td>0</td>\n",
       "      <td>0</td>\n",
       "      <td>0</td>\n",
       "      <td>...</td>\n",
       "      <td>0</td>\n",
       "      <td>0</td>\n",
       "      <td>0</td>\n",
       "      <td>0</td>\n",
       "      <td>0</td>\n",
       "      <td>0</td>\n",
       "      <td>0</td>\n",
       "      <td>0</td>\n",
       "      <td>0</td>\n",
       "      <td>0</td>\n",
       "    </tr>\n",
       "  </tbody>\n",
       "</table>\n",
       "<p>5 rows × 151 columns</p>\n",
       "</div>"
      ],
      "text/plain": [
       "  Locality  ATM  Accessories Store  Afghan Restaurant  Airport  \\\n",
       "0    Abids    0                  0                  0        0   \n",
       "1    Abids    0                  0                  0        0   \n",
       "2    Abids    0                  0                  0        0   \n",
       "3    Abids    0                  0                  0        0   \n",
       "4    Abids    0                  0                  0        0   \n",
       "\n",
       "   Airport Food Court  Airport Lounge  Airport Service  American Restaurant  \\\n",
       "0                   0               0                0                    0   \n",
       "1                   0               0                0                    0   \n",
       "2                   0               0                0                    0   \n",
       "3                   0               0                0                    0   \n",
       "4                   0               0                0                    0   \n",
       "\n",
       "   Arcade  ...  Supermarket  Taxi Stand  Tea Room  Tech Startup  Temple  \\\n",
       "0       0  ...            0           0         0             0       0   \n",
       "1       0  ...            0           0         0             0       0   \n",
       "2       0  ...            0           0         0             0       0   \n",
       "3       0  ...            0           0         0             0       0   \n",
       "4       0  ...            0           0         0             0       0   \n",
       "\n",
       "   Tex-Mex Restaurant  Thai Restaurant  Train Station  \\\n",
       "0                   0                0              0   \n",
       "1                   0                0              0   \n",
       "2                   0                0              0   \n",
       "3                   0                0              0   \n",
       "4                   0                0              0   \n",
       "\n",
       "   Vegetarian / Vegan Restaurant  Wings Joint  \n",
       "0                              0            0  \n",
       "1                              0            0  \n",
       "2                              0            0  \n",
       "3                              0            0  \n",
       "4                              0            0  \n",
       "\n",
       "[5 rows x 151 columns]"
      ]
     },
     "execution_count": 32,
     "metadata": {},
     "output_type": "execute_result"
    }
   ],
   "source": [
    "hyd_onehot = pd.get_dummies(venues_df[['Venue Category']], prefix=\"\", prefix_sep=\"\")\n",
    "\n",
    "hyd_onehot['Locality'] = venues_df['Locality']\n",
    "\n",
    "hyd_onehot = hyd_onehot[ [ 'Locality' ] + [ col for col in hyd_onehot.columns if col!='Locality' ] ]\n",
    "hyd_onehot.head()"
   ]
  },
  {
   "cell_type": "markdown",
   "metadata": {},
   "source": [
    "<h4>Grouping the categories</h4>"
   ]
  },
  {
   "cell_type": "code",
   "execution_count": 33,
   "metadata": {},
   "outputs": [
    {
     "name": "stdout",
     "output_type": "stream",
     "text": [
      "(52, 151)\n"
     ]
    },
    {
     "data": {
      "text/html": [
       "<div>\n",
       "<style scoped>\n",
       "    .dataframe tbody tr th:only-of-type {\n",
       "        vertical-align: middle;\n",
       "    }\n",
       "\n",
       "    .dataframe tbody tr th {\n",
       "        vertical-align: top;\n",
       "    }\n",
       "\n",
       "    .dataframe thead th {\n",
       "        text-align: right;\n",
       "    }\n",
       "</style>\n",
       "<table border=\"1\" class=\"dataframe\">\n",
       "  <thead>\n",
       "    <tr style=\"text-align: right;\">\n",
       "      <th></th>\n",
       "      <th>Locality</th>\n",
       "      <th>ATM</th>\n",
       "      <th>Accessories Store</th>\n",
       "      <th>Afghan Restaurant</th>\n",
       "      <th>Airport</th>\n",
       "      <th>Airport Food Court</th>\n",
       "      <th>Airport Lounge</th>\n",
       "      <th>Airport Service</th>\n",
       "      <th>American Restaurant</th>\n",
       "      <th>Arcade</th>\n",
       "      <th>...</th>\n",
       "      <th>Supermarket</th>\n",
       "      <th>Taxi Stand</th>\n",
       "      <th>Tea Room</th>\n",
       "      <th>Tech Startup</th>\n",
       "      <th>Temple</th>\n",
       "      <th>Tex-Mex Restaurant</th>\n",
       "      <th>Thai Restaurant</th>\n",
       "      <th>Train Station</th>\n",
       "      <th>Vegetarian / Vegan Restaurant</th>\n",
       "      <th>Wings Joint</th>\n",
       "    </tr>\n",
       "  </thead>\n",
       "  <tbody>\n",
       "    <tr>\n",
       "      <th>0</th>\n",
       "      <td>Abids</td>\n",
       "      <td>0.00</td>\n",
       "      <td>0.0</td>\n",
       "      <td>0.00</td>\n",
       "      <td>0.0</td>\n",
       "      <td>0.0</td>\n",
       "      <td>0.0</td>\n",
       "      <td>0.0</td>\n",
       "      <td>0.00</td>\n",
       "      <td>0.0</td>\n",
       "      <td>...</td>\n",
       "      <td>0.0</td>\n",
       "      <td>0.0</td>\n",
       "      <td>0.012195</td>\n",
       "      <td>0.0</td>\n",
       "      <td>0.00</td>\n",
       "      <td>0.0</td>\n",
       "      <td>0.00</td>\n",
       "      <td>0.0</td>\n",
       "      <td>0.012195</td>\n",
       "      <td>0.0</td>\n",
       "    </tr>\n",
       "    <tr>\n",
       "      <th>1</th>\n",
       "      <td>Alwal</td>\n",
       "      <td>0.25</td>\n",
       "      <td>0.0</td>\n",
       "      <td>0.00</td>\n",
       "      <td>0.0</td>\n",
       "      <td>0.0</td>\n",
       "      <td>0.0</td>\n",
       "      <td>0.0</td>\n",
       "      <td>0.00</td>\n",
       "      <td>0.0</td>\n",
       "      <td>...</td>\n",
       "      <td>0.0</td>\n",
       "      <td>0.0</td>\n",
       "      <td>0.000000</td>\n",
       "      <td>0.0</td>\n",
       "      <td>0.00</td>\n",
       "      <td>0.0</td>\n",
       "      <td>0.00</td>\n",
       "      <td>0.0</td>\n",
       "      <td>0.000000</td>\n",
       "      <td>0.0</td>\n",
       "    </tr>\n",
       "    <tr>\n",
       "      <th>2</th>\n",
       "      <td>Ameerpet, Hyderabad</td>\n",
       "      <td>0.00</td>\n",
       "      <td>0.0</td>\n",
       "      <td>0.00</td>\n",
       "      <td>0.0</td>\n",
       "      <td>0.0</td>\n",
       "      <td>0.0</td>\n",
       "      <td>0.0</td>\n",
       "      <td>0.01</td>\n",
       "      <td>0.0</td>\n",
       "      <td>...</td>\n",
       "      <td>0.0</td>\n",
       "      <td>0.0</td>\n",
       "      <td>0.000000</td>\n",
       "      <td>0.0</td>\n",
       "      <td>0.00</td>\n",
       "      <td>0.0</td>\n",
       "      <td>0.01</td>\n",
       "      <td>0.0</td>\n",
       "      <td>0.050000</td>\n",
       "      <td>0.0</td>\n",
       "    </tr>\n",
       "    <tr>\n",
       "      <th>3</th>\n",
       "      <td>Bandlaguda, Rangareddy</td>\n",
       "      <td>0.00</td>\n",
       "      <td>0.0</td>\n",
       "      <td>0.25</td>\n",
       "      <td>0.0</td>\n",
       "      <td>0.0</td>\n",
       "      <td>0.0</td>\n",
       "      <td>0.0</td>\n",
       "      <td>0.00</td>\n",
       "      <td>0.0</td>\n",
       "      <td>...</td>\n",
       "      <td>0.0</td>\n",
       "      <td>0.0</td>\n",
       "      <td>0.000000</td>\n",
       "      <td>0.0</td>\n",
       "      <td>0.00</td>\n",
       "      <td>0.0</td>\n",
       "      <td>0.00</td>\n",
       "      <td>0.0</td>\n",
       "      <td>0.000000</td>\n",
       "      <td>0.0</td>\n",
       "    </tr>\n",
       "    <tr>\n",
       "      <th>4</th>\n",
       "      <td>Banjara Hills</td>\n",
       "      <td>0.00</td>\n",
       "      <td>0.0</td>\n",
       "      <td>0.00</td>\n",
       "      <td>0.0</td>\n",
       "      <td>0.0</td>\n",
       "      <td>0.0</td>\n",
       "      <td>0.0</td>\n",
       "      <td>0.02</td>\n",
       "      <td>0.0</td>\n",
       "      <td>...</td>\n",
       "      <td>0.0</td>\n",
       "      <td>0.0</td>\n",
       "      <td>0.000000</td>\n",
       "      <td>0.0</td>\n",
       "      <td>0.01</td>\n",
       "      <td>0.0</td>\n",
       "      <td>0.00</td>\n",
       "      <td>0.0</td>\n",
       "      <td>0.010000</td>\n",
       "      <td>0.0</td>\n",
       "    </tr>\n",
       "  </tbody>\n",
       "</table>\n",
       "<p>5 rows × 151 columns</p>\n",
       "</div>"
      ],
      "text/plain": [
       "                 Locality   ATM  Accessories Store  Afghan Restaurant  \\\n",
       "0                   Abids  0.00                0.0               0.00   \n",
       "1                   Alwal  0.25                0.0               0.00   \n",
       "2     Ameerpet, Hyderabad  0.00                0.0               0.00   \n",
       "3  Bandlaguda, Rangareddy  0.00                0.0               0.25   \n",
       "4           Banjara Hills  0.00                0.0               0.00   \n",
       "\n",
       "   Airport  Airport Food Court  Airport Lounge  Airport Service  \\\n",
       "0      0.0                 0.0             0.0              0.0   \n",
       "1      0.0                 0.0             0.0              0.0   \n",
       "2      0.0                 0.0             0.0              0.0   \n",
       "3      0.0                 0.0             0.0              0.0   \n",
       "4      0.0                 0.0             0.0              0.0   \n",
       "\n",
       "   American Restaurant  Arcade  ...  Supermarket  Taxi Stand  Tea Room  \\\n",
       "0                 0.00     0.0  ...          0.0         0.0  0.012195   \n",
       "1                 0.00     0.0  ...          0.0         0.0  0.000000   \n",
       "2                 0.01     0.0  ...          0.0         0.0  0.000000   \n",
       "3                 0.00     0.0  ...          0.0         0.0  0.000000   \n",
       "4                 0.02     0.0  ...          0.0         0.0  0.000000   \n",
       "\n",
       "   Tech Startup  Temple  Tex-Mex Restaurant  Thai Restaurant  Train Station  \\\n",
       "0           0.0    0.00                 0.0             0.00            0.0   \n",
       "1           0.0    0.00                 0.0             0.00            0.0   \n",
       "2           0.0    0.00                 0.0             0.01            0.0   \n",
       "3           0.0    0.00                 0.0             0.00            0.0   \n",
       "4           0.0    0.01                 0.0             0.00            0.0   \n",
       "\n",
       "   Vegetarian / Vegan Restaurant  Wings Joint  \n",
       "0                       0.012195          0.0  \n",
       "1                       0.000000          0.0  \n",
       "2                       0.050000          0.0  \n",
       "3                       0.000000          0.0  \n",
       "4                       0.010000          0.0  \n",
       "\n",
       "[5 rows x 151 columns]"
      ]
     },
     "execution_count": 33,
     "metadata": {},
     "output_type": "execute_result"
    }
   ],
   "source": [
    "hyd_grouped = hyd_onehot.groupby(['Locality']).mean().reset_index()\n",
    "print(hyd_grouped.shape)\n",
    "hyd_grouped.head()"
   ]
  },
  {
   "cell_type": "code",
   "execution_count": 34,
   "metadata": {},
   "outputs": [
    {
     "data": {
      "text/plain": [
       "8"
      ]
     },
     "execution_count": 34,
     "metadata": {},
     "output_type": "execute_result"
    }
   ],
   "source": [
    "#numbers of localities having Italian Restaurants\n",
    "len(hyd_grouped[hyd_grouped['Italian Restaurant'] > 0])"
   ]
  },
  {
   "cell_type": "code",
   "execution_count": 37,
   "metadata": {},
   "outputs": [
    {
     "data": {
      "text/html": [
       "<div>\n",
       "<style scoped>\n",
       "    .dataframe tbody tr th:only-of-type {\n",
       "        vertical-align: middle;\n",
       "    }\n",
       "\n",
       "    .dataframe tbody tr th {\n",
       "        vertical-align: top;\n",
       "    }\n",
       "\n",
       "    .dataframe thead th {\n",
       "        text-align: right;\n",
       "    }\n",
       "</style>\n",
       "<table border=\"1\" class=\"dataframe\">\n",
       "  <thead>\n",
       "    <tr style=\"text-align: right;\">\n",
       "      <th></th>\n",
       "      <th>Locality</th>\n",
       "      <th>Italian Restaurant</th>\n",
       "    </tr>\n",
       "  </thead>\n",
       "  <tbody>\n",
       "    <tr>\n",
       "      <th>0</th>\n",
       "      <td>Abids</td>\n",
       "      <td>0.00</td>\n",
       "    </tr>\n",
       "    <tr>\n",
       "      <th>1</th>\n",
       "      <td>Alwal</td>\n",
       "      <td>0.00</td>\n",
       "    </tr>\n",
       "    <tr>\n",
       "      <th>2</th>\n",
       "      <td>Ameerpet, Hyderabad</td>\n",
       "      <td>0.00</td>\n",
       "    </tr>\n",
       "    <tr>\n",
       "      <th>3</th>\n",
       "      <td>Bandlaguda, Rangareddy</td>\n",
       "      <td>0.00</td>\n",
       "    </tr>\n",
       "    <tr>\n",
       "      <th>4</th>\n",
       "      <td>Banjara Hills</td>\n",
       "      <td>0.04</td>\n",
       "    </tr>\n",
       "  </tbody>\n",
       "</table>\n",
       "</div>"
      ],
      "text/plain": [
       "                 Locality  Italian Restaurant\n",
       "0                   Abids                0.00\n",
       "1                   Alwal                0.00\n",
       "2     Ameerpet, Hyderabad                0.00\n",
       "3  Bandlaguda, Rangareddy                0.00\n",
       "4           Banjara Hills                0.04"
      ]
     },
     "execution_count": 37,
     "metadata": {},
     "output_type": "execute_result"
    }
   ],
   "source": [
    "hyd_italian = hyd_grouped[['Locality', 'Italian Restaurant']]\n",
    "hyd_italian.head()"
   ]
  },
  {
   "cell_type": "code",
   "execution_count": 38,
   "metadata": {},
   "outputs": [
    {
     "data": {
      "text/html": [
       "<div style=\"width:100%;\"><div style=\"position:relative;width:100%;height:0;padding-bottom:60%;\"><span style=\"color:#565656\">Make this Notebook Trusted to load map: File -> Trust Notebook</span><iframe src=\"about:blank\" style=\"position:absolute;width:100%;height:100%;left:0;top:0;border:none !important;\" data-html=PCFET0NUWVBFIGh0bWw+CjxoZWFkPiAgICAKICAgIDxtZXRhIGh0dHAtZXF1aXY9ImNvbnRlbnQtdHlwZSIgY29udGVudD0idGV4dC9odG1sOyBjaGFyc2V0PVVURi04IiAvPgogICAgCiAgICAgICAgPHNjcmlwdD4KICAgICAgICAgICAgTF9OT19UT1VDSCA9IGZhbHNlOwogICAgICAgICAgICBMX0RJU0FCTEVfM0QgPSBmYWxzZTsKICAgICAgICA8L3NjcmlwdD4KICAgIAogICAgPHNjcmlwdCBzcmM9Imh0dHBzOi8vY2RuLmpzZGVsaXZyLm5ldC9ucG0vbGVhZmxldEAxLjYuMC9kaXN0L2xlYWZsZXQuanMiPjwvc2NyaXB0PgogICAgPHNjcmlwdCBzcmM9Imh0dHBzOi8vY29kZS5qcXVlcnkuY29tL2pxdWVyeS0xLjEyLjQubWluLmpzIj48L3NjcmlwdD4KICAgIDxzY3JpcHQgc3JjPSJodHRwczovL21heGNkbi5ib290c3RyYXBjZG4uY29tL2Jvb3RzdHJhcC8zLjIuMC9qcy9ib290c3RyYXAubWluLmpzIj48L3NjcmlwdD4KICAgIDxzY3JpcHQgc3JjPSJodHRwczovL2NkbmpzLmNsb3VkZmxhcmUuY29tL2FqYXgvbGlicy9MZWFmbGV0LmF3ZXNvbWUtbWFya2Vycy8yLjAuMi9sZWFmbGV0LmF3ZXNvbWUtbWFya2Vycy5qcyI+PC9zY3JpcHQ+CiAgICA8bGluayByZWw9InN0eWxlc2hlZXQiIGhyZWY9Imh0dHBzOi8vY2RuLmpzZGVsaXZyLm5ldC9ucG0vbGVhZmxldEAxLjYuMC9kaXN0L2xlYWZsZXQuY3NzIi8+CiAgICA8bGluayByZWw9InN0eWxlc2hlZXQiIGhyZWY9Imh0dHBzOi8vbWF4Y2RuLmJvb3RzdHJhcGNkbi5jb20vYm9vdHN0cmFwLzMuMi4wL2Nzcy9ib290c3RyYXAubWluLmNzcyIvPgogICAgPGxpbmsgcmVsPSJzdHlsZXNoZWV0IiBocmVmPSJodHRwczovL21heGNkbi5ib290c3RyYXBjZG4uY29tL2Jvb3RzdHJhcC8zLjIuMC9jc3MvYm9vdHN0cmFwLXRoZW1lLm1pbi5jc3MiLz4KICAgIDxsaW5rIHJlbD0ic3R5bGVzaGVldCIgaHJlZj0iaHR0cHM6Ly9tYXhjZG4uYm9vdHN0cmFwY2RuLmNvbS9mb250LWF3ZXNvbWUvNC42LjMvY3NzL2ZvbnQtYXdlc29tZS5taW4uY3NzIi8+CiAgICA8bGluayByZWw9InN0eWxlc2hlZXQiIGhyZWY9Imh0dHBzOi8vY2RuanMuY2xvdWRmbGFyZS5jb20vYWpheC9saWJzL0xlYWZsZXQuYXdlc29tZS1tYXJrZXJzLzIuMC4yL2xlYWZsZXQuYXdlc29tZS1tYXJrZXJzLmNzcyIvPgogICAgPGxpbmsgcmVsPSJzdHlsZXNoZWV0IiBocmVmPSJodHRwczovL3Jhd2Nkbi5naXRoYWNrLmNvbS9weXRob24tdmlzdWFsaXphdGlvbi9mb2xpdW0vbWFzdGVyL2ZvbGl1bS90ZW1wbGF0ZXMvbGVhZmxldC5hd2Vzb21lLnJvdGF0ZS5jc3MiLz4KICAgIDxzdHlsZT5odG1sLCBib2R5IHt3aWR0aDogMTAwJTtoZWlnaHQ6IDEwMCU7bWFyZ2luOiAwO3BhZGRpbmc6IDA7fTwvc3R5bGU+CiAgICA8c3R5bGU+I21hcCB7cG9zaXRpb246YWJzb2x1dGU7dG9wOjA7Ym90dG9tOjA7cmlnaHQ6MDtsZWZ0OjA7fTwvc3R5bGU+CiAgICAKICAgICAgICAgICAgPG1ldGEgbmFtZT0idmlld3BvcnQiIGNvbnRlbnQ9IndpZHRoPWRldmljZS13aWR0aCwKICAgICAgICAgICAgICAgIGluaXRpYWwtc2NhbGU9MS4wLCBtYXhpbXVtLXNjYWxlPTEuMCwgdXNlci1zY2FsYWJsZT1ubyIgLz4KICAgICAgICAgICAgPHN0eWxlPgogICAgICAgICAgICAgICAgI21hcF8zMTJlZTc0MzUwM2I0ZDkwODY5M2E0ZDA2MWRjZGY2MiB7CiAgICAgICAgICAgICAgICAgICAgcG9zaXRpb246IHJlbGF0aXZlOwogICAgICAgICAgICAgICAgICAgIHdpZHRoOiAxMDAuMCU7CiAgICAgICAgICAgICAgICAgICAgaGVpZ2h0OiAxMDAuMCU7CiAgICAgICAgICAgICAgICAgICAgbGVmdDogMC4wJTsKICAgICAgICAgICAgICAgICAgICB0b3A6IDAuMCU7CiAgICAgICAgICAgICAgICB9CiAgICAgICAgICAgIDwvc3R5bGU+CiAgICAgICAgCjwvaGVhZD4KPGJvZHk+ICAgIAogICAgCiAgICAgICAgICAgIDxkaXYgY2xhc3M9ImZvbGl1bS1tYXAiIGlkPSJtYXBfMzEyZWU3NDM1MDNiNGQ5MDg2OTNhNGQwNjFkY2RmNjIiID48L2Rpdj4KICAgICAgICAKPC9ib2R5Pgo8c2NyaXB0PiAgICAKICAgIAogICAgICAgICAgICB2YXIgbWFwXzMxMmVlNzQzNTAzYjRkOTA4NjkzYTRkMDYxZGNkZjYyID0gTC5tYXAoCiAgICAgICAgICAgICAgICAibWFwXzMxMmVlNzQzNTAzYjRkOTA4NjkzYTRkMDYxZGNkZjYyIiwKICAgICAgICAgICAgICAgIHsKICAgICAgICAgICAgICAgICAgICBjZW50ZXI6IFsxNy4zOTQ4NzAwMDAwMDAwMjYsIDc4LjQ3MDc2MDAwMDAwMDA0XSwKICAgICAgICAgICAgICAgICAgICBjcnM6IEwuQ1JTLkVQU0czODU3LAogICAgICAgICAgICAgICAgICAgIHpvb206IDExLAogICAgICAgICAgICAgICAgICAgIHpvb21Db250cm9sOiB0cnVlLAogICAgICAgICAgICAgICAgICAgIHByZWZlckNhbnZhczogZmFsc2UsCiAgICAgICAgICAgICAgICB9CiAgICAgICAgICAgICk7CgogICAgICAgICAgICAKCiAgICAgICAgCiAgICAKICAgICAgICAgICAgdmFyIHRpbGVfbGF5ZXJfMTQyNDZiZjEzYzRkNGE5NDhiNTc0ZDBhMzM2MGYxMGIgPSBMLnRpbGVMYXllcigKICAgICAgICAgICAgICAgICJodHRwczovL3tzfS50aWxlLm9wZW5zdHJlZXRtYXAub3JnL3t6fS97eH0ve3l9LnBuZyIsCiAgICAgICAgICAgICAgICB7ImF0dHJpYnV0aW9uIjogIkRhdGEgYnkgXHUwMDI2Y29weTsgXHUwMDNjYSBocmVmPVwiaHR0cDovL29wZW5zdHJlZXRtYXAub3JnXCJcdTAwM2VPcGVuU3RyZWV0TWFwXHUwMDNjL2FcdTAwM2UsIHVuZGVyIFx1MDAzY2EgaHJlZj1cImh0dHA6Ly93d3cub3BlbnN0cmVldG1hcC5vcmcvY29weXJpZ2h0XCJcdTAwM2VPRGJMXHUwMDNjL2FcdTAwM2UuIiwgImRldGVjdFJldGluYSI6IGZhbHNlLCAibWF4TmF0aXZlWm9vbSI6IDE4LCAibWF4Wm9vbSI6IDE4LCAibWluWm9vbSI6IDAsICJub1dyYXAiOiBmYWxzZSwgIm9wYWNpdHkiOiAxLCAic3ViZG9tYWlucyI6ICJhYmMiLCAidG1zIjogZmFsc2V9CiAgICAgICAgICAgICkuYWRkVG8obWFwXzMxMmVlNzQzNTAzYjRkOTA4NjkzYTRkMDYxZGNkZjYyKTsKICAgICAgICAKICAgIAogICAgICAgICAgICB2YXIgbWFya2VyX2I4ODc5ZTcwNDg5YzRkYmRhZWZjMTczN2ExNjU1ZDkzID0gTC5tYXJrZXIoCiAgICAgICAgICAgICAgICBbMTcuMzk0ODcwMDAwMDAwMDI2LCA3OC40NzA3NjAwMDAwMDAwNF0sCiAgICAgICAgICAgICAgICB7ImNvbG9yIjogInJlZCJ9CiAgICAgICAgICAgICkuYWRkVG8obWFwXzMxMmVlNzQzNTAzYjRkOTA4NjkzYTRkMDYxZGNkZjYyKTsKICAgICAgICAKICAgIAogICAgICAgIHZhciBwb3B1cF84MDBhZDg3YmVlNzc0MmZiYjE2N2IwZjg2NjY2MmJiMiA9IEwucG9wdXAoeyJtYXhXaWR0aCI6ICIxMDAlIn0pOwoKICAgICAgICAKICAgICAgICAgICAgdmFyIGh0bWxfYTBiNmRlYTAyMDZhNDI0YWEwZjA3MjM4NWMxYmNjNDggPSAkKGA8ZGl2IGlkPSJodG1sX2EwYjZkZWEwMjA2YTQyNGFhMGYwNzIzODVjMWJjYzQ4IiBzdHlsZT0id2lkdGg6IDEwMC4wJTsgaGVpZ2h0OiAxMDAuMCU7Ij48aT5IeWRlcmFiYWQ8L2k+PC9kaXY+YClbMF07CiAgICAgICAgICAgIHBvcHVwXzgwMGFkODdiZWU3NzQyZmJiMTY3YjBmODY2NjYyYmIyLnNldENvbnRlbnQoaHRtbF9hMGI2ZGVhMDIwNmE0MjRhYTBmMDcyMzg1YzFiY2M0OCk7CiAgICAgICAgCgogICAgICAgIG1hcmtlcl9iODg3OWU3MDQ4OWM0ZGJkYWVmYzE3MzdhMTY1NWQ5My5iaW5kUG9wdXAocG9wdXBfODAwYWQ4N2JlZTc3NDJmYmIxNjdiMGY4NjY2NjJiYjIpCiAgICAgICAgOwoKICAgICAgICAKICAgIAogICAgCiAgICAgICAgICAgIG1hcmtlcl9iODg3OWU3MDQ4OWM0ZGJkYWVmYzE3MzdhMTY1NWQ5My5iaW5kVG9vbHRpcCgKICAgICAgICAgICAgICAgIGA8ZGl2PgogICAgICAgICAgICAgICAgICAgICBDbGljayB0byBzZWUKICAgICAgICAgICAgICAgICA8L2Rpdj5gLAogICAgICAgICAgICAgICAgeyJzdGlja3kiOiB0cnVlfQogICAgICAgICAgICApOwogICAgICAgIAogICAgCiAgICAgICAgICAgIHZhciBjaXJjbGVfbWFya2VyXzY0OTQ4ZTEzMDBmMzRhMDdiNGJhYjc5ZDg4MzY5YzY1ID0gTC5jaXJjbGVNYXJrZXIoCiAgICAgICAgICAgICAgICBbMTcuMzg5ODAwMDAwMDAwMDM3LCA3OC40NzY1ODAwMDAwMDAwN10sCiAgICAgICAgICAgICAgICB7ImJ1YmJsaW5nTW91c2VFdmVudHMiOiB0cnVlLCAiY29sb3IiOiAiZ3JlZW4iLCAiZGFzaEFycmF5IjogbnVsbCwgImRhc2hPZmZzZXQiOiBudWxsLCAiZmlsbCI6IHRydWUsICJmaWxsQ29sb3IiOiAiIzMxODZmZiIsICJmaWxsT3BhY2l0eSI6IDAuMiwgImZpbGxSdWxlIjogImV2ZW5vZGQiLCAibGluZUNhcCI6ICJyb3VuZCIsICJsaW5lSm9pbiI6ICJyb3VuZCIsICJvcGFjaXR5IjogMS4wLCAic3Ryb2tlIjogdHJ1ZSwgIndlaWdodCI6IDN9CiAgICAgICAgICAgICkuYWRkVG8obWFwXzMxMmVlNzQzNTAzYjRkOTA4NjkzYTRkMDYxZGNkZjYyKTsKICAgICAgICAKICAgIAogICAgICAgIHZhciBwb3B1cF82OWRmNmZkMDAwM2U0MzZkYmE3NWYxMTlkZjc0YTNiZiA9IEwucG9wdXAoeyJtYXhXaWR0aCI6ICIxMDAlIn0pOwoKICAgICAgICAKICAgICAgICAgICAgdmFyIGh0bWxfMGI5NTkyYTIxOGYyNGUxN2FjMjEyMzI2ZThhNmIwMTEgPSAkKGA8ZGl2IGlkPSJodG1sXzBiOTU5MmEyMThmMjRlMTdhYzIxMjMyNmU4YTZiMDExIiBzdHlsZT0id2lkdGg6IDEwMC4wJTsgaGVpZ2h0OiAxMDAuMCU7Ij5BYmlkczwvZGl2PmApWzBdOwogICAgICAgICAgICBwb3B1cF82OWRmNmZkMDAwM2U0MzZkYmE3NWYxMTlkZjc0YTNiZi5zZXRDb250ZW50KGh0bWxfMGI5NTkyYTIxOGYyNGUxN2FjMjEyMzI2ZThhNmIwMTEpOwogICAgICAgIAoKICAgICAgICBjaXJjbGVfbWFya2VyXzY0OTQ4ZTEzMDBmMzRhMDdiNGJhYjc5ZDg4MzY5YzY1LmJpbmRQb3B1cChwb3B1cF82OWRmNmZkMDAwM2U0MzZkYmE3NWYxMTlkZjc0YTNiZikKICAgICAgICA7CgogICAgICAgIAogICAgCiAgICAKICAgICAgICAgICAgdmFyIGNpcmNsZV9tYXJrZXJfYmMzZjc2ZjRmNjY2NGUwNGJjYjUzMGVhZDNjM2MxNzEgPSBMLmNpcmNsZU1hcmtlcigKICAgICAgICAgICAgICAgIFsxNy41MzU0MzAwMDAwMDAwNzYsIDc4LjU0NDI3MDAwMDAwMDA0XSwKICAgICAgICAgICAgICAgIHsiYnViYmxpbmdNb3VzZUV2ZW50cyI6IHRydWUsICJjb2xvciI6ICJncmVlbiIsICJkYXNoQXJyYXkiOiBudWxsLCAiZGFzaE9mZnNldCI6IG51bGwsICJmaWxsIjogdHJ1ZSwgImZpbGxDb2xvciI6ICIjMzE4NmZmIiwgImZpbGxPcGFjaXR5IjogMC4yLCAiZmlsbFJ1bGUiOiAiZXZlbm9kZCIsICJsaW5lQ2FwIjogInJvdW5kIiwgImxpbmVKb2luIjogInJvdW5kIiwgIm9wYWNpdHkiOiAxLjAsICJzdHJva2UiOiB0cnVlLCAid2VpZ2h0IjogM30KICAgICAgICAgICAgKS5hZGRUbyhtYXBfMzEyZWU3NDM1MDNiNGQ5MDg2OTNhNGQwNjFkY2RmNjIpOwogICAgICAgIAogICAgCiAgICAgICAgdmFyIHBvcHVwXzAzNTIxZTAyMjY5MTRkNWNiOTZhMGZlNGE3M2VlODFmID0gTC5wb3B1cCh7Im1heFdpZHRoIjogIjEwMCUifSk7CgogICAgICAgIAogICAgICAgICAgICB2YXIgaHRtbF9lMzIzNTRkNmI5OTc0YjU4YmNjY2Q4MDM0MWNmZDEwOSA9ICQoYDxkaXYgaWQ9Imh0bWxfZTMyMzU0ZDZiOTk3NGI1OGJjY2NkODAzNDFjZmQxMDkiIHN0eWxlPSJ3aWR0aDogMTAwLjAlOyBoZWlnaHQ6IDEwMC4wJTsiPkFsd2FsPC9kaXY+YClbMF07CiAgICAgICAgICAgIHBvcHVwXzAzNTIxZTAyMjY5MTRkNWNiOTZhMGZlNGE3M2VlODFmLnNldENvbnRlbnQoaHRtbF9lMzIzNTRkNmI5OTc0YjU4YmNjY2Q4MDM0MWNmZDEwOSk7CiAgICAgICAgCgogICAgICAgIGNpcmNsZV9tYXJrZXJfYmMzZjc2ZjRmNjY2NGUwNGJjYjUzMGVhZDNjM2MxNzEuYmluZFBvcHVwKHBvcHVwXzAzNTIxZTAyMjY5MTRkNWNiOTZhMGZlNGE3M2VlODFmKQogICAgICAgIDsKCiAgICAgICAgCiAgICAKICAgIAogICAgICAgICAgICB2YXIgY2lyY2xlX21hcmtlcl9kNmM2Y2NmZmI1YmE0YTdjYmRlODVhZTQxYmYwNTUzYiA9IEwuY2lyY2xlTWFya2VyKAogICAgICAgICAgICAgICAgWzE3LjQzNTM1MDAwMDAwMDAyOCwgNzguNDQ4NjEwMDAwMDAwMDNdLAogICAgICAgICAgICAgICAgeyJidWJibGluZ01vdXNlRXZlbnRzIjogdHJ1ZSwgImNvbG9yIjogImdyZWVuIiwgImRhc2hBcnJheSI6IG51bGwsICJkYXNoT2Zmc2V0IjogbnVsbCwgImZpbGwiOiB0cnVlLCAiZmlsbENvbG9yIjogIiMzMTg2ZmYiLCAiZmlsbE9wYWNpdHkiOiAwLjIsICJmaWxsUnVsZSI6ICJldmVub2RkIiwgImxpbmVDYXAiOiAicm91bmQiLCAibGluZUpvaW4iOiAicm91bmQiLCAib3BhY2l0eSI6IDEuMCwgInN0cm9rZSI6IHRydWUsICJ3ZWlnaHQiOiAzfQogICAgICAgICAgICApLmFkZFRvKG1hcF8zMTJlZTc0MzUwM2I0ZDkwODY5M2E0ZDA2MWRjZGY2Mik7CiAgICAgICAgCiAgICAKICAgICAgICB2YXIgcG9wdXBfZDFkNDNkZDU4NTI1NGE4NmI2ZGJkOWJkYzhjZDZjYTAgPSBMLnBvcHVwKHsibWF4V2lkdGgiOiAiMTAwJSJ9KTsKCiAgICAgICAgCiAgICAgICAgICAgIHZhciBodG1sXzc0N2JhZjdmYmJkMDRkZDlhMDE1MGNmYjI3MmE4ZmE0ID0gJChgPGRpdiBpZD0iaHRtbF83NDdiYWY3ZmJiZDA0ZGQ5YTAxNTBjZmIyNzJhOGZhNCIgc3R5bGU9IndpZHRoOiAxMDAuMCU7IGhlaWdodDogMTAwLjAlOyI+QW1lZXJwZXQsIEh5ZGVyYWJhZDwvZGl2PmApWzBdOwogICAgICAgICAgICBwb3B1cF9kMWQ0M2RkNTg1MjU0YTg2YjZkYmQ5YmRjOGNkNmNhMC5zZXRDb250ZW50KGh0bWxfNzQ3YmFmN2ZiYmQwNGRkOWEwMTUwY2ZiMjcyYThmYTQpOwogICAgICAgIAoKICAgICAgICBjaXJjbGVfbWFya2VyX2Q2YzZjY2ZmYjViYTRhN2NiZGU4NWFlNDFiZjA1NTNiLmJpbmRQb3B1cChwb3B1cF9kMWQ0M2RkNTg1MjU0YTg2YjZkYmQ5YmRjOGNkNmNhMCkKICAgICAgICA7CgogICAgICAgIAogICAgCiAgICAKICAgICAgICAgICAgdmFyIGNpcmNsZV9tYXJrZXJfMDkwNmJkNmJmYjg0NDE5YjkzZDg1ZmNhMTQ1YWEzZTEgPSBMLmNpcmNsZU1hcmtlcigKICAgICAgICAgICAgICAgIFsxNy4yOTk4MjAwMDAwMDAwNjgsIDc4LjQ2NDk1MDAwMDAwMDA0XSwKICAgICAgICAgICAgICAgIHsiYnViYmxpbmdNb3VzZUV2ZW50cyI6IHRydWUsICJjb2xvciI6ICJncmVlbiIsICJkYXNoQXJyYXkiOiBudWxsLCAiZGFzaE9mZnNldCI6IG51bGwsICJmaWxsIjogdHJ1ZSwgImZpbGxDb2xvciI6ICIjMzE4NmZmIiwgImZpbGxPcGFjaXR5IjogMC4yLCAiZmlsbFJ1bGUiOiAiZXZlbm9kZCIsICJsaW5lQ2FwIjogInJvdW5kIiwgImxpbmVKb2luIjogInJvdW5kIiwgIm9wYWNpdHkiOiAxLjAsICJzdHJva2UiOiB0cnVlLCAid2VpZ2h0IjogM30KICAgICAgICAgICAgKS5hZGRUbyhtYXBfMzEyZWU3NDM1MDNiNGQ5MDg2OTNhNGQwNjFkY2RmNjIpOwogICAgICAgIAogICAgCiAgICAgICAgdmFyIHBvcHVwXzlkZDVjNGYxN2I5NzQ5NTU4Y2Q5Y2Q0MmNjNzBiZThiID0gTC5wb3B1cCh7Im1heFdpZHRoIjogIjEwMCUifSk7CgogICAgICAgIAogICAgICAgICAgICB2YXIgaHRtbF8xNzI1OWIyMTdjMTg0NWUwYmYyMGI3NGIyODlhYWNiOSA9ICQoYDxkaXYgaWQ9Imh0bWxfMTcyNTliMjE3YzE4NDVlMGJmMjBiNzRiMjg5YWFjYjkiIHN0eWxlPSJ3aWR0aDogMTAwLjAlOyBoZWlnaHQ6IDEwMC4wJTsiPkJhbmRsYWd1ZGEsIFJhbmdhcmVkZHk8L2Rpdj5gKVswXTsKICAgICAgICAgICAgcG9wdXBfOWRkNWM0ZjE3Yjk3NDk1NThjZDljZDQyY2M3MGJlOGIuc2V0Q29udGVudChodG1sXzE3MjU5YjIxN2MxODQ1ZTBiZjIwYjc0YjI4OWFhY2I5KTsKICAgICAgICAKCiAgICAgICAgY2lyY2xlX21hcmtlcl8wOTA2YmQ2YmZiODQ0MTliOTNkODVmY2ExNDVhYTNlMS5iaW5kUG9wdXAocG9wdXBfOWRkNWM0ZjE3Yjk3NDk1NThjZDljZDQyY2M3MGJlOGIpCiAgICAgICAgOwoKICAgICAgICAKICAgIAogICAgCiAgICAgICAgICAgIHZhciBjaXJjbGVfbWFya2VyXzA1NDU4MjVkZjJhYzRkY2JhMDQwODkxYjc5MTk0ZDczID0gTC5jaXJjbGVNYXJrZXIoCiAgICAgICAgICAgICAgICBbMTcuNDE1MzUwMDAwMDAwMDQ2LCA3OC40MzQzNTAwMDAwMDAwNV0sCiAgICAgICAgICAgICAgICB7ImJ1YmJsaW5nTW91c2VFdmVudHMiOiB0cnVlLCAiY29sb3IiOiAiZ3JlZW4iLCAiZGFzaEFycmF5IjogbnVsbCwgImRhc2hPZmZzZXQiOiBudWxsLCAiZmlsbCI6IHRydWUsICJmaWxsQ29sb3IiOiAiIzMxODZmZiIsICJmaWxsT3BhY2l0eSI6IDAuMiwgImZpbGxSdWxlIjogImV2ZW5vZGQiLCAibGluZUNhcCI6ICJyb3VuZCIsICJsaW5lSm9pbiI6ICJyb3VuZCIsICJvcGFjaXR5IjogMS4wLCAicmFkaXVzIjogMTIuMCwgInN0cm9rZSI6IHRydWUsICJ3ZWlnaHQiOiAzfQogICAgICAgICAgICApLmFkZFRvKG1hcF8zMTJlZTc0MzUwM2I0ZDkwODY5M2E0ZDA2MWRjZGY2Mik7CiAgICAgICAgCiAgICAKICAgICAgICB2YXIgcG9wdXBfNGJlNjQwMDY0ZWZkNDFkNTgyNDcwMjAzOTQ0ZGYzMWYgPSBMLnBvcHVwKHsibWF4V2lkdGgiOiAiMTAwJSJ9KTsKCiAgICAgICAgCiAgICAgICAgICAgIHZhciBodG1sX2VjZmM4NDk5YjljNjQ0Njc4ZWUxMDkwNDRmMzExZmM4ID0gJChgPGRpdiBpZD0iaHRtbF9lY2ZjODQ5OWI5YzY0NDY3OGVlMTA5MDQ0ZjMxMWZjOCIgc3R5bGU9IndpZHRoOiAxMDAuMCU7IGhlaWdodDogMTAwLjAlOyI+QmFuamFyYSBIaWxsczwvZGl2PmApWzBdOwogICAgICAgICAgICBwb3B1cF80YmU2NDAwNjRlZmQ0MWQ1ODI0NzAyMDM5NDRkZjMxZi5zZXRDb250ZW50KGh0bWxfZWNmYzg0OTliOWM2NDQ2NzhlZTEwOTA0NGYzMTFmYzgpOwogICAgICAgIAoKICAgICAgICBjaXJjbGVfbWFya2VyXzA1NDU4MjVkZjJhYzRkY2JhMDQwODkxYjc5MTk0ZDczLmJpbmRQb3B1cChwb3B1cF80YmU2NDAwNjRlZmQ0MWQ1ODI0NzAyMDM5NDRkZjMxZikKICAgICAgICA7CgogICAgICAgIAogICAgCiAgICAKICAgICAgICAgICAgdmFyIGNpcmNsZV9tYXJrZXJfNGM4OTdiOTRmZDhmNGQ1YzlmMzg5NGUzMjk3ZWNmZDIgPSBMLmNpcmNsZU1hcmtlcigKICAgICAgICAgICAgICAgIFsxNy40MDIxMTAwMDAwMDAwNSwgNzguNDc3NzAwMDAwMDAwMDhdLAogICAgICAgICAgICAgICAgeyJidWJibGluZ01vdXNlRXZlbnRzIjogdHJ1ZSwgImNvbG9yIjogImdyZWVuIiwgImRhc2hBcnJheSI6IG51bGwsICJkYXNoT2Zmc2V0IjogbnVsbCwgImZpbGwiOiB0cnVlLCAiZmlsbENvbG9yIjogIiMzMTg2ZmYiLCAiZmlsbE9wYWNpdHkiOiAwLjIsICJmaWxsUnVsZSI6ICJldmVub2RkIiwgImxpbmVDYXAiOiAicm91bmQiLCAibGluZUpvaW4iOiAicm91bmQiLCAib3BhY2l0eSI6IDEuMCwgInN0cm9rZSI6IHRydWUsICJ3ZWlnaHQiOiAzfQogICAgICAgICAgICApLmFkZFRvKG1hcF8zMTJlZTc0MzUwM2I0ZDkwODY5M2E0ZDA2MWRjZGY2Mik7CiAgICAgICAgCiAgICAKICAgICAgICB2YXIgcG9wdXBfNmU2MjU2MzVhNjQwNDBjYTk2ZDYxMmU3MTBlMTQ2NWUgPSBMLnBvcHVwKHsibWF4V2lkdGgiOiAiMTAwJSJ9KTsKCiAgICAgICAgCiAgICAgICAgICAgIHZhciBodG1sX2MyN2JiZDYzODMxYzQ5NWY4Nzk4Y2U1YWViN2NlZDJkID0gJChgPGRpdiBpZD0iaHRtbF9jMjdiYmQ2MzgzMWM0OTVmODc5OGNlNWFlYjdjZWQyZCIgc3R5bGU9IndpZHRoOiAxMDAuMCU7IGhlaWdodDogMTAwLjAlOyI+QmFzaGVlcmJhZ2g8L2Rpdj5gKVswXTsKICAgICAgICAgICAgcG9wdXBfNmU2MjU2MzVhNjQwNDBjYTk2ZDYxMmU3MTBlMTQ2NWUuc2V0Q29udGVudChodG1sX2MyN2JiZDYzODMxYzQ5NWY4Nzk4Y2U1YWViN2NlZDJkKTsKICAgICAgICAKCiAgICAgICAgY2lyY2xlX21hcmtlcl80Yzg5N2I5NGZkOGY0ZDVjOWYzODk0ZTMyOTdlY2ZkMi5iaW5kUG9wdXAocG9wdXBfNmU2MjU2MzVhNjQwNDBjYTk2ZDYxMmU3MTBlMTQ2NWUpCiAgICAgICAgOwoKICAgICAgICAKICAgIAogICAgCiAgICAgICAgICAgIHZhciBjaXJjbGVfbWFya2VyX2QyNTNhNjBkOTA3MTRlNjFhNzljMjNkMjVkZTQxNDk5ID0gTC5jaXJjbGVNYXJrZXIoCiAgICAgICAgICAgICAgICBbMTcuNDQ3MjkwMDAwMDAwMDY2LCA3OC40NTM5NjAwMDAwMDAwNV0sCiAgICAgICAgICAgICAgICB7ImJ1YmJsaW5nTW91c2VFdmVudHMiOiB0cnVlLCAiY29sb3IiOiAiZ3JlZW4iLCAiZGFzaEFycmF5IjogbnVsbCwgImRhc2hPZmZzZXQiOiBudWxsLCAiZmlsbCI6IHRydWUsICJmaWxsQ29sb3IiOiAiIzMxODZmZiIsICJmaWxsT3BhY2l0eSI6IDAuMiwgImZpbGxSdWxlIjogImV2ZW5vZGQiLCAibGluZUNhcCI6ICJyb3VuZCIsICJsaW5lSm9pbiI6ICJyb3VuZCIsICJvcGFjaXR5IjogMS4wLCAic3Ryb2tlIjogdHJ1ZSwgIndlaWdodCI6IDN9CiAgICAgICAgICAgICkuYWRkVG8obWFwXzMxMmVlNzQzNTAzYjRkOTA4NjkzYTRkMDYxZGNkZjYyKTsKICAgICAgICAKICAgIAogICAgICAgIHZhciBwb3B1cF83NDMwOGJjNmM5Yjk0NWVlYWE5ZGQ0NWMxM2ZkMDA0MSA9IEwucG9wdXAoeyJtYXhXaWR0aCI6ICIxMDAlIn0pOwoKICAgICAgICAKICAgICAgICAgICAgdmFyIGh0bWxfZGQ0ZDEyMWRkNWI3NDM3Y2EyZmNlMDJhYjA0MjE5ODEgPSAkKGA8ZGl2IGlkPSJodG1sX2RkNGQxMjFkZDViNzQzN2NhMmZjZTAyYWIwNDIxOTgxIiBzdHlsZT0id2lkdGg6IDEwMC4wJTsgaGVpZ2h0OiAxMDAuMCU7Ij5CZWd1bXBldDwvZGl2PmApWzBdOwogICAgICAgICAgICBwb3B1cF83NDMwOGJjNmM5Yjk0NWVlYWE5ZGQ0NWMxM2ZkMDA0MS5zZXRDb250ZW50KGh0bWxfZGQ0ZDEyMWRkNWI3NDM3Y2EyZmNlMDJhYjA0MjE5ODEpOwogICAgICAgIAoKICAgICAgICBjaXJjbGVfbWFya2VyX2QyNTNhNjBkOTA3MTRlNjFhNzljMjNkMjVkZTQxNDk5LmJpbmRQb3B1cChwb3B1cF83NDMwOGJjNmM5Yjk0NWVlYWE5ZGQ0NWMxM2ZkMDA0MSkKICAgICAgICA7CgogICAgICAgIAogICAgCiAgICAKICAgICAgICAgICAgdmFyIGNpcmNsZV9tYXJrZXJfMDg4MjA4NGU2MTFkNDY3Mjk1ZTIyODM0NTkwZTYwN2EgPSBMLmNpcmNsZU1hcmtlcigKICAgICAgICAgICAgICAgIFsxNy40MDk1NDAwMDAwMDAwNSwgNzguNTc4OTYwMDAwMDAwMDVdLAogICAgICAgICAgICAgICAgeyJidWJibGluZ01vdXNlRXZlbnRzIjogdHJ1ZSwgImNvbG9yIjogImdyZWVuIiwgImRhc2hBcnJheSI6IG51bGwsICJkYXNoT2Zmc2V0IjogbnVsbCwgImZpbGwiOiB0cnVlLCAiZmlsbENvbG9yIjogIiMzMTg2ZmYiLCAiZmlsbE9wYWNpdHkiOiAwLjIsICJmaWxsUnVsZSI6ICJldmVub2RkIiwgImxpbmVDYXAiOiAicm91bmQiLCAibGluZUpvaW4iOiAicm91bmQiLCAib3BhY2l0eSI6IDEuMCwgInN0cm9rZSI6IHRydWUsICJ3ZWlnaHQiOiAzfQogICAgICAgICAgICApLmFkZFRvKG1hcF8zMTJlZTc0MzUwM2I0ZDkwODY5M2E0ZDA2MWRjZGY2Mik7CiAgICAgICAgCiAgICAKICAgICAgICB2YXIgcG9wdXBfMGIzZGI0M2QyYjY5NGY3MGFiMDAxYWMzOTU3NDI2MTUgPSBMLnBvcHVwKHsibWF4V2lkdGgiOiAiMTAwJSJ9KTsKCiAgICAgICAgCiAgICAgICAgICAgIHZhciBodG1sXzQ1MmZhYjkyNWUwZTQ0NWJhNmIwZDdlNzFlNGE3Y2IwID0gJChgPGRpdiBpZD0iaHRtbF80NTJmYWI5MjVlMGU0NDViYTZiMGQ3ZTcxZTRhN2NiMCIgc3R5bGU9IndpZHRoOiAxMDAuMCU7IGhlaWdodDogMTAwLjAlOyI+Qm9kdXBwYWw8L2Rpdj5gKVswXTsKICAgICAgICAgICAgcG9wdXBfMGIzZGI0M2QyYjY5NGY3MGFiMDAxYWMzOTU3NDI2MTUuc2V0Q29udGVudChodG1sXzQ1MmZhYjkyNWUwZTQ0NWJhNmIwZDdlNzFlNGE3Y2IwKTsKICAgICAgICAKCiAgICAgICAgY2lyY2xlX21hcmtlcl8wODgyMDg0ZTYxMWQ0NjcyOTVlMjI4MzQ1OTBlNjA3YS5iaW5kUG9wdXAocG9wdXBfMGIzZGI0M2QyYjY5NGY3MGFiMDAxYWMzOTU3NDI2MTUpCiAgICAgICAgOwoKICAgICAgICAKICAgIAogICAgCiAgICAgICAgICAgIHZhciBjaXJjbGVfbWFya2VyX2NmNjJjZGVmODcxNDRjNWFiODRkM2UzNjlmN2ViNjBmID0gTC5jaXJjbGVNYXJrZXIoCiAgICAgICAgICAgICAgICBbMTcuNTE5MTEwMDAwMDAwMDcsIDc4LjUwMTUzMDAwMDAwMDA2XSwKICAgICAgICAgICAgICAgIHsiYnViYmxpbmdNb3VzZUV2ZW50cyI6IHRydWUsICJjb2xvciI6ICJncmVlbiIsICJkYXNoQXJyYXkiOiBudWxsLCAiZGFzaE9mZnNldCI6IG51bGwsICJmaWxsIjogdHJ1ZSwgImZpbGxDb2xvciI6ICIjMzE4NmZmIiwgImZpbGxPcGFjaXR5IjogMC4yLCAiZmlsbFJ1bGUiOiAiZXZlbm9kZCIsICJsaW5lQ2FwIjogInJvdW5kIiwgImxpbmVKb2luIjogInJvdW5kIiwgIm9wYWNpdHkiOiAxLjAsICJzdHJva2UiOiB0cnVlLCAid2VpZ2h0IjogM30KICAgICAgICAgICAgKS5hZGRUbyhtYXBfMzEyZWU3NDM1MDNiNGQ5MDg2OTNhNGQwNjFkY2RmNjIpOwogICAgICAgIAogICAgCiAgICAgICAgdmFyIHBvcHVwX2NkODczMGU2OGY0YTQwNDI4NmM0Y2Y0NDY3ZTliNWQ0ID0gTC5wb3B1cCh7Im1heFdpZHRoIjogIjEwMCUifSk7CgogICAgICAgIAogICAgICAgICAgICB2YXIgaHRtbF8wYmM3ZGUyOWM5OGU0YWU3OTNjNmFjYTQyOWMwYTk4MiA9ICQoYDxkaXYgaWQ9Imh0bWxfMGJjN2RlMjljOThlNGFlNzkzYzZhY2E0MjljMGE5ODIiIHN0eWxlPSJ3aWR0aDogMTAwLjAlOyBoZWlnaHQ6IDEwMC4wJTsiPkJvbGFydW08L2Rpdj5gKVswXTsKICAgICAgICAgICAgcG9wdXBfY2Q4NzMwZTY4ZjRhNDA0Mjg2YzRjZjQ0NjdlOWI1ZDQuc2V0Q29udGVudChodG1sXzBiYzdkZTI5Yzk4ZTRhZTc5M2M2YWNhNDI5YzBhOTgyKTsKICAgICAgICAKCiAgICAgICAgY2lyY2xlX21hcmtlcl9jZjYyY2RlZjg3MTQ0YzVhYjg0ZDNlMzY5ZjdlYjYwZi5iaW5kUG9wdXAocG9wdXBfY2Q4NzMwZTY4ZjRhNDA0Mjg2YzRjZjQ0NjdlOWI1ZDQpCiAgICAgICAgOwoKICAgICAgICAKICAgIAogICAgCiAgICAgICAgICAgIHZhciBjaXJjbGVfbWFya2VyXzQyYjI4NWI2ZjQ2YjRkNWY4YWRhZDk5YTQ4M2VhMDY2ID0gTC5jaXJjbGVNYXJrZXIoCiAgICAgICAgICAgICAgICBbMTcuMzk0ODcwMDAwMDAwMDI2LCA3OC40NzA3NjAwMDAwMDAwNF0sCiAgICAgICAgICAgICAgICB7ImJ1YmJsaW5nTW91c2VFdmVudHMiOiB0cnVlLCAiY29sb3IiOiAiZ3JlZW4iLCAiZGFzaEFycmF5IjogbnVsbCwgImRhc2hPZmZzZXQiOiBudWxsLCAiZmlsbCI6IHRydWUsICJmaWxsQ29sb3IiOiAiIzMxODZmZiIsICJmaWxsT3BhY2l0eSI6IDAuMiwgImZpbGxSdWxlIjogImV2ZW5vZGQiLCAibGluZUNhcCI6ICJyb3VuZCIsICJsaW5lSm9pbiI6ICJyb3VuZCIsICJvcGFjaXR5IjogMS4wLCAic3Ryb2tlIjogdHJ1ZSwgIndlaWdodCI6IDN9CiAgICAgICAgICAgICkuYWRkVG8obWFwXzMxMmVlNzQzNTAzYjRkOTA4NjkzYTRkMDYxZGNkZjYyKTsKICAgICAgICAKICAgIAogICAgICAgIHZhciBwb3B1cF83ZDM1NjIwNTU0MTg0YjhkYjczOWM5ZjQ2MmJmNTYwMSA9IEwucG9wdXAoeyJtYXhXaWR0aCI6ICIxMDAlIn0pOwoKICAgICAgICAKICAgICAgICAgICAgdmFyIGh0bWxfODc3Y2ZhZWY3MWNmNGQ1ZTg1YjJjNzZkOTEzNzk4NTYgPSAkKGA8ZGl2IGlkPSJodG1sXzg3N2NmYWVmNzFjZjRkNWU4NWIyYzc2ZDkxMzc5ODU2IiBzdHlsZT0id2lkdGg6IDEwMC4wJTsgaGVpZ2h0OiAxMDAuMCU7Ij5DYXZhbHJ5IEJhcnJhY2tzLCBIeWRlcmFiYWQ8L2Rpdj5gKVswXTsKICAgICAgICAgICAgcG9wdXBfN2QzNTYyMDU1NDE4NGI4ZGI3MzljOWY0NjJiZjU2MDEuc2V0Q29udGVudChodG1sXzg3N2NmYWVmNzFjZjRkNWU4NWIyYzc2ZDkxMzc5ODU2KTsKICAgICAgICAKCiAgICAgICAgY2lyY2xlX21hcmtlcl80MmIyODViNmY0NmI0ZDVmOGFkYWQ5OWE0ODNlYTA2Ni5iaW5kUG9wdXAocG9wdXBfN2QzNTYyMDU1NDE4NGI4ZGI3MzljOWY0NjJiZjU2MDEpCiAgICAgICAgOwoKICAgICAgICAKICAgIAogICAgCiAgICAgICAgICAgIHZhciBjaXJjbGVfbWFya2VyXzQ2ZGVhMTJjYmUzZjRmNzlhODNmZDUzMjBiZTg5YzViID0gTC5jaXJjbGVNYXJrZXIoCiAgICAgICAgICAgICAgICBbMTcuNDAzMDEwMDAwMDAwMDUsIDc4LjQ5NzkyMDAwMDAwMDA4XSwKICAgICAgICAgICAgICAgIHsiYnViYmxpbmdNb3VzZUV2ZW50cyI6IHRydWUsICJjb2xvciI6ICJncmVlbiIsICJkYXNoQXJyYXkiOiBudWxsLCAiZGFzaE9mZnNldCI6IG51bGwsICJmaWxsIjogdHJ1ZSwgImZpbGxDb2xvciI6ICIjMzE4NmZmIiwgImZpbGxPcGFjaXR5IjogMC4yLCAiZmlsbFJ1bGUiOiAiZXZlbm9kZCIsICJsaW5lQ2FwIjogInJvdW5kIiwgImxpbmVKb2luIjogInJvdW5kIiwgIm9wYWNpdHkiOiAxLjAsICJzdHJva2UiOiB0cnVlLCAid2VpZ2h0IjogM30KICAgICAgICAgICAgKS5hZGRUbyhtYXBfMzEyZWU3NDM1MDNiNGQ5MDg2OTNhNGQwNjFkY2RmNjIpOwogICAgICAgIAogICAgCiAgICAgICAgdmFyIHBvcHVwXzY0NGU2YzQzMmMxYTRmNGViNjk0MWUxY2ViNjZiMTBkID0gTC5wb3B1cCh7Im1heFdpZHRoIjogIjEwMCUifSk7CgogICAgICAgIAogICAgICAgICAgICB2YXIgaHRtbF9iNjM4MTExNmE4YzI0ZTNkOTVjNTIwODQ0YzcyMzQ3NyA9ICQoYDxkaXYgaWQ9Imh0bWxfYjYzODExMTZhOGMyNGUzZDk1YzUyMDg0NGM3MjM0NzciIHN0eWxlPSJ3aWR0aDogMTAwLjAlOyBoZWlnaHQ6IDEwMC4wJTsiPkNoaWtrYWRwYWxseTwvZGl2PmApWzBdOwogICAgICAgICAgICBwb3B1cF82NDRlNmM0MzJjMWE0ZjRlYjY5NDFlMWNlYjY2YjEwZC5zZXRDb250ZW50KGh0bWxfYjYzODExMTZhOGMyNGUzZDk1YzUyMDg0NGM3MjM0NzcpOwogICAgICAgIAoKICAgICAgICBjaXJjbGVfbWFya2VyXzQ2ZGVhMTJjYmUzZjRmNzlhODNmZDUzMjBiZTg5YzViLmJpbmRQb3B1cChwb3B1cF82NDRlNmM0MzJjMWE0ZjRlYjY5NDFlMWNlYjY2YjEwZCkKICAgICAgICA7CgogICAgICAgIAogICAgCiAgICAKICAgICAgICAgICAgdmFyIGNpcmNsZV9tYXJrZXJfODE2YmU0ZTYwMjEyNDhlYzg2N2YwYzJiYWUyMGQzYjkgPSBMLmNpcmNsZU1hcmtlcigKICAgICAgICAgICAgICAgIFsxNy4zNjYxODAwMDAwMDAwNDMsIDc4LjQ4NzM2MDAwMDAwMDA4XSwKICAgICAgICAgICAgICAgIHsiYnViYmxpbmdNb3VzZUV2ZW50cyI6IHRydWUsICJjb2xvciI6ICJncmVlbiIsICJkYXNoQXJyYXkiOiBudWxsLCAiZGFzaE9mZnNldCI6IG51bGwsICJmaWxsIjogdHJ1ZSwgImZpbGxDb2xvciI6ICIjMzE4NmZmIiwgImZpbGxPcGFjaXR5IjogMC4yLCAiZmlsbFJ1bGUiOiAiZXZlbm9kZCIsICJsaW5lQ2FwIjogInJvdW5kIiwgImxpbmVKb2luIjogInJvdW5kIiwgIm9wYWNpdHkiOiAxLjAsICJzdHJva2UiOiB0cnVlLCAid2VpZ2h0IjogM30KICAgICAgICAgICAgKS5hZGRUbyhtYXBfMzEyZWU3NDM1MDNiNGQ5MDg2OTNhNGQwNjFkY2RmNjIpOwogICAgICAgIAogICAgCiAgICAgICAgdmFyIHBvcHVwX2QwMDIyMDE3MTIwZTQ4YWFhMWU2Zjc1MDIxOThmOWE3ID0gTC5wb3B1cCh7Im1heFdpZHRoIjogIjEwMCUifSk7CgogICAgICAgIAogICAgICAgICAgICB2YXIgaHRtbF9jYjk0OTk1NmJlYTA0NmI3YWJlZGYwNGUyOTkzNzFlYSA9ICQoYDxkaXYgaWQ9Imh0bWxfY2I5NDk5NTZiZWEwNDZiN2FiZWRmMDRlMjk5MzcxZWEiIHN0eWxlPSJ3aWR0aDogMTAwLjAlOyBoZWlnaHQ6IDEwMC4wJTsiPkRhYmlycHVyYTwvZGl2PmApWzBdOwogICAgICAgICAgICBwb3B1cF9kMDAyMjAxNzEyMGU0OGFhYTFlNmY3NTAyMTk4ZjlhNy5zZXRDb250ZW50KGh0bWxfY2I5NDk5NTZiZWEwNDZiN2FiZWRmMDRlMjk5MzcxZWEpOwogICAgICAgIAoKICAgICAgICBjaXJjbGVfbWFya2VyXzgxNmJlNGU2MDIxMjQ4ZWM4NjdmMGMyYmFlMjBkM2I5LmJpbmRQb3B1cChwb3B1cF9kMDAyMjAxNzEyMGU0OGFhYTFlNmY3NTAyMTk4ZjlhNykKICAgICAgICA7CgogICAgICAgIAogICAgCiAgICAKICAgICAgICAgICAgdmFyIGNpcmNsZV9tYXJrZXJfYTFmZWU3Zjc0YzM3NDk1NWJmMTgxNTZiMmMzOTk5MGQgPSBMLmNpcmNsZU1hcmtlcigKICAgICAgICAgICAgICAgIFsxNy4zNjg1NzAwMDAwMDAwMzQsIDc4LjUzNTE1MDAwMDAwMDA0XSwKICAgICAgICAgICAgICAgIHsiYnViYmxpbmdNb3VzZUV2ZW50cyI6IHRydWUsICJjb2xvciI6ICJncmVlbiIsICJkYXNoQXJyYXkiOiBudWxsLCAiZGFzaE9mZnNldCI6IG51bGwsICJmaWxsIjogdHJ1ZSwgImZpbGxDb2xvciI6ICIjMzE4NmZmIiwgImZpbGxPcGFjaXR5IjogMC4yLCAiZmlsbFJ1bGUiOiAiZXZlbm9kZCIsICJsaW5lQ2FwIjogInJvdW5kIiwgImxpbmVKb2luIjogInJvdW5kIiwgIm9wYWNpdHkiOiAxLjAsICJzdHJva2UiOiB0cnVlLCAid2VpZ2h0IjogM30KICAgICAgICAgICAgKS5hZGRUbyhtYXBfMzEyZWU3NDM1MDNiNGQ5MDg2OTNhNGQwNjFkY2RmNjIpOwogICAgICAgIAogICAgCiAgICAgICAgdmFyIHBvcHVwXzQ1NjJhMmE2ZjQzMTRmNGI4OWE1YTc2MTI1NWQwMDE1ID0gTC5wb3B1cCh7Im1heFdpZHRoIjogIjEwMCUifSk7CgogICAgICAgIAogICAgICAgICAgICB2YXIgaHRtbF80YjAwNTM2MmM2Mjg0ODY2YWUwMWY2YmZhZTU1YzNmZiA9ICQoYDxkaXYgaWQ9Imh0bWxfNGIwMDUzNjJjNjI4NDg2NmFlMDFmNmJmYWU1NWMzZmYiIHN0eWxlPSJ3aWR0aDogMTAwLjAlOyBoZWlnaHQ6IDEwMC4wJTsiPkRpbHN1a2huYWdhcjwvZGl2PmApWzBdOwogICAgICAgICAgICBwb3B1cF80NTYyYTJhNmY0MzE0ZjRiODlhNWE3NjEyNTVkMDAxNS5zZXRDb250ZW50KGh0bWxfNGIwMDUzNjJjNjI4NDg2NmFlMDFmNmJmYWU1NWMzZmYpOwogICAgICAgIAoKICAgICAgICBjaXJjbGVfbWFya2VyX2ExZmVlN2Y3NGMzNzQ5NTViZjE4MTU2YjJjMzk5OTBkLmJpbmRQb3B1cChwb3B1cF80NTYyYTJhNmY0MzE0ZjRiODlhNWE3NjEyNTVkMDAxNSkKICAgICAgICA7CgogICAgICAgIAogICAgCiAgICAKICAgICAgICAgICAgdmFyIGNpcmNsZV9tYXJrZXJfOTI3YmFjYTVlMjA0NDczMGJmOTNiMDY2YmE0NGViOWYgPSBMLmNpcmNsZU1hcmtlcigKICAgICAgICAgICAgICAgIFsxNy40MDk5NTAwMDAwMDAwMzgsIDc4LjQ4MjI5MDAwMDAwMDAzXSwKICAgICAgICAgICAgICAgIHsiYnViYmxpbmdNb3VzZUV2ZW50cyI6IHRydWUsICJjb2xvciI6ICJncmVlbiIsICJkYXNoQXJyYXkiOiBudWxsLCAiZGFzaE9mZnNldCI6IG51bGwsICJmaWxsIjogdHJ1ZSwgImZpbGxDb2xvciI6ICIjMzE4NmZmIiwgImZpbGxPcGFjaXR5IjogMC4yLCAiZmlsbFJ1bGUiOiAiZXZlbm9kZCIsICJsaW5lQ2FwIjogInJvdW5kIiwgImxpbmVKb2luIjogInJvdW5kIiwgIm9wYWNpdHkiOiAxLjAsICJzdHJva2UiOiB0cnVlLCAid2VpZ2h0IjogM30KICAgICAgICAgICAgKS5hZGRUbyhtYXBfMzEyZWU3NDM1MDNiNGQ5MDg2OTNhNGQwNjFkY2RmNjIpOwogICAgICAgIAogICAgCiAgICAgICAgdmFyIHBvcHVwXzZkOTdjZmE1ODkwYjQ2MGM5ZmQ2OTE3OTVlMGNjN2FlID0gTC5wb3B1cCh7Im1heFdpZHRoIjogIjEwMCUifSk7CgogICAgICAgIAogICAgICAgICAgICB2YXIgaHRtbF81OWZhNDY1OGZjYmY0ODQ0OWQxNTI5YmQ4YzM3M2EyNiA9ICQoYDxkaXYgaWQ9Imh0bWxfNTlmYTQ2NThmY2JmNDg0NDlkMTUyOWJkOGMzNzNhMjYiIHN0eWxlPSJ3aWR0aDogMTAwLjAlOyBoZWlnaHQ6IDEwMC4wJTsiPkRvbWFsZ3VkYTwvZGl2PmApWzBdOwogICAgICAgICAgICBwb3B1cF82ZDk3Y2ZhNTg5MGI0NjBjOWZkNjkxNzk1ZTBjYzdhZS5zZXRDb250ZW50KGh0bWxfNTlmYTQ2NThmY2JmNDg0NDlkMTUyOWJkOGMzNzNhMjYpOwogICAgICAgIAoKICAgICAgICBjaXJjbGVfbWFya2VyXzkyN2JhY2E1ZTIwNDQ3MzBiZjkzYjA2NmJhNDRlYjlmLmJpbmRQb3B1cChwb3B1cF82ZDk3Y2ZhNTg5MGI0NjBjOWZkNjkxNzk1ZTBjYzdhZSkKICAgICAgICA7CgogICAgICAgIAogICAgCiAgICAKICAgICAgICAgICAgdmFyIGNpcmNsZV9tYXJrZXJfMWNhZTdmNTU4ZTBhNGI1YThhMWE2MGRmZGI3MDBjN2MgPSBMLmNpcmNsZU1hcmtlcigKICAgICAgICAgICAgICAgIFsxNy40NTMzMzAwMDAwMDAwNSwgNzguNDMwMzQwMDAwMDAwMDZdLAogICAgICAgICAgICAgICAgeyJidWJibGluZ01vdXNlRXZlbnRzIjogdHJ1ZSwgImNvbG9yIjogImdyZWVuIiwgImRhc2hBcnJheSI6IG51bGwsICJkYXNoT2Zmc2V0IjogbnVsbCwgImZpbGwiOiB0cnVlLCAiZmlsbENvbG9yIjogIiMzMTg2ZmYiLCAiZmlsbE9wYWNpdHkiOiAwLjIsICJmaWxsUnVsZSI6ICJldmVub2RkIiwgImxpbmVDYXAiOiAicm91bmQiLCAibGluZUpvaW4iOiAicm91bmQiLCAib3BhY2l0eSI6IDEuMCwgInN0cm9rZSI6IHRydWUsICJ3ZWlnaHQiOiAzfQogICAgICAgICAgICApLmFkZFRvKG1hcF8zMTJlZTc0MzUwM2I0ZDkwODY5M2E0ZDA2MWRjZGY2Mik7CiAgICAgICAgCiAgICAKICAgICAgICB2YXIgcG9wdXBfY2IyMDA0YzdiMjRlNDY4Mzg1ZDlmNjQ0MjJjNzJlODIgPSBMLnBvcHVwKHsibWF4V2lkdGgiOiAiMTAwJSJ9KTsKCiAgICAgICAgCiAgICAgICAgICAgIHZhciBodG1sXzEwMDQ4NGNhZWZkZDQ0YjRhNmUwYjdhMWY1MmVjNWNkID0gJChgPGRpdiBpZD0iaHRtbF8xMDA0ODRjYWVmZGQ0NGI0YTZlMGI3YTFmNTJlYzVjZCIgc3R5bGU9IndpZHRoOiAxMDAuMCU7IGhlaWdodDogMTAwLjAlOyI+RXJyYWdhZGRhPC9kaXY+YClbMF07CiAgICAgICAgICAgIHBvcHVwX2NiMjAwNGM3YjI0ZTQ2ODM4NWQ5ZjY0NDIyYzcyZTgyLnNldENvbnRlbnQoaHRtbF8xMDA0ODRjYWVmZGQ0NGI0YTZlMGI3YTFmNTJlYzVjZCk7CiAgICAgICAgCgogICAgICAgIGNpcmNsZV9tYXJrZXJfMWNhZTdmNTU4ZTBhNGI1YThhMWE2MGRmZGI3MDBjN2MuYmluZFBvcHVwKHBvcHVwX2NiMjAwNGM3YjI0ZTQ2ODM4NWQ5ZjY0NDIyYzcyZTgyKQogICAgICAgIDsKCiAgICAgICAgCiAgICAKICAgIAogICAgICAgICAgICB2YXIgY2lyY2xlX21hcmtlcl8xMzZmNmE4ZjZmZjc0NjlmOTAxYTEyMjA5ODA2OTEyYiA9IEwuY2lyY2xlTWFya2VyKAogICAgICAgICAgICAgICAgWzE3LjQzMTgxMDAwMDAwMDA0LCA3OC4zODYzNjAwMDAwMDAwOF0sCiAgICAgICAgICAgICAgICB7ImJ1YmJsaW5nTW91c2VFdmVudHMiOiB0cnVlLCAiY29sb3IiOiAiZ3JlZW4iLCAiZGFzaEFycmF5IjogbnVsbCwgImRhc2hPZmZzZXQiOiBudWxsLCAiZmlsbCI6IHRydWUsICJmaWxsQ29sb3IiOiAiIzMxODZmZiIsICJmaWxsT3BhY2l0eSI6IDAuMiwgImZpbGxSdWxlIjogImV2ZW5vZGQiLCAibGluZUNhcCI6ICJyb3VuZCIsICJsaW5lSm9pbiI6ICJyb3VuZCIsICJvcGFjaXR5IjogMS4wLCAicmFkaXVzIjogMTguMCwgInN0cm9rZSI6IHRydWUsICJ3ZWlnaHQiOiAzfQogICAgICAgICAgICApLmFkZFRvKG1hcF8zMTJlZTc0MzUwM2I0ZDkwODY5M2E0ZDA2MWRjZGY2Mik7CiAgICAgICAgCiAgICAKICAgICAgICB2YXIgcG9wdXBfMjA4ZjZmMWNiODE4NGNkNjg1YTEwZGY0NWI2ZDU2MzYgPSBMLnBvcHVwKHsibWF4V2lkdGgiOiAiMTAwJSJ9KTsKCiAgICAgICAgCiAgICAgICAgICAgIHZhciBodG1sXzI0ZTcxNmNhYjJiMzQyZjI4NTNhMTdmNzdmNDQwYjZlID0gJChgPGRpdiBpZD0iaHRtbF8yNGU3MTZjYWIyYjM0MmYyODUzYTE3Zjc3ZjQ0MGI2ZSIgc3R5bGU9IndpZHRoOiAxMDAuMCU7IGhlaWdodDogMTAwLjAlOyI+R2FjaGlib3dsaTwvZGl2PmApWzBdOwogICAgICAgICAgICBwb3B1cF8yMDhmNmYxY2I4MTg0Y2Q2ODVhMTBkZjQ1YjZkNTYzNi5zZXRDb250ZW50KGh0bWxfMjRlNzE2Y2FiMmIzNDJmMjg1M2ExN2Y3N2Y0NDBiNmUpOwogICAgICAgIAoKICAgICAgICBjaXJjbGVfbWFya2VyXzEzNmY2YThmNmZmNzQ2OWY5MDFhMTIyMDk4MDY5MTJiLmJpbmRQb3B1cChwb3B1cF8yMDhmNmYxY2I4MTg0Y2Q2ODVhMTBkZjQ1YjZkNTYzNikKICAgICAgICA7CgogICAgICAgIAogICAgCiAgICAKICAgICAgICAgICAgdmFyIGNpcmNsZV9tYXJrZXJfNjFkNTQzMWY3ZWE0NDVlNGIwMmMxNTYxNjQzODI2OWEgPSBMLmNpcmNsZU1hcmtlcigKICAgICAgICAgICAgICAgIFsxNy41MjI3NjAwMDAwMDAwNjIsIDc4LjQzODYyMDAwMDAwMDA3XSwKICAgICAgICAgICAgICAgIHsiYnViYmxpbmdNb3VzZUV2ZW50cyI6IHRydWUsICJjb2xvciI6ICJncmVlbiIsICJkYXNoQXJyYXkiOiBudWxsLCAiZGFzaE9mZnNldCI6IG51bGwsICJmaWxsIjogdHJ1ZSwgImZpbGxDb2xvciI6ICIjMzE4NmZmIiwgImZpbGxPcGFjaXR5IjogMC4yLCAiZmlsbFJ1bGUiOiAiZXZlbm9kZCIsICJsaW5lQ2FwIjogInJvdW5kIiwgImxpbmVKb2luIjogInJvdW5kIiwgIm9wYWNpdHkiOiAxLjAsICJzdHJva2UiOiB0cnVlLCAid2VpZ2h0IjogM30KICAgICAgICAgICAgKS5hZGRUbyhtYXBfMzEyZWU3NDM1MDNiNGQ5MDg2OTNhNGQwNjFkY2RmNjIpOwogICAgICAgIAogICAgCiAgICAgICAgdmFyIHBvcHVwX2U3N2M1ZWYxYzdlMDRjZjU5MjRmNTE5MjRjMmY4NDUyID0gTC5wb3B1cCh7Im1heFdpZHRoIjogIjEwMCUifSk7CgogICAgICAgIAogICAgICAgICAgICB2YXIgaHRtbF81MjBiNGUwMDU1YjM0OTMxOWJiZjQwNzllYmVjNTk1OCA9ICQoYDxkaXYgaWQ9Imh0bWxfNTIwYjRlMDA1NWIzNDkzMTliYmY0MDc5ZWJlYzU5NTgiIHN0eWxlPSJ3aWR0aDogMTAwLjAlOyBoZWlnaHQ6IDEwMC4wJTsiPkdhanVsYXJhbWFyYW08L2Rpdj5gKVswXTsKICAgICAgICAgICAgcG9wdXBfZTc3YzVlZjFjN2UwNGNmNTkyNGY1MTkyNGMyZjg0NTIuc2V0Q29udGVudChodG1sXzUyMGI0ZTAwNTViMzQ5MzE5YmJmNDA3OWViZWM1OTU4KTsKICAgICAgICAKCiAgICAgICAgY2lyY2xlX21hcmtlcl82MWQ1NDMxZjdlYTQ0NWU0YjAyYzE1NjE2NDM4MjY5YS5iaW5kUG9wdXAocG9wdXBfZTc3YzVlZjFjN2UwNGNmNTkyNGY1MTkyNGMyZjg0NTIpCiAgICAgICAgOwoKICAgICAgICAKICAgIAogICAgCiAgICAgICAgICAgIHZhciBjaXJjbGVfbWFya2VyXzNiZTczMGJkMjRkZjQyMGU4ODI2NTRlOTY4ZThlZjBlID0gTC5jaXJjbGVNYXJrZXIoCiAgICAgICAgICAgICAgICBbMTcuNDYzMjA1NTU5ODgyMzkzLCA3OC42MjExOTM4NDAzMTM2NV0sCiAgICAgICAgICAgICAgICB7ImJ1YmJsaW5nTW91c2VFdmVudHMiOiB0cnVlLCAiY29sb3IiOiAiZ3JlZW4iLCAiZGFzaEFycmF5IjogbnVsbCwgImRhc2hPZmZzZXQiOiBudWxsLCAiZmlsbCI6IHRydWUsICJmaWxsQ29sb3IiOiAiIzMxODZmZiIsICJmaWxsT3BhY2l0eSI6IDAuMiwgImZpbGxSdWxlIjogImV2ZW5vZGQiLCAibGluZUNhcCI6ICJyb3VuZCIsICJsaW5lSm9pbiI6ICJyb3VuZCIsICJvcGFjaXR5IjogMS4wLCAic3Ryb2tlIjogdHJ1ZSwgIndlaWdodCI6IDN9CiAgICAgICAgICAgICkuYWRkVG8obWFwXzMxMmVlNzQzNTAzYjRkOTA4NjkzYTRkMDYxZGNkZjYyKTsKICAgICAgICAKICAgIAogICAgICAgIHZhciBwb3B1cF82NGY5MGMxNGI0ODQ0OWQzOGY4NzQ0ZmQ2MDEwZGJlOCA9IEwucG9wdXAoeyJtYXhXaWR0aCI6ICIxMDAlIn0pOwoKICAgICAgICAKICAgICAgICAgICAgdmFyIGh0bWxfOTY2YWNlNGNmNDIzNDRlZDk4MGY2MGNjMmRmYjI4MjYgPSAkKGA8ZGl2IGlkPSJodG1sXzk2NmFjZTRjZjQyMzQ0ZWQ5ODBmNjBjYzJkZmIyODI2IiBzdHlsZT0id2lkdGg6IDEwMC4wJTsgaGVpZ2h0OiAxMDAuMCU7Ij5HaGF0a2VzYXI8L2Rpdj5gKVswXTsKICAgICAgICAgICAgcG9wdXBfNjRmOTBjMTRiNDg0NDlkMzhmODc0NGZkNjAxMGRiZTguc2V0Q29udGVudChodG1sXzk2NmFjZTRjZjQyMzQ0ZWQ5ODBmNjBjYzJkZmIyODI2KTsKICAgICAgICAKCiAgICAgICAgY2lyY2xlX21hcmtlcl8zYmU3MzBiZDI0ZGY0MjBlODgyNjU0ZTk2OGU4ZWYwZS5iaW5kUG9wdXAocG9wdXBfNjRmOTBjMTRiNDg0NDlkMzhmODc0NGZkNjAxMGRiZTgpCiAgICAgICAgOwoKICAgICAgICAKICAgIAogICAgCiAgICAgICAgICAgIHZhciBjaXJjbGVfbWFya2VyXzdhMTI0Y2IzMDlmMTQyOTRiODlmMTI5MDRmZjZjYTVlID0gTC5jaXJjbGVNYXJrZXIoCiAgICAgICAgICAgICAgICBbMTcuMzg5NDEwMDAwMDAwMDU1LCA3OC40MDQwNjAwMDAwMDAwN10sCiAgICAgICAgICAgICAgICB7ImJ1YmJsaW5nTW91c2VFdmVudHMiOiB0cnVlLCAiY29sb3IiOiAiZ3JlZW4iLCAiZGFzaEFycmF5IjogbnVsbCwgImRhc2hPZmZzZXQiOiBudWxsLCAiZmlsbCI6IHRydWUsICJmaWxsQ29sb3IiOiAiIzMxODZmZiIsICJmaWxsT3BhY2l0eSI6IDAuMiwgImZpbGxSdWxlIjogImV2ZW5vZGQiLCAibGluZUNhcCI6ICJyb3VuZCIsICJsaW5lSm9pbiI6ICJyb3VuZCIsICJvcGFjaXR5IjogMS4wLCAic3Ryb2tlIjogdHJ1ZSwgIndlaWdodCI6IDN9CiAgICAgICAgICAgICkuYWRkVG8obWFwXzMxMmVlNzQzNTAzYjRkOTA4NjkzYTRkMDYxZGNkZjYyKTsKICAgICAgICAKICAgIAogICAgICAgIHZhciBwb3B1cF8xOTc5ZmI0MzcyZGE0ZDhmYmRjYTA3Zjk2OThlNDIyMyA9IEwucG9wdXAoeyJtYXhXaWR0aCI6ICIxMDAlIn0pOwoKICAgICAgICAKICAgICAgICAgICAgdmFyIGh0bWxfNmI4OWRlOThmOTIxNDE0NzhlMGFmM2JiNDYyMjAzZjkgPSAkKGA8ZGl2IGlkPSJodG1sXzZiODlkZTk4ZjkyMTQxNDc4ZTBhZjNiYjQ2MjIwM2Y5IiBzdHlsZT0id2lkdGg6IDEwMC4wJTsgaGVpZ2h0OiAxMDAuMCU7Ij5Hb2xjb25kYTwvZGl2PmApWzBdOwogICAgICAgICAgICBwb3B1cF8xOTc5ZmI0MzcyZGE0ZDhmYmRjYTA3Zjk2OThlNDIyMy5zZXRDb250ZW50KGh0bWxfNmI4OWRlOThmOTIxNDE0NzhlMGFmM2JiNDYyMjAzZjkpOwogICAgICAgIAoKICAgICAgICBjaXJjbGVfbWFya2VyXzdhMTI0Y2IzMDlmMTQyOTRiODlmMTI5MDRmZjZjYTVlLmJpbmRQb3B1cChwb3B1cF8xOTc5ZmI0MzcyZGE0ZDhmYmRjYTA3Zjk2OThlNDIyMykKICAgICAgICA7CgogICAgICAgIAogICAgCiAgICAKICAgICAgICAgICAgdmFyIGNpcmNsZV9tYXJrZXJfMjBlYzQwOGIwMDk0NDU0ZmFmMGM3NzRjZjAyMjUzZmIgPSBMLmNpcmNsZU1hcmtlcigKICAgICAgICAgICAgICAgIFsxNy4zMjcwNzAwMDAwMDAwNSwgNzguNjA1MzMwMDAwMDAwMDRdLAogICAgICAgICAgICAgICAgeyJidWJibGluZ01vdXNlRXZlbnRzIjogdHJ1ZSwgImNvbG9yIjogImdyZWVuIiwgImRhc2hBcnJheSI6IG51bGwsICJkYXNoT2Zmc2V0IjogbnVsbCwgImZpbGwiOiB0cnVlLCAiZmlsbENvbG9yIjogIiMzMTg2ZmYiLCAiZmlsbE9wYWNpdHkiOiAwLjIsICJmaWxsUnVsZSI6ICJldmVub2RkIiwgImxpbmVDYXAiOiAicm91bmQiLCAibGluZUpvaW4iOiAicm91bmQiLCAib3BhY2l0eSI6IDEuMCwgInJhZGl1cyI6IDcuNDA3NDA3NDA3NDA3NDA2NiwgInN0cm9rZSI6IHRydWUsICJ3ZWlnaHQiOiAzfQogICAgICAgICAgICApLmFkZFRvKG1hcF8zMTJlZTc0MzUwM2I0ZDkwODY5M2E0ZDA2MWRjZGY2Mik7CiAgICAgICAgCiAgICAKICAgICAgICB2YXIgcG9wdXBfZmEzYzA0YmQ4MGVlNDUwMjg1NDQ0NDQ5NWViMWM3ZWYgPSBMLnBvcHVwKHsibWF4V2lkdGgiOiAiMTAwJSJ9KTsKCiAgICAgICAgCiAgICAgICAgICAgIHZhciBodG1sX2YwYzQ1ODUzZGNjZDQ2Y2RhZWU5YjZjYjBjNDY0YTI5ID0gJChgPGRpdiBpZD0iaHRtbF9mMGM0NTg1M2RjY2Q0NmNkYWVlOWI2Y2IwYzQ2NGEyOSIgc3R5bGU9IndpZHRoOiAxMDAuMCU7IGhlaWdodDogMTAwLjAlOyI+SGF5YXRobmFnYXI8L2Rpdj5gKVswXTsKICAgICAgICAgICAgcG9wdXBfZmEzYzA0YmQ4MGVlNDUwMjg1NDQ0NDQ5NWViMWM3ZWYuc2V0Q29udGVudChodG1sX2YwYzQ1ODUzZGNjZDQ2Y2RhZWU5YjZjYjBjNDY0YTI5KTsKICAgICAgICAKCiAgICAgICAgY2lyY2xlX21hcmtlcl8yMGVjNDA4YjAwOTQ0NTRmYWYwYzc3NGNmMDIyNTNmYi5iaW5kUG9wdXAocG9wdXBfZmEzYzA0YmQ4MGVlNDUwMjg1NDQ0NDQ5NWViMWM3ZWYpCiAgICAgICAgOwoKICAgICAgICAKICAgIAogICAgCiAgICAgICAgICAgIHZhciBjaXJjbGVfbWFya2VyXzhhZDI4ZGU5MmYyZjQzZDdiZDY2YjU2ZGRmNTQxOTJlID0gTC5jaXJjbGVNYXJrZXIoCiAgICAgICAgICAgICAgICBbMTcuNDI5MjMwMDAwMDAwMDc1LCA3OC4zNzQ5NTAwMDAwMDAwN10sCiAgICAgICAgICAgICAgICB7ImJ1YmJsaW5nTW91c2VFdmVudHMiOiB0cnVlLCAiY29sb3IiOiAiZ3JlZW4iLCAiZGFzaEFycmF5IjogbnVsbCwgImRhc2hPZmZzZXQiOiBudWxsLCAiZmlsbCI6IHRydWUsICJmaWxsQ29sb3IiOiAiIzMxODZmZiIsICJmaWxsT3BhY2l0eSI6IDAuMiwgImZpbGxSdWxlIjogImV2ZW5vZGQiLCAibGluZUNhcCI6ICJyb3VuZCIsICJsaW5lSm9pbiI6ICJyb3VuZCIsICJvcGFjaXR5IjogMS4wLCAic3Ryb2tlIjogdHJ1ZSwgIndlaWdodCI6IDN9CiAgICAgICAgICAgICkuYWRkVG8obWFwXzMxMmVlNzQzNTAzYjRkOTA4NjkzYTRkMDYxZGNkZjYyKTsKICAgICAgICAKICAgIAogICAgICAgIHZhciBwb3B1cF9mMWM3YWVhZTdjYTU0ZTkwYmFhNWQ2ZTI3ZGM2ZWM3MiA9IEwucG9wdXAoeyJtYXhXaWR0aCI6ICIxMDAlIn0pOwoKICAgICAgICAKICAgICAgICAgICAgdmFyIGh0bWxfOTYxNTE0ZDBlYzk4NDMyYmFmZDIwNjUyNTgxMTk4MzMgPSAkKGA8ZGl2IGlkPSJodG1sXzk2MTUxNGQwZWM5ODQzMmJhZmQyMDY1MjU4MTE5ODMzIiBzdHlsZT0id2lkdGg6IDEwMC4wJTsgaGVpZ2h0OiAxMDAuMCU7Ij5ISVRFQyBDaXR5PC9kaXY+YClbMF07CiAgICAgICAgICAgIHBvcHVwX2YxYzdhZWFlN2NhNTRlOTBiYWE1ZDZlMjdkYzZlYzcyLnNldENvbnRlbnQoaHRtbF85NjE1MTRkMGVjOTg0MzJiYWZkMjA2NTI1ODExOTgzMyk7CiAgICAgICAgCgogICAgICAgIGNpcmNsZV9tYXJrZXJfOGFkMjhkZTkyZjJmNDNkN2JkNjZiNTZkZGY1NDE5MmUuYmluZFBvcHVwKHBvcHVwX2YxYzdhZWFlN2NhNTRlOTBiYWE1ZDZlMjdkYzZlYzcyKQogICAgICAgIDsKCiAgICAgICAgCiAgICAKICAgIAogICAgICAgICAgICB2YXIgY2lyY2xlX21hcmtlcl9iYzdjODBjMTE5YzA0OTlkOWMzZDFlYjA3YzY2OWEwNSA9IEwuY2lyY2xlTWFya2VyKAogICAgICAgICAgICAgICAgWzE3LjM5OTIzMDAwMDAwMDA0NSwgNzguNDgwNzMwMDAwMDAwMDVdLAogICAgICAgICAgICAgICAgeyJidWJibGluZ01vdXNlRXZlbnRzIjogdHJ1ZSwgImNvbG9yIjogImdyZWVuIiwgImRhc2hBcnJheSI6IG51bGwsICJkYXNoT2Zmc2V0IjogbnVsbCwgImZpbGwiOiB0cnVlLCAiZmlsbENvbG9yIjogIiMzMTg2ZmYiLCAiZmlsbE9wYWNpdHkiOiAwLjIsICJmaWxsUnVsZSI6ICJldmVub2RkIiwgImxpbmVDYXAiOiAicm91bmQiLCAibGluZUpvaW4iOiAicm91bmQiLCAib3BhY2l0eSI6IDEuMCwgInN0cm9rZSI6IHRydWUsICJ3ZWlnaHQiOiAzfQogICAgICAgICAgICApLmFkZFRvKG1hcF8zMTJlZTc0MzUwM2I0ZDkwODY5M2E0ZDA2MWRjZGY2Mik7CiAgICAgICAgCiAgICAKICAgICAgICB2YXIgcG9wdXBfOTIwZjQxNjg5ODFkNDRlYmJlNmUyYmMxMDNlYjc1YTcgPSBMLnBvcHVwKHsibWF4V2lkdGgiOiAiMTAwJSJ9KTsKCiAgICAgICAgCiAgICAgICAgICAgIHZhciBodG1sXzliZjY5ZmRlODE2YjQwYjlhNTc1M2Q3M2VlNjNlZWU5ID0gJChgPGRpdiBpZD0iaHRtbF85YmY2OWZkZTgxNmI0MGI5YTU3NTNkNzNlZTYzZWVlOSIgc3R5bGU9IndpZHRoOiAxMDAuMCU7IGhlaWdodDogMTAwLjAlOyI+SHlkZXJndWRhPC9kaXY+YClbMF07CiAgICAgICAgICAgIHBvcHVwXzkyMGY0MTY4OTgxZDQ0ZWJiZTZlMmJjMTAzZWI3NWE3LnNldENvbnRlbnQoaHRtbF85YmY2OWZkZTgxNmI0MGI5YTU3NTNkNzNlZTYzZWVlOSk7CiAgICAgICAgCgogICAgICAgIGNpcmNsZV9tYXJrZXJfYmM3YzgwYzExOWMwNDk5ZDljM2QxZWIwN2M2NjlhMDUuYmluZFBvcHVwKHBvcHVwXzkyMGY0MTY4OTgxZDQ0ZWJiZTZlMmJjMTAzZWI3NWE3KQogICAgICAgIDsKCiAgICAgICAgCiAgICAKICAgIAogICAgICAgICAgICB2YXIgY2lyY2xlX21hcmtlcl9kODA4NjliMGNhYmU0OTJmOGJlM2YwOGNiNGJlODU3ZCA9IEwuY2lyY2xlTWFya2VyKAogICAgICAgICAgICAgICAgWzE3LjM2ODM4MDAwMDAwMDA2LCA3OC4zOTk5OTAwMDAwMDAwNl0sCiAgICAgICAgICAgICAgICB7ImJ1YmJsaW5nTW91c2VFdmVudHMiOiB0cnVlLCAiY29sb3IiOiAiZ3JlZW4iLCAiZGFzaEFycmF5IjogbnVsbCwgImRhc2hPZmZzZXQiOiBudWxsLCAiZmlsbCI6IHRydWUsICJmaWxsQ29sb3IiOiAiIzMxODZmZiIsICJmaWxsT3BhY2l0eSI6IDAuMiwgImZpbGxSdWxlIjogImV2ZW5vZGQiLCAibGluZUNhcCI6ICJyb3VuZCIsICJsaW5lSm9pbiI6ICJyb3VuZCIsICJvcGFjaXR5IjogMS4wLCAicmFkaXVzIjogOS4wLCAic3Ryb2tlIjogdHJ1ZSwgIndlaWdodCI6IDN9CiAgICAgICAgICAgICkuYWRkVG8obWFwXzMxMmVlNzQzNTAzYjRkOTA4NjkzYTRkMDYxZGNkZjYyKTsKICAgICAgICAKICAgIAogICAgICAgIHZhciBwb3B1cF82MzJiYTE3MzhmYmE0YWMzOGViNjE1NmY0Njk0NzdjYyA9IEwucG9wdXAoeyJtYXhXaWR0aCI6ICIxMDAlIn0pOwoKICAgICAgICAKICAgICAgICAgICAgdmFyIGh0bWxfZDgxMTRiNDZlNzI5NGYyODk4NGIzYzExYjE5MDMzMWUgPSAkKGA8ZGl2IGlkPSJodG1sX2Q4MTE0YjQ2ZTcyOTRmMjg5ODRiM2MxMWIxOTAzMzFlIiBzdHlsZT0id2lkdGg6IDEwMC4wJTsgaGVpZ2h0OiAxMDAuMCU7Ij5IeWRlcnNoYWtvdGU8L2Rpdj5gKVswXTsKICAgICAgICAgICAgcG9wdXBfNjMyYmExNzM4ZmJhNGFjMzhlYjYxNTZmNDY5NDc3Y2Muc2V0Q29udGVudChodG1sX2Q4MTE0YjQ2ZTcyOTRmMjg5ODRiM2MxMWIxOTAzMzFlKTsKICAgICAgICAKCiAgICAgICAgY2lyY2xlX21hcmtlcl9kODA4NjliMGNhYmU0OTJmOGJlM2YwOGNiNGJlODU3ZC5iaW5kUG9wdXAocG9wdXBfNjMyYmExNzM4ZmJhNGFjMzhlYjYxNTZmNDY5NDc3Y2MpCiAgICAgICAgOwoKICAgICAgICAKICAgIAogICAgCiAgICAgICAgICAgIHZhciBjaXJjbGVfbWFya2VyX2I3MTMxNWYzNzNmODQxZmJhYmI2MTJhNzFhNzkyMTI3ID0gTC5jaXJjbGVNYXJrZXIoCiAgICAgICAgICAgICAgICBbMTcuNDI4NjUwMDAwMDAwMDYsIDc4LjM5NzYyMDAwMDAwMDA3XSwKICAgICAgICAgICAgICAgIHsiYnViYmxpbmdNb3VzZUV2ZW50cyI6IHRydWUsICJjb2xvciI6ICJncmVlbiIsICJkYXNoQXJyYXkiOiBudWxsLCAiZGFzaE9mZnNldCI6IG51bGwsICJmaWxsIjogdHJ1ZSwgImZpbGxDb2xvciI6ICIjMzE4NmZmIiwgImZpbGxPcGFjaXR5IjogMC4yLCAiZmlsbFJ1bGUiOiAiZXZlbm9kZCIsICJsaW5lQ2FwIjogInJvdW5kIiwgImxpbmVKb2luIjogInJvdW5kIiwgIm9wYWNpdHkiOiAxLjAsICJzdHJva2UiOiB0cnVlLCAid2VpZ2h0IjogM30KICAgICAgICAgICAgKS5hZGRUbyhtYXBfMzEyZWU3NDM1MDNiNGQ5MDg2OTNhNGQwNjFkY2RmNjIpOwogICAgICAgIAogICAgCiAgICAgICAgdmFyIHBvcHVwX2VhMmI4OGM2ODc4OTQ5YjlhM2MxMjk2Zjg0MDM0MmE5ID0gTC5wb3B1cCh7Im1heFdpZHRoIjogIjEwMCUifSk7CgogICAgICAgIAogICAgICAgICAgICB2YXIgaHRtbF85OGY5Yjc3ZTYxYmY0MjEyOThlODlmZDRlNWFkMjdiNSA9ICQoYDxkaXYgaWQ9Imh0bWxfOThmOWI3N2U2MWJmNDIxMjk4ZTg5ZmQ0ZTVhZDI3YjUiIHN0eWxlPSJ3aWR0aDogMTAwLjAlOyBoZWlnaHQ6IDEwMC4wJTsiPkp1YmlsZWUgSGlsbHM8L2Rpdj5gKVswXTsKICAgICAgICAgICAgcG9wdXBfZWEyYjg4YzY4Nzg5NDliOWEzYzEyOTZmODQwMzQyYTkuc2V0Q29udGVudChodG1sXzk4ZjliNzdlNjFiZjQyMTI5OGU4OWZkNGU1YWQyN2I1KTsKICAgICAgICAKCiAgICAgICAgY2lyY2xlX21hcmtlcl9iNzEzMTVmMzczZjg0MWZiYWJiNjEyYTcxYTc5MjEyNy5iaW5kUG9wdXAocG9wdXBfZWEyYjg4YzY4Nzg5NDliOWEzYzEyOTZmODQwMzQyYTkpCiAgICAgICAgOwoKICAgICAgICAKICAgIAogICAgCiAgICAgICAgICAgIHZhciBjaXJjbGVfbWFya2VyXzkyZTEyYTAzMGZjMDRlNDFiMjdhOWRhYTA5NDM2ZTEwID0gTC5jaXJjbGVNYXJrZXIoCiAgICAgICAgICAgICAgICBbMTcuMzg2ODgwMDAwMDAwMDc2LCA3OC40OTU1MzAwMDAwMDAwM10sCiAgICAgICAgICAgICAgICB7ImJ1YmJsaW5nTW91c2VFdmVudHMiOiB0cnVlLCAiY29sb3IiOiAiZ3JlZW4iLCAiZGFzaEFycmF5IjogbnVsbCwgImRhc2hPZmZzZXQiOiBudWxsLCAiZmlsbCI6IHRydWUsICJmaWxsQ29sb3IiOiAiIzMxODZmZiIsICJmaWxsT3BhY2l0eSI6IDAuMiwgImZpbGxSdWxlIjogImV2ZW5vZGQiLCAibGluZUNhcCI6ICJyb3VuZCIsICJsaW5lSm9pbiI6ICJyb3VuZCIsICJvcGFjaXR5IjogMS4wLCAicmFkaXVzIjogNi4wLCAic3Ryb2tlIjogdHJ1ZSwgIndlaWdodCI6IDN9CiAgICAgICAgICAgICkuYWRkVG8obWFwXzMxMmVlNzQzNTAzYjRkOTA4NjkzYTRkMDYxZGNkZjYyKTsKICAgICAgICAKICAgIAogICAgICAgIHZhciBwb3B1cF9mOTQ1ZTg0YTdiYjI0ZDNjYTFmNzE0NGNjNzBlNmY3ZSA9IEwucG9wdXAoeyJtYXhXaWR0aCI6ICIxMDAlIn0pOwoKICAgICAgICAKICAgICAgICAgICAgdmFyIGh0bWxfNWM1OThjZGMwZWIyNGMzN2I0NTUyNzEwNzczN2EyOTQgPSAkKGA8ZGl2IGlkPSJodG1sXzVjNTk4Y2RjMGViMjRjMzdiNDU1MjcxMDc3MzdhMjk0IiBzdHlsZT0id2lkdGg6IDEwMC4wJTsgaGVpZ2h0OiAxMDAuMCU7Ij5LYWNoaWd1ZGE8L2Rpdj5gKVswXTsKICAgICAgICAgICAgcG9wdXBfZjk0NWU4NGE3YmIyNGQzY2ExZjcxNDRjYzcwZTZmN2Uuc2V0Q29udGVudChodG1sXzVjNTk4Y2RjMGViMjRjMzdiNDU1MjcxMDc3MzdhMjk0KTsKICAgICAgICAKCiAgICAgICAgY2lyY2xlX21hcmtlcl85MmUxMmEwMzBmYzA0ZTQxYjI3YTlkYWEwOTQzNmUxMC5iaW5kUG9wdXAocG9wdXBfZjk0NWU4NGE3YmIyNGQzY2ExZjcxNDRjYzcwZTZmN2UpCiAgICAgICAgOwoKICAgICAgICAKICAgIAogICAgCiAgICAgICAgICAgIHZhciBjaXJjbGVfbWFya2VyXzBkNzY1NTYzNThlZTRmMDc5MzNlNmNjMjY1NjNiZDhhID0gTC5jaXJjbGVNYXJrZXIoCiAgICAgICAgICAgICAgICBbMTcuNDA1OTIwMDAwMDAwMDM3LCA3OC40NTg1NjAwMDAwMDAwM10sCiAgICAgICAgICAgICAgICB7ImJ1YmJsaW5nTW91c2VFdmVudHMiOiB0cnVlLCAiY29sb3IiOiAiZ3JlZW4iLCAiZGFzaEFycmF5IjogbnVsbCwgImRhc2hPZmZzZXQiOiBudWxsLCAiZmlsbCI6IHRydWUsICJmaWxsQ29sb3IiOiAiIzMxODZmZiIsICJmaWxsT3BhY2l0eSI6IDAuMiwgImZpbGxSdWxlIjogImV2ZW5vZGQiLCAibGluZUNhcCI6ICJyb3VuZCIsICJsaW5lSm9pbiI6ICJyb3VuZCIsICJvcGFjaXR5IjogMS4wLCAic3Ryb2tlIjogdHJ1ZSwgIndlaWdodCI6IDN9CiAgICAgICAgICAgICkuYWRkVG8obWFwXzMxMmVlNzQzNTAzYjRkOTA4NjkzYTRkMDYxZGNkZjYyKTsKICAgICAgICAKICAgIAogICAgICAgIHZhciBwb3B1cF85YTk0NDYzZTNlYzk0MzYyODg3MjNlMGUyYTgwZmI1YiA9IEwucG9wdXAoeyJtYXhXaWR0aCI6ICIxMDAlIn0pOwoKICAgICAgICAKICAgICAgICAgICAgdmFyIGh0bWxfNmQ1ZmY4YTYzYjYyNDc4NjkzMGQ0ZWRjMGIyNGYwM2EgPSAkKGA8ZGl2IGlkPSJodG1sXzZkNWZmOGE2M2I2MjQ3ODY5MzBkNGVkYzBiMjRmMDNhIiBzdHlsZT0id2lkdGg6IDEwMC4wJTsgaGVpZ2h0OiAxMDAuMCU7Ij5LaGFpcnRhYmFkPC9kaXY+YClbMF07CiAgICAgICAgICAgIHBvcHVwXzlhOTQ0NjNlM2VjOTQzNjI4ODcyM2UwZTJhODBmYjViLnNldENvbnRlbnQoaHRtbF82ZDVmZjhhNjNiNjI0Nzg2OTMwZDRlZGMwYjI0ZjAzYSk7CiAgICAgICAgCgogICAgICAgIGNpcmNsZV9tYXJrZXJfMGQ3NjU1NjM1OGVlNGYwNzkzM2U2Y2MyNjU2M2JkOGEuYmluZFBvcHVwKHBvcHVwXzlhOTQ0NjNlM2VjOTQzNjI4ODcyM2UwZTJhODBmYjViKQogICAgICAgIDsKCiAgICAgICAgCiAgICAKICAgIAogICAgICAgICAgICB2YXIgY2lyY2xlX21hcmtlcl9lNDYzOGJhYjU5NDk0MTU3YjNmNDM1MTAzZTM5OGNiYyA9IEwuY2lyY2xlTWFya2VyKAogICAgICAgICAgICAgICAgWzE3LjM4NTk0MDAwMDAwMDA2MiwgNzguNDgzMzgwMDAwMDAwMDddLAogICAgICAgICAgICAgICAgeyJidWJibGluZ01vdXNlRXZlbnRzIjogdHJ1ZSwgImNvbG9yIjogImdyZWVuIiwgImRhc2hBcnJheSI6IG51bGwsICJkYXNoT2Zmc2V0IjogbnVsbCwgImZpbGwiOiB0cnVlLCAiZmlsbENvbG9yIjogIiMzMTg2ZmYiLCAiZmlsbE9wYWNpdHkiOiAwLjIsICJmaWxsUnVsZSI6ICJldmVub2RkIiwgImxpbmVDYXAiOiAicm91bmQiLCAibGluZUpvaW4iOiAicm91bmQiLCAib3BhY2l0eSI6IDEuMCwgInN0cm9rZSI6IHRydWUsICJ3ZWlnaHQiOiAzfQogICAgICAgICAgICApLmFkZFRvKG1hcF8zMTJlZTc0MzUwM2I0ZDkwODY5M2E0ZDA2MWRjZGY2Mik7CiAgICAgICAgCiAgICAKICAgICAgICB2YXIgcG9wdXBfYzkyODYxMjYxOGZmNGRkMzk5MTFmNjAxZjgzNzQwMGUgPSBMLnBvcHVwKHsibWF4V2lkdGgiOiAiMTAwJSJ9KTsKCiAgICAgICAgCiAgICAgICAgICAgIHZhciBodG1sXzAwMzhjNDU1NzFhMDQ4MWRiZDg0MDdkYzgzMTliOGI3ID0gJChgPGRpdiBpZD0iaHRtbF8wMDM4YzQ1NTcxYTA0ODFkYmQ4NDA3ZGM4MzE5YjhiNyIgc3R5bGU9IndpZHRoOiAxMDAuMCU7IGhlaWdodDogMTAwLjAlOyI+S290aSwgSHlkZXJhYmFkPC9kaXY+YClbMF07CiAgICAgICAgICAgIHBvcHVwX2M5Mjg2MTI2MThmZjRkZDM5OTExZjYwMWY4Mzc0MDBlLnNldENvbnRlbnQoaHRtbF8wMDM4YzQ1NTcxYTA0ODFkYmQ4NDA3ZGM4MzE5YjhiNyk7CiAgICAgICAgCgogICAgICAgIGNpcmNsZV9tYXJrZXJfZTQ2MzhiYWI1OTQ5NDE1N2IzZjQzNTEwM2UzOThjYmMuYmluZFBvcHVwKHBvcHVwX2M5Mjg2MTI2MThmZjRkZDM5OTExZjYwMWY4Mzc0MDBlKQogICAgICAgIDsKCiAgICAgICAgCiAgICAKICAgIAogICAgICAgICAgICB2YXIgY2lyY2xlX21hcmtlcl81NTczOTkxMzE2M2U0NTliYTdjMGVmOTg3MDU1ZTZhMiA9IEwuY2lyY2xlTWFya2VyKAogICAgICAgICAgICAgICAgWzE3LjQ4NzM1MDAwMDAwMDA1LCA3OC40MjA4NzAwMDAwMDAwNF0sCiAgICAgICAgICAgICAgICB7ImJ1YmJsaW5nTW91c2VFdmVudHMiOiB0cnVlLCAiY29sb3IiOiAiZ3JlZW4iLCAiZGFzaEFycmF5IjogbnVsbCwgImRhc2hPZmZzZXQiOiBudWxsLCAiZmlsbCI6IHRydWUsICJmaWxsQ29sb3IiOiAiIzMxODZmZiIsICJmaWxsT3BhY2l0eSI6IDAuMiwgImZpbGxSdWxlIjogImV2ZW5vZGQiLCAibGluZUNhcCI6ICJyb3VuZCIsICJsaW5lSm9pbiI6ICJyb3VuZCIsICJvcGFjaXR5IjogMS4wLCAic3Ryb2tlIjogdHJ1ZSwgIndlaWdodCI6IDN9CiAgICAgICAgICAgICkuYWRkVG8obWFwXzMxMmVlNzQzNTAzYjRkOTA4NjkzYTRkMDYxZGNkZjYyKTsKICAgICAgICAKICAgIAogICAgICAgIHZhciBwb3B1cF84NWVmZDY5YWU2MTI0ZWUyYmViYTBjNGQwYWRhNWFjZiA9IEwucG9wdXAoeyJtYXhXaWR0aCI6ICIxMDAlIn0pOwoKICAgICAgICAKICAgICAgICAgICAgdmFyIGh0bWxfYjQ5ZjU5YzA1MmVhNGI3Nzg5NWQ1YTVhMDJhMzg3NTUgPSAkKGA8ZGl2IGlkPSJodG1sX2I0OWY1OWMwNTJlYTRiNzc4OTVkNWE1YTAyYTM4NzU1IiBzdHlsZT0id2lkdGg6IDEwMC4wJTsgaGVpZ2h0OiAxMDAuMCU7Ij5LdWthdHBhbGx5PC9kaXY+YClbMF07CiAgICAgICAgICAgIHBvcHVwXzg1ZWZkNjlhZTYxMjRlZTJiZWJhMGM0ZDBhZGE1YWNmLnNldENvbnRlbnQoaHRtbF9iNDlmNTljMDUyZWE0Yjc3ODk1ZDVhNWEwMmEzODc1NSk7CiAgICAgICAgCgogICAgICAgIGNpcmNsZV9tYXJrZXJfNTU3Mzk5MTMxNjNlNDU5YmE3YzBlZjk4NzA1NWU2YTIuYmluZFBvcHVwKHBvcHVwXzg1ZWZkNjlhZTYxMjRlZTJiZWJhMGM0ZDBhZGE1YWNmKQogICAgICAgIDsKCiAgICAgICAgCiAgICAKICAgIAogICAgICAgICAgICB2YXIgY2lyY2xlX21hcmtlcl81NTQ2MDkzMmMwMjY0OGZkYjVjYjY2MTZiYTMyODNhOSA9IEwuY2lyY2xlTWFya2VyKAogICAgICAgICAgICAgICAgWzE3LjUxMjY1MDAwMDAwMDA2NSwgNzguNDQxMjkwMDAwMDAwMDRdLAogICAgICAgICAgICAgICAgeyJidWJibGluZ01vdXNlRXZlbnRzIjogdHJ1ZSwgImNvbG9yIjogImdyZWVuIiwgImRhc2hBcnJheSI6IG51bGwsICJkYXNoT2Zmc2V0IjogbnVsbCwgImZpbGwiOiB0cnVlLCAiZmlsbENvbG9yIjogIiMzMTg2ZmYiLCAiZmlsbE9wYWNpdHkiOiAwLjIsICJmaWxsUnVsZSI6ICJldmVub2RkIiwgImxpbmVDYXAiOiAicm91bmQiLCAibGluZUpvaW4iOiAicm91bmQiLCAib3BhY2l0eSI6IDEuMCwgInJhZGl1cyI6IDkuMCwgInN0cm9rZSI6IHRydWUsICJ3ZWlnaHQiOiAzfQogICAgICAgICAgICApLmFkZFRvKG1hcF8zMTJlZTc0MzUwM2I0ZDkwODY5M2E0ZDA2MWRjZGY2Mik7CiAgICAgICAgCiAgICAKICAgICAgICB2YXIgcG9wdXBfNzk1M2VmMTcwZDM0NGU2NzljNThkY2FjMWM1YjBhNTggPSBMLnBvcHVwKHsibWF4V2lkdGgiOiAiMTAwJSJ9KTsKCiAgICAgICAgCiAgICAgICAgICAgIHZhciBodG1sXzZkM2Q2N2E3MTc2NjQzNDQ4ZWY5MmQ4MzYyZjMwZDBhID0gJChgPGRpdiBpZD0iaHRtbF82ZDNkNjdhNzE3NjY0MzQ0OGVmOTJkODM2MmYzMGQwYSIgc3R5bGU9IndpZHRoOiAxMDAuMCU7IGhlaWdodDogMTAwLjAlOyI+TC4gQi4gTmFnYXI8L2Rpdj5gKVswXTsKICAgICAgICAgICAgcG9wdXBfNzk1M2VmMTcwZDM0NGU2NzljNThkY2FjMWM1YjBhNTguc2V0Q29udGVudChodG1sXzZkM2Q2N2E3MTc2NjQzNDQ4ZWY5MmQ4MzYyZjMwZDBhKTsKICAgICAgICAKCiAgICAgICAgY2lyY2xlX21hcmtlcl81NTQ2MDkzMmMwMjY0OGZkYjVjYjY2MTZiYTMyODNhOS5iaW5kUG9wdXAocG9wdXBfNzk1M2VmMTcwZDM0NGU2NzljNThkY2FjMWM1YjBhNTgpCiAgICAgICAgOwoKICAgICAgICAKICAgIAogICAgCiAgICAgICAgICAgIHZhciBjaXJjbGVfbWFya2VyX2M2MmU1ZmE3NjQ4MTQ4NTJhMGYzN2FjZDVlYmVmYTYwID0gTC5jaXJjbGVNYXJrZXIoCiAgICAgICAgICAgICAgICBbMTcuNDU2OTQwMDAwMDAwMDMsIDc4LjM5MDEzMDAwMDAwMDA2XSwKICAgICAgICAgICAgICAgIHsiYnViYmxpbmdNb3VzZUV2ZW50cyI6IHRydWUsICJjb2xvciI6ICJncmVlbiIsICJkYXNoQXJyYXkiOiBudWxsLCAiZGFzaE9mZnNldCI6IG51bGwsICJmaWxsIjogdHJ1ZSwgImZpbGxDb2xvciI6ICIjMzE4NmZmIiwgImZpbGxPcGFjaXR5IjogMC4yLCAiZmlsbFJ1bGUiOiAiZXZlbm9kZCIsICJsaW5lQ2FwIjogInJvdW5kIiwgImxpbmVKb2luIjogInJvdW5kIiwgIm9wYWNpdHkiOiAxLjAsICJzdHJva2UiOiB0cnVlLCAid2VpZ2h0IjogM30KICAgICAgICAgICAgKS5hZGRUbyhtYXBfMzEyZWU3NDM1MDNiNGQ5MDg2OTNhNGQwNjFkY2RmNjIpOwogICAgICAgIAogICAgCiAgICAgICAgdmFyIHBvcHVwXzRlNGQ4YWJkY2VmMzQyYWE5MDQyOGY0OTc4NzQ2MzVlID0gTC5wb3B1cCh7Im1heFdpZHRoIjogIjEwMCUifSk7CgogICAgICAgIAogICAgICAgICAgICB2YXIgaHRtbF9kZTFhMjZmMjk0OWQ0NjU0YTZjOTAxZjNhZDE5MGE5MiA9ICQoYDxkaXYgaWQ9Imh0bWxfZGUxYTI2ZjI5NDlkNDY1NGE2YzkwMWYzYWQxOTBhOTIiIHN0eWxlPSJ3aWR0aDogMTAwLjAlOyBoZWlnaHQ6IDEwMC4wJTsiPk1hZGhhcHVyPC9kaXY+YClbMF07CiAgICAgICAgICAgIHBvcHVwXzRlNGQ4YWJkY2VmMzQyYWE5MDQyOGY0OTc4NzQ2MzVlLnNldENvbnRlbnQoaHRtbF9kZTFhMjZmMjk0OWQ0NjU0YTZjOTAxZjNhZDE5MGE5Mik7CiAgICAgICAgCgogICAgICAgIGNpcmNsZV9tYXJrZXJfYzYyZTVmYTc2NDgxNDg1MmEwZjM3YWNkNWViZWZhNjAuYmluZFBvcHVwKHBvcHVwXzRlNGQ4YWJkY2VmMzQyYWE5MDQyOGY0OTc4NzQ2MzVlKQogICAgICAgIDsKCiAgICAgICAgCiAgICAKICAgIAogICAgICAgICAgICB2YXIgY2lyY2xlX21hcmtlcl8wNjZhZGRmOWYzODU0OGU2YWU4ZmJiM2JkMWY4OTQ1NiA9IEwuY2lyY2xlTWFya2VyKAogICAgICAgICAgICAgICAgWzE3LjM3NDkzMDAwMDAwMDA2MywgNzguNTE1NjcwMDAwMDAwMDZdLAogICAgICAgICAgICAgICAgeyJidWJibGluZ01vdXNlRXZlbnRzIjogdHJ1ZSwgImNvbG9yIjogImdyZWVuIiwgImRhc2hBcnJheSI6IG51bGwsICJkYXNoT2Zmc2V0IjogbnVsbCwgImZpbGwiOiB0cnVlLCAiZmlsbENvbG9yIjogIiMzMTg2ZmYiLCAiZmlsbE9wYWNpdHkiOiAwLjIsICJmaWxsUnVsZSI6ICJldmVub2RkIiwgImxpbmVDYXAiOiAicm91bmQiLCAibGluZUpvaW4iOiAicm91bmQiLCAib3BhY2l0eSI6IDEuMCwgInN0cm9rZSI6IHRydWUsICJ3ZWlnaHQiOiAzfQogICAgICAgICAgICApLmFkZFRvKG1hcF8zMTJlZTc0MzUwM2I0ZDkwODY5M2E0ZDA2MWRjZGY2Mik7CiAgICAgICAgCiAgICAKICAgICAgICB2YXIgcG9wdXBfNjNlZTUzMTA0NTVkNDRhNmFkMDZiYjU0MzJkMGY0YTcgPSBMLnBvcHVwKHsibWF4V2lkdGgiOiAiMTAwJSJ9KTsKCiAgICAgICAgCiAgICAgICAgICAgIHZhciBodG1sXzhjOGE2ZjBkMDMwZTQyYThhOWM3NTYxM2RhOGVlMDcxID0gJChgPGRpdiBpZD0iaHRtbF84YzhhNmYwZDAzMGU0MmE4YTljNzU2MTNkYThlZTA3MSIgc3R5bGU9IndpZHRoOiAxMDAuMCU7IGhlaWdodDogMTAwLjAlOyI+TWFsYWtwZXQ8L2Rpdj5gKVswXTsKICAgICAgICAgICAgcG9wdXBfNjNlZTUzMTA0NTVkNDRhNmFkMDZiYjU0MzJkMGY0YTcuc2V0Q29udGVudChodG1sXzhjOGE2ZjBkMDMwZTQyYThhOWM3NTYxM2RhOGVlMDcxKTsKICAgICAgICAKCiAgICAgICAgY2lyY2xlX21hcmtlcl8wNjZhZGRmOWYzODU0OGU2YWU4ZmJiM2JkMWY4OTQ1Ni5iaW5kUG9wdXAocG9wdXBfNjNlZTUzMTA0NTVkNDRhNmFkMDZiYjU0MzJkMGY0YTcpCiAgICAgICAgOwoKICAgICAgICAKICAgIAogICAgCiAgICAgICAgICAgIHZhciBjaXJjbGVfbWFya2VyXzI2YWNhNzNkMWZkYjQ3NjY4MmQ1YTUwNmJlNDMzODhlID0gTC5jaXJjbGVNYXJrZXIoCiAgICAgICAgICAgICAgICBbMTcuNDQ3MzcwMDAwMDAwMDM1LCA3OC41MzUyMDAwMDAwMDAwM10sCiAgICAgICAgICAgICAgICB7ImJ1YmJsaW5nTW91c2VFdmVudHMiOiB0cnVlLCAiY29sb3IiOiAiZ3JlZW4iLCAiZGFzaEFycmF5IjogbnVsbCwgImRhc2hPZmZzZXQiOiBudWxsLCAiZmlsbCI6IHRydWUsICJmaWxsQ29sb3IiOiAiIzMxODZmZiIsICJmaWxsT3BhY2l0eSI6IDAuMiwgImZpbGxSdWxlIjogImV2ZW5vZGQiLCAibGluZUNhcCI6ICJyb3VuZCIsICJsaW5lSm9pbiI6ICJyb3VuZCIsICJvcGFjaXR5IjogMS4wLCAic3Ryb2tlIjogdHJ1ZSwgIndlaWdodCI6IDN9CiAgICAgICAgICAgICkuYWRkVG8obWFwXzMxMmVlNzQzNTAzYjRkOTA4NjkzYTRkMDYxZGNkZjYyKTsKICAgICAgICAKICAgIAogICAgICAgIHZhciBwb3B1cF8zMGI1NTI2Y2Q3ZTk0ZGUwYmM5OGRkZjMwMjM5NjYxMiA9IEwucG9wdXAoeyJtYXhXaWR0aCI6ICIxMDAlIn0pOwoKICAgICAgICAKICAgICAgICAgICAgdmFyIGh0bWxfZjhjNjFkM2RiNmQyNGZjMTg3YWE0NTgwMzc2ZDM3NmUgPSAkKGA8ZGl2IGlkPSJodG1sX2Y4YzYxZDNkYjZkMjRmYzE4N2FhNDU4MDM3NmQzNzZlIiBzdHlsZT0id2lkdGg6IDEwMC4wJTsgaGVpZ2h0OiAxMDAuMCU7Ij5NYWxrYWpnaXJpPC9kaXY+YClbMF07CiAgICAgICAgICAgIHBvcHVwXzMwYjU1MjZjZDdlOTRkZTBiYzk4ZGRmMzAyMzk2NjEyLnNldENvbnRlbnQoaHRtbF9mOGM2MWQzZGI2ZDI0ZmMxODdhYTQ1ODAzNzZkMzc2ZSk7CiAgICAgICAgCgogICAgICAgIGNpcmNsZV9tYXJrZXJfMjZhY2E3M2QxZmRiNDc2NjgyZDVhNTA2YmU0MzM4OGUuYmluZFBvcHVwKHBvcHVwXzMwYjU1MjZjZDdlOTRkZTBiYzk4ZGRmMzAyMzk2NjEyKQogICAgICAgIDsKCiAgICAgICAgCiAgICAKICAgIAogICAgICAgICAgICB2YXIgY2lyY2xlX21hcmtlcl9kOTg4ZWI2NjczMzk0Njc2OWNlMzUxYmRhOGJiMTVkMCA9IEwuY2lyY2xlTWFya2VyKAogICAgICAgICAgICAgICAgWzE3LjQwMTM5MDAwMDAwMDA1LCA3OC4zOTE2MzAwMDAwMDAwOF0sCiAgICAgICAgICAgICAgICB7ImJ1YmJsaW5nTW91c2VFdmVudHMiOiB0cnVlLCAiY29sb3IiOiAiZ3JlZW4iLCAiZGFzaEFycmF5IjogbnVsbCwgImRhc2hPZmZzZXQiOiBudWxsLCAiZmlsbCI6IHRydWUsICJmaWxsQ29sb3IiOiAiIzMxODZmZiIsICJmaWxsT3BhY2l0eSI6IDAuMiwgImZpbGxSdWxlIjogImV2ZW5vZGQiLCAibGluZUNhcCI6ICJyb3VuZCIsICJsaW5lSm9pbiI6ICJyb3VuZCIsICJvcGFjaXR5IjogMS4wLCAicmFkaXVzIjogNi4wLCAic3Ryb2tlIjogdHJ1ZSwgIndlaWdodCI6IDN9CiAgICAgICAgICAgICkuYWRkVG8obWFwXzMxMmVlNzQzNTAzYjRkOTA4NjkzYTRkMDYxZGNkZjYyKTsKICAgICAgICAKICAgIAogICAgICAgIHZhciBwb3B1cF80ZDZhMzEyNjgwMzc0M2ZkODJjNGMzOTExODYwNWJkYyA9IEwucG9wdXAoeyJtYXhXaWR0aCI6ICIxMDAlIn0pOwoKICAgICAgICAKICAgICAgICAgICAgdmFyIGh0bWxfMjA2NWE5ZjgyNDgxNDdmZWI4N2U5OTgxYjk0ZjA2YmEgPSAkKGA8ZGl2IGlkPSJodG1sXzIwNjVhOWY4MjQ4MTQ3ZmViODdlOTk4MWI5NGYwNmJhIiBzdHlsZT0id2lkdGg6IDEwMC4wJTsgaGVpZ2h0OiAxMDAuMCU7Ij5NYW5pa29uZGE8L2Rpdj5gKVswXTsKICAgICAgICAgICAgcG9wdXBfNGQ2YTMxMjY4MDM3NDNmZDgyYzRjMzkxMTg2MDViZGMuc2V0Q29udGVudChodG1sXzIwNjVhOWY4MjQ4MTQ3ZmViODdlOTk4MWI5NGYwNmJhKTsKICAgICAgICAKCiAgICAgICAgY2lyY2xlX21hcmtlcl9kOTg4ZWI2NjczMzk0Njc2OWNlMzUxYmRhOGJiMTVkMC5iaW5kUG9wdXAocG9wdXBfNGQ2YTMxMjY4MDM3NDNmZDgyYzRjMzkxMTg2MDViZGMpCiAgICAgICAgOwoKICAgICAgICAKICAgIAogICAgCiAgICAgICAgICAgIHZhciBjaXJjbGVfbWFya2VyXzliMmZkMDkwZDljZDQwMjdhMzEwNGU0ZWMyNTEzNzYzID0gTC5jaXJjbGVNYXJrZXIoCiAgICAgICAgICAgICAgICBbMTcuNDAwOTMwMDAwMDAwMDc0LCA3OC40NTM2MjAwMDAwMDAwNl0sCiAgICAgICAgICAgICAgICB7ImJ1YmJsaW5nTW91c2VFdmVudHMiOiB0cnVlLCAiY29sb3IiOiAiZ3JlZW4iLCAiZGFzaEFycmF5IjogbnVsbCwgImRhc2hPZmZzZXQiOiBudWxsLCAiZmlsbCI6IHRydWUsICJmaWxsQ29sb3IiOiAiIzMxODZmZiIsICJmaWxsT3BhY2l0eSI6IDAuMiwgImZpbGxSdWxlIjogImV2ZW5vZGQiLCAibGluZUNhcCI6ICJyb3VuZCIsICJsaW5lSm9pbiI6ICJyb3VuZCIsICJvcGFjaXR5IjogMS4wLCAic3Ryb2tlIjogdHJ1ZSwgIndlaWdodCI6IDN9CiAgICAgICAgICAgICkuYWRkVG8obWFwXzMxMmVlNzQzNTAzYjRkOTA4NjkzYTRkMDYxZGNkZjYyKTsKICAgICAgICAKICAgIAogICAgICAgIHZhciBwb3B1cF9lYTI1ZDk3NzA4YTg0NDU4ODBkYjFkMjQxY2IxMjFhZSA9IEwucG9wdXAoeyJtYXhXaWR0aCI6ICIxMDAlIn0pOwoKICAgICAgICAKICAgICAgICAgICAgdmFyIGh0bWxfMDYxMzdhZWIwYjI4NDEyYjhjZmE2MTNkNDYwYWViYjkgPSAkKGA8ZGl2IGlkPSJodG1sXzA2MTM3YWViMGIyODQxMmI4Y2ZhNjEzZDQ2MGFlYmI5IiBzdHlsZT0id2lkdGg6IDEwMC4wJTsgaGVpZ2h0OiAxMDAuMCU7Ij5NYXNhYiBUYW5rPC9kaXY+YClbMF07CiAgICAgICAgICAgIHBvcHVwX2VhMjVkOTc3MDhhODQ0NTg4MGRiMWQyNDFjYjEyMWFlLnNldENvbnRlbnQoaHRtbF8wNjEzN2FlYjBiMjg0MTJiOGNmYTYxM2Q0NjBhZWJiOSk7CiAgICAgICAgCgogICAgICAgIGNpcmNsZV9tYXJrZXJfOWIyZmQwOTBkOWNkNDAyN2EzMTA0ZTRlYzI1MTM3NjMuYmluZFBvcHVwKHBvcHVwX2VhMjVkOTc3MDhhODQ0NTg4MGRiMWQyNDFjYjEyMWFlKQogICAgICAgIDsKCiAgICAgICAgCiAgICAKICAgIAogICAgICAgICAgICB2YXIgY2lyY2xlX21hcmtlcl82OTE1NTM2NGQzZDA0ZDI3YmZkOTcxNzFiMmJlNmJmNyA9IEwuY2lyY2xlTWFya2VyKAogICAgICAgICAgICAgICAgWzE3LjM5MjYzMDAwMDAwMDA1NCwgNzguNDQyMTkwMDAwMDAwMDRdLAogICAgICAgICAgICAgICAgeyJidWJibGluZ01vdXNlRXZlbnRzIjogdHJ1ZSwgImNvbG9yIjogImdyZWVuIiwgImRhc2hBcnJheSI6IG51bGwsICJkYXNoT2Zmc2V0IjogbnVsbCwgImZpbGwiOiB0cnVlLCAiZmlsbENvbG9yIjogIiMzMTg2ZmYiLCAiZmlsbE9wYWNpdHkiOiAwLjIsICJmaWxsUnVsZSI6ICJldmVub2RkIiwgImxpbmVDYXAiOiAicm91bmQiLCAibGluZUpvaW4iOiAicm91bmQiLCAib3BhY2l0eSI6IDEuMCwgInN0cm9rZSI6IHRydWUsICJ3ZWlnaHQiOiAzfQogICAgICAgICAgICApLmFkZFRvKG1hcF8zMTJlZTc0MzUwM2I0ZDkwODY5M2E0ZDA2MWRjZGY2Mik7CiAgICAgICAgCiAgICAKICAgICAgICB2YXIgcG9wdXBfODRlYjkwMjMwNjA1NGU3ZDlhYjllMTI0YzRjYjdmMzMgPSBMLnBvcHVwKHsibWF4V2lkdGgiOiAiMTAwJSJ9KTsKCiAgICAgICAgCiAgICAgICAgICAgIHZhciBodG1sXzg1MmNlZDNkNzk0YTRmMzE5ZDU4NTQwNTRmZDY2MzUwID0gJChgPGRpdiBpZD0iaHRtbF84NTJjZWQzZDc5NGE0ZjMxOWQ1ODU0MDU0ZmQ2NjM1MCIgc3R5bGU9IndpZHRoOiAxMDAuMCU7IGhlaWdodDogMTAwLjAlOyI+TWVoZGlwYXRuYW08L2Rpdj5gKVswXTsKICAgICAgICAgICAgcG9wdXBfODRlYjkwMjMwNjA1NGU3ZDlhYjllMTI0YzRjYjdmMzMuc2V0Q29udGVudChodG1sXzg1MmNlZDNkNzk0YTRmMzE5ZDU4NTQwNTRmZDY2MzUwKTsKICAgICAgICAKCiAgICAgICAgY2lyY2xlX21hcmtlcl82OTE1NTM2NGQzZDA0ZDI3YmZkOTcxNzFiMmJlNmJmNy5iaW5kUG9wdXAocG9wdXBfODRlYjkwMjMwNjA1NGU3ZDlhYjllMTI0YzRjYjdmMzMpCiAgICAgICAgOwoKICAgICAgICAKICAgIAogICAgCiAgICAgICAgICAgIHZhciBjaXJjbGVfbWFya2VyXzA2MDVjN2E3ODNjOTQ5MjI5ODA4MDRlMjQ5NzY1NGY3ID0gTC5jaXJjbGVNYXJrZXIoCiAgICAgICAgICAgICAgICBbMTcuNDIxMDIwMDAwMDAwMDU1LCA3OC41ODI0NDAwMDAwMDAwOF0sCiAgICAgICAgICAgICAgICB7ImJ1YmJsaW5nTW91c2VFdmVudHMiOiB0cnVlLCAiY29sb3IiOiAiZ3JlZW4iLCAiZGFzaEFycmF5IjogbnVsbCwgImRhc2hPZmZzZXQiOiBudWxsLCAiZmlsbCI6IHRydWUsICJmaWxsQ29sb3IiOiAiIzMxODZmZiIsICJmaWxsT3BhY2l0eSI6IDAuMiwgImZpbGxSdWxlIjogImV2ZW5vZGQiLCAibGluZUNhcCI6ICJyb3VuZCIsICJsaW5lSm9pbiI6ICJyb3VuZCIsICJvcGFjaXR5IjogMS4wLCAic3Ryb2tlIjogdHJ1ZSwgIndlaWdodCI6IDN9CiAgICAgICAgICAgICkuYWRkVG8obWFwXzMxMmVlNzQzNTAzYjRkOTA4NjkzYTRkMDYxZGNkZjYyKTsKICAgICAgICAKICAgIAogICAgICAgIHZhciBwb3B1cF9iNWMyMzY2MTliZTU0ZjY3YWRmYmEwMjczMzJkYjlhZCA9IEwucG9wdXAoeyJtYXhXaWR0aCI6ICIxMDAlIn0pOwoKICAgICAgICAKICAgICAgICAgICAgdmFyIGh0bWxfNzA1OTRkMWJiNWE1NGE4NzhhMWY3OWRhNGUxOGNjNDMgPSAkKGA8ZGl2IGlkPSJodG1sXzcwNTk0ZDFiYjVhNTRhODc4YTFmNzlkYTRlMThjYzQzIiBzdHlsZT0id2lkdGg6IDEwMC4wJTsgaGVpZ2h0OiAxMDAuMCU7Ij5NaXlhcHVyPC9kaXY+YClbMF07CiAgICAgICAgICAgIHBvcHVwX2I1YzIzNjYxOWJlNTRmNjdhZGZiYTAyNzMzMmRiOWFkLnNldENvbnRlbnQoaHRtbF83MDU5NGQxYmI1YTU0YTg3OGExZjc5ZGE0ZTE4Y2M0Myk7CiAgICAgICAgCgogICAgICAgIGNpcmNsZV9tYXJrZXJfMDYwNWM3YTc4M2M5NDkyMjk4MDgwNGUyNDk3NjU0ZjcuYmluZFBvcHVwKHBvcHVwX2I1YzIzNjYxOWJlNTRmNjdhZGZiYTAyNzMzMmRiOWFkKQogICAgICAgIDsKCiAgICAgICAgCiAgICAKICAgIAogICAgICAgICAgICB2YXIgY2lyY2xlX21hcmtlcl82OTY2ZTc5MTRmNWU0MmQyOWQ2YjJlMzc1MjExZDUyNyA9IEwuY2lyY2xlTWFya2VyKAogICAgICAgICAgICAgICAgWzE3LjM4NDQ4MDAwMDAwMDA1MywgNzguNDc0NDIwMDAwMDAwMDddLAogICAgICAgICAgICAgICAgeyJidWJibGluZ01vdXNlRXZlbnRzIjogdHJ1ZSwgImNvbG9yIjogImdyZWVuIiwgImRhc2hBcnJheSI6IG51bGwsICJkYXNoT2Zmc2V0IjogbnVsbCwgImZpbGwiOiB0cnVlLCAiZmlsbENvbG9yIjogIiMzMTg2ZmYiLCAiZmlsbE9wYWNpdHkiOiAwLjIsICJmaWxsUnVsZSI6ICJldmVub2RkIiwgImxpbmVDYXAiOiAicm91bmQiLCAibGluZUpvaW4iOiAicm91bmQiLCAib3BhY2l0eSI6IDEuMCwgInN0cm9rZSI6IHRydWUsICJ3ZWlnaHQiOiAzfQogICAgICAgICAgICApLmFkZFRvKG1hcF8zMTJlZTc0MzUwM2I0ZDkwODY5M2E0ZDA2MWRjZGY2Mik7CiAgICAgICAgCiAgICAKICAgICAgICB2YXIgcG9wdXBfOWYzOTcyOThiOTVkNDI5MjgxM2E3NjY0OWViNmI0ZWQgPSBMLnBvcHVwKHsibWF4V2lkdGgiOiAiMTAwJSJ9KTsKCiAgICAgICAgCiAgICAgICAgICAgIHZhciBodG1sXzQwOTAzMjAyZWJmMTQwYzNiOTA1OWEzYzFjMTczMDIzID0gJChgPGRpdiBpZD0iaHRtbF80MDkwMzIwMmViZjE0MGMzYjkwNTlhM2MxYzE3MzAyMyIgc3R5bGU9IndpZHRoOiAxMDAuMCU7IGhlaWdodDogMTAwLjAlOyI+TW9henphbSBKYWhpIE1hcmtldDwvZGl2PmApWzBdOwogICAgICAgICAgICBwb3B1cF85ZjM5NzI5OGI5NWQ0MjkyODEzYTc2NjQ5ZWI2YjRlZC5zZXRDb250ZW50KGh0bWxfNDA5MDMyMDJlYmYxNDBjM2I5MDU5YTNjMWMxNzMwMjMpOwogICAgICAgIAoKICAgICAgICBjaXJjbGVfbWFya2VyXzY5NjZlNzkxNGY1ZTQyZDI5ZDZiMmUzNzUyMTFkNTI3LmJpbmRQb3B1cChwb3B1cF85ZjM5NzI5OGI5NWQ0MjkyODEzYTc2NjQ5ZWI2YjRlZCkKICAgICAgICA7CgogICAgICAgIAogICAgCiAgICAKICAgICAgICAgICAgdmFyIGNpcmNsZV9tYXJrZXJfNTEyZmFlNTExZDRlNDlkYWI0MTJhNDdhYzRlODQxOGMgPSBMLmNpcmNsZU1hcmtlcigKICAgICAgICAgICAgICAgIFsxNy40NjU3NzAwMDAwMDAwNzcsIDc4LjU2MDE4MDAwMDAwMDA2XSwKICAgICAgICAgICAgICAgIHsiYnViYmxpbmdNb3VzZUV2ZW50cyI6IHRydWUsICJjb2xvciI6ICJncmVlbiIsICJkYXNoQXJyYXkiOiBudWxsLCAiZGFzaE9mZnNldCI6IG51bGwsICJmaWxsIjogdHJ1ZSwgImZpbGxDb2xvciI6ICIjMzE4NmZmIiwgImZpbGxPcGFjaXR5IjogMC4yLCAiZmlsbFJ1bGUiOiAiZXZlbm9kZCIsICJsaW5lQ2FwIjogInJvdW5kIiwgImxpbmVKb2luIjogInJvdW5kIiwgIm9wYWNpdHkiOiAxLjAsICJzdHJva2UiOiB0cnVlLCAid2VpZ2h0IjogM30KICAgICAgICAgICAgKS5hZGRUbyhtYXBfMzEyZWU3NDM1MDNiNGQ5MDg2OTNhNGQwNjFkY2RmNjIpOwogICAgICAgIAogICAgCiAgICAgICAgdmFyIHBvcHVwXzQ2ZTBlNWNjM2FkNjQxNzQ5OGE5MDI4Mjc2MmYxYWQzID0gTC5wb3B1cCh7Im1heFdpZHRoIjogIjEwMCUifSk7CgogICAgICAgIAogICAgICAgICAgICB2YXIgaHRtbF85MjNjMjM1Y2ZkOWE0YTQ5ODA3YzQ1Nzk3N2NjMjdjZSA9ICQoYDxkaXYgaWQ9Imh0bWxfOTIzYzIzNWNmZDlhNGE0OTgwN2M0NTc5NzdjYzI3Y2UiIHN0eWxlPSJ3aWR0aDogMTAwLjAlOyBoZWlnaHQ6IDEwMC4wJTsiPk1vdWxhLUFsaTwvZGl2PmApWzBdOwogICAgICAgICAgICBwb3B1cF80NmUwZTVjYzNhZDY0MTc0OThhOTAyODI3NjJmMWFkMy5zZXRDb250ZW50KGh0bWxfOTIzYzIzNWNmZDlhNGE0OTgwN2M0NTc5NzdjYzI3Y2UpOwogICAgICAgIAoKICAgICAgICBjaXJjbGVfbWFya2VyXzUxMmZhZTUxMWQ0ZTQ5ZGFiNDEyYTQ3YWM0ZTg0MThjLmJpbmRQb3B1cChwb3B1cF80NmUwZTVjYzNhZDY0MTc0OThhOTAyODI3NjJmMWFkMykKICAgICAgICA7CgogICAgICAgIAogICAgCiAgICAKICAgICAgICAgICAgdmFyIGNpcmNsZV9tYXJrZXJfMWVmYTllNWQxYjk3NDM3ZTkyODViNmJjZDdkZjhhZjUgPSBMLmNpcmNsZU1hcmtlcigKICAgICAgICAgICAgICAgIFsxNy40MzM1MTAwMDAwMDAwNywgNzguNTY2NzMwMDAwMDAwMDZdLAogICAgICAgICAgICAgICAgeyJidWJibGluZ01vdXNlRXZlbnRzIjogdHJ1ZSwgImNvbG9yIjogImdyZWVuIiwgImRhc2hBcnJheSI6IG51bGwsICJkYXNoT2Zmc2V0IjogbnVsbCwgImZpbGwiOiB0cnVlLCAiZmlsbENvbG9yIjogIiMzMTg2ZmYiLCAiZmlsbE9wYWNpdHkiOiAwLjIsICJmaWxsUnVsZSI6ICJldmVub2RkIiwgImxpbmVDYXAiOiAicm91bmQiLCAibGluZUpvaW4iOiAicm91bmQiLCAib3BhY2l0eSI6IDEuMCwgInN0cm9rZSI6IHRydWUsICJ3ZWlnaHQiOiAzfQogICAgICAgICAgICApLmFkZFRvKG1hcF8zMTJlZTc0MzUwM2I0ZDkwODY5M2E0ZDA2MWRjZGY2Mik7CiAgICAgICAgCiAgICAKICAgICAgICB2YXIgcG9wdXBfZjc4MGFlMThmYmRmNDE2Zjg0MGVjY2RmZTEwODBmMWUgPSBMLnBvcHVwKHsibWF4V2lkdGgiOiAiMTAwJSJ9KTsKCiAgICAgICAgCiAgICAgICAgICAgIHZhciBodG1sXzI3NzM2YzViMTk4ZTQyMTFiOTM3OTczMDY1NzkyMmE2ID0gJChgPGRpdiBpZD0iaHRtbF8yNzczNmM1YjE5OGU0MjExYjkzNzk3MzA2NTc5MjJhNiIgc3R5bGU9IndpZHRoOiAxMDAuMCU7IGhlaWdodDogMTAwLjAlOyI+TmFjaGFyYW08L2Rpdj5gKVswXTsKICAgICAgICAgICAgcG9wdXBfZjc4MGFlMThmYmRmNDE2Zjg0MGVjY2RmZTEwODBmMWUuc2V0Q29udGVudChodG1sXzI3NzM2YzViMTk4ZTQyMTFiOTM3OTczMDY1NzkyMmE2KTsKICAgICAgICAKCiAgICAgICAgY2lyY2xlX21hcmtlcl8xZWZhOWU1ZDFiOTc0MzdlOTI4NWI2YmNkN2RmOGFmNS5iaW5kUG9wdXAocG9wdXBfZjc4MGFlMThmYmRmNDE2Zjg0MGVjY2RmZTEwODBmMWUpCiAgICAgICAgOwoKICAgICAgICAKICAgIAogICAgCiAgICAgICAgICAgIHZhciBjaXJjbGVfbWFya2VyXzFlYzhjYTAzNzNlMDQwNjJiMGRhNDk4OGZjNTRmMWQ3ID0gTC5jaXJjbGVNYXJrZXIoCiAgICAgICAgICAgICAgICBbMTcuMjc4NjEwMDAwMDAwMDcsIDc4LjUzODcxMDAwMDAwMDA0XSwKICAgICAgICAgICAgICAgIHsiYnViYmxpbmdNb3VzZUV2ZW50cyI6IHRydWUsICJjb2xvciI6ICJncmVlbiIsICJkYXNoQXJyYXkiOiBudWxsLCAiZGFzaE9mZnNldCI6IG51bGwsICJmaWxsIjogdHJ1ZSwgImZpbGxDb2xvciI6ICIjMzE4NmZmIiwgImZpbGxPcGFjaXR5IjogMC4yLCAiZmlsbFJ1bGUiOiAiZXZlbm9kZCIsICJsaW5lQ2FwIjogInJvdW5kIiwgImxpbmVKb2luIjogInJvdW5kIiwgIm9wYWNpdHkiOiAxLjAsICJzdHJva2UiOiB0cnVlLCAid2VpZ2h0IjogM30KICAgICAgICAgICAgKS5hZGRUbyhtYXBfMzEyZWU3NDM1MDNiNGQ5MDg2OTNhNGQwNjFkY2RmNjIpOwogICAgICAgIAogICAgCiAgICAgICAgdmFyIHBvcHVwX2M5NzVjYTI4NzYwZjQ5MDRiMzk5NWZiZTA2YTU2NGQwID0gTC5wb3B1cCh7Im1heFdpZHRoIjogIjEwMCUifSk7CgogICAgICAgIAogICAgICAgICAgICB2YXIgaHRtbF82NmMxZGE3ZGJiOTA0MThiYjRmZmU0YzNjMTdiNmFjZCA9ICQoYDxkaXYgaWQ9Imh0bWxfNjZjMWRhN2RiYjkwNDE4YmI0ZmZlNGMzYzE3YjZhY2QiIHN0eWxlPSJ3aWR0aDogMTAwLjAlOyBoZWlnaHQ6IDEwMC4wJTsiPk5hZGVyZ3VsPC9kaXY+YClbMF07CiAgICAgICAgICAgIHBvcHVwX2M5NzVjYTI4NzYwZjQ5MDRiMzk5NWZiZTA2YTU2NGQwLnNldENvbnRlbnQoaHRtbF82NmMxZGE3ZGJiOTA0MThiYjRmZmU0YzNjMTdiNmFjZCk7CiAgICAgICAgCgogICAgICAgIGNpcmNsZV9tYXJrZXJfMWVjOGNhMDM3M2UwNDA2MmIwZGE0OTg4ZmM1NGYxZDcuYmluZFBvcHVwKHBvcHVwX2M5NzVjYTI4NzYwZjQ5MDRiMzk5NWZiZTA2YTU2NGQwKQogICAgICAgIDsKCiAgICAgICAgCiAgICAKICAgIAogICAgICAgICAgICB2YXIgY2lyY2xlX21hcmtlcl85YWRjOTJlNDljYzI0NDZiYTBiNmU4ZTBlYjVlODU1YiA9IEwuY2lyY2xlTWFya2VyKAogICAgICAgICAgICAgICAgWzE3LjM3MjQxNzgwOTgwNjA2NiwgNzguNTQ0NDc2MDI1OTk3XSwKICAgICAgICAgICAgICAgIHsiYnViYmxpbmdNb3VzZUV2ZW50cyI6IHRydWUsICJjb2xvciI6ICJncmVlbiIsICJkYXNoQXJyYXkiOiBudWxsLCAiZGFzaE9mZnNldCI6IG51bGwsICJmaWxsIjogdHJ1ZSwgImZpbGxDb2xvciI6ICIjMzE4NmZmIiwgImZpbGxPcGFjaXR5IjogMC4yLCAiZmlsbFJ1bGUiOiAiZXZlbm9kZCIsICJsaW5lQ2FwIjogInJvdW5kIiwgImxpbmVKb2luIjogInJvdW5kIiwgIm9wYWNpdHkiOiAxLjAsICJzdHJva2UiOiB0cnVlLCAid2VpZ2h0IjogM30KICAgICAgICAgICAgKS5hZGRUbyhtYXBfMzEyZWU3NDM1MDNiNGQ5MDg2OTNhNGQwNjFkY2RmNjIpOwogICAgICAgIAogICAgCiAgICAgICAgdmFyIHBvcHVwXzI5NGYyNGUxOWRkZDQ3OWE5MDQ4NTk4M2Q0OTAxMWI4ID0gTC5wb3B1cCh7Im1heFdpZHRoIjogIjEwMCUifSk7CgogICAgICAgIAogICAgICAgICAgICB2YXIgaHRtbF85OGE5MTcxMGVhYmQ0ZmI1ODZkNDE4ODc3ZDU3MTQ0YSA9ICQoYDxkaXYgaWQ9Imh0bWxfOThhOTE3MTBlYWJkNGZiNTg2ZDQxODg3N2Q1NzE0NGEiIHN0eWxlPSJ3aWR0aDogMTAwLjAlOyBoZWlnaHQ6IDEwMC4wJTsiPk5hZ29sZSwgSHlkZXJhYmFkPC9kaXY+YClbMF07CiAgICAgICAgICAgIHBvcHVwXzI5NGYyNGUxOWRkZDQ3OWE5MDQ4NTk4M2Q0OTAxMWI4LnNldENvbnRlbnQoaHRtbF85OGE5MTcxMGVhYmQ0ZmI1ODZkNDE4ODc3ZDU3MTQ0YSk7CiAgICAgICAgCgogICAgICAgIGNpcmNsZV9tYXJrZXJfOWFkYzkyZTQ5Y2MyNDQ2YmEwYjZlOGUwZWI1ZTg1NWIuYmluZFBvcHVwKHBvcHVwXzI5NGYyNGUxOWRkZDQ3OWE5MDQ4NTk4M2Q0OTAxMWI4KQogICAgICAgIDsKCiAgICAgICAgCiAgICAKICAgIAogICAgICAgICAgICB2YXIgY2lyY2xlX21hcmtlcl83MDcwNDZiZGVkZjM0MDIyODFhMWM3OTRiODM4YTBiZCA9IEwuY2lyY2xlTWFya2VyKAogICAgICAgICAgICAgICAgWzE3LjM4ODk3MDAwMDAwMDAzLCA3OC40NjczMzAwMDAwMDAwNl0sCiAgICAgICAgICAgICAgICB7ImJ1YmJsaW5nTW91c2VFdmVudHMiOiB0cnVlLCAiY29sb3IiOiAiZ3JlZW4iLCAiZGFzaEFycmF5IjogbnVsbCwgImRhc2hPZmZzZXQiOiBudWxsLCAiZmlsbCI6IHRydWUsICJmaWxsQ29sb3IiOiAiIzMxODZmZiIsICJmaWxsT3BhY2l0eSI6IDAuMiwgImZpbGxSdWxlIjogImV2ZW5vZGQiLCAibGluZUNhcCI6ICJyb3VuZCIsICJsaW5lSm9pbiI6ICJyb3VuZCIsICJvcGFjaXR5IjogMS4wLCAic3Ryb2tlIjogdHJ1ZSwgIndlaWdodCI6IDN9CiAgICAgICAgICAgICkuYWRkVG8obWFwXzMxMmVlNzQzNTAzYjRkOTA4NjkzYTRkMDYxZGNkZjYyKTsKICAgICAgICAKICAgIAogICAgICAgIHZhciBwb3B1cF80NTYzNjU4NDM0NjI0OTlkOTE0ZDY3NDNkNDlkODY0YiA9IEwucG9wdXAoeyJtYXhXaWR0aCI6ICIxMDAlIn0pOwoKICAgICAgICAKICAgICAgICAgICAgdmFyIGh0bWxfMzc2NjZmOTg0YzMyNDZhYWI1ZDQwZTM3MmZhNmNhMjMgPSAkKGA8ZGl2IGlkPSJodG1sXzM3NjY2Zjk4NGMzMjQ2YWFiNWQ0MGUzNzJmYTZjYTIzIiBzdHlsZT0id2lkdGg6IDEwMC4wJTsgaGVpZ2h0OiAxMDAuMCU7Ij5OYW1wYWxseTwvZGl2PmApWzBdOwogICAgICAgICAgICBwb3B1cF80NTYzNjU4NDM0NjI0OTlkOTE0ZDY3NDNkNDlkODY0Yi5zZXRDb250ZW50KGh0bWxfMzc2NjZmOTg0YzMyNDZhYWI1ZDQwZTM3MmZhNmNhMjMpOwogICAgICAgIAoKICAgICAgICBjaXJjbGVfbWFya2VyXzcwNzA0NmJkZWRmMzQwMjI4MWExYzc5NGI4MzhhMGJkLmJpbmRQb3B1cChwb3B1cF80NTYzNjU4NDM0NjI0OTlkOTE0ZDY3NDNkNDlkODY0YikKICAgICAgICA7CgogICAgICAgIAogICAgCiAgICAKICAgICAgICAgICAgdmFyIGNpcmNsZV9tYXJrZXJfZjI0NzkzMzJhNWEyNGZiOWFiN2E0ZGQ5MjFmMGQ3ZjcgPSBMLmNpcmNsZU1hcmtlcigKICAgICAgICAgICAgICAgIFsxNy4zOTY0MjAwMDAwMDAwMzUsIDc4LjQ4ODQyMDAwMDAwMDA4XSwKICAgICAgICAgICAgICAgIHsiYnViYmxpbmdNb3VzZUV2ZW50cyI6IHRydWUsICJjb2xvciI6ICJncmVlbiIsICJkYXNoQXJyYXkiOiBudWxsLCAiZGFzaE9mZnNldCI6IG51bGwsICJmaWxsIjogdHJ1ZSwgImZpbGxDb2xvciI6ICIjMzE4NmZmIiwgImZpbGxPcGFjaXR5IjogMC4yLCAiZmlsbFJ1bGUiOiAiZXZlbm9kZCIsICJsaW5lQ2FwIjogInJvdW5kIiwgImxpbmVKb2luIjogInJvdW5kIiwgIm9wYWNpdHkiOiAxLjAsICJzdHJva2UiOiB0cnVlLCAid2VpZ2h0IjogM30KICAgICAgICAgICAgKS5hZGRUbyhtYXBfMzEyZWU3NDM1MDNiNGQ5MDg2OTNhNGQwNjFkY2RmNjIpOwogICAgICAgIAogICAgCiAgICAgICAgdmFyIHBvcHVwXzE0NTU1ZGU4ZDQzOTRlZmVhNTZhZWM3M2RhMjUwMmEyID0gTC5wb3B1cCh7Im1heFdpZHRoIjogIjEwMCUifSk7CgogICAgICAgIAogICAgICAgICAgICB2YXIgaHRtbF9iNTZkOTMwOGRkYTc0ODE4YTYxNzIxYmQ5YzMxNjFhMCA9ICQoYDxkaXYgaWQ9Imh0bWxfYjU2ZDkzMDhkZGE3NDgxOGE2MTcyMWJkOWMzMTYxYTAiIHN0eWxlPSJ3aWR0aDogMTAwLjAlOyBoZWlnaHQ6IDEwMC4wJTsiPk5hcmF5YW5ndWRhPC9kaXY+YClbMF07CiAgICAgICAgICAgIHBvcHVwXzE0NTU1ZGU4ZDQzOTRlZmVhNTZhZWM3M2RhMjUwMmEyLnNldENvbnRlbnQoaHRtbF9iNTZkOTMwOGRkYTc0ODE4YTYxNzIxYmQ5YzMxNjFhMCk7CiAgICAgICAgCgogICAgICAgIGNpcmNsZV9tYXJrZXJfZjI0NzkzMzJhNWEyNGZiOWFiN2E0ZGQ5MjFmMGQ3ZjcuYmluZFBvcHVwKHBvcHVwXzE0NTU1ZGU4ZDQzOTRlZmVhNTZhZWM3M2RhMjUwMmEyKQogICAgICAgIDsKCiAgICAgICAgCiAgICAKICAgIAogICAgICAgICAgICB2YXIgY2lyY2xlX21hcmtlcl8wYTE3ZDU4NWJmZjI0MjJkOWE0MDljZWMxMzA3MjExMSA9IEwuY2lyY2xlTWFya2VyKAogICAgICAgICAgICAgICAgWzE3LjUxODMzMDAwMDAwMDA1LCA3OC4zODE4NjAwMDAwMDAwN10sCiAgICAgICAgICAgICAgICB7ImJ1YmJsaW5nTW91c2VFdmVudHMiOiB0cnVlLCAiY29sb3IiOiAiZ3JlZW4iLCAiZGFzaEFycmF5IjogbnVsbCwgImRhc2hPZmZzZXQiOiBudWxsLCAiZmlsbCI6IHRydWUsICJmaWxsQ29sb3IiOiAiIzMxODZmZiIsICJmaWxsT3BhY2l0eSI6IDAuMiwgImZpbGxSdWxlIjogImV2ZW5vZGQiLCAibGluZUNhcCI6ICJyb3VuZCIsICJsaW5lSm9pbiI6ICJyb3VuZCIsICJvcGFjaXR5IjogMS4wLCAic3Ryb2tlIjogdHJ1ZSwgIndlaWdodCI6IDN9CiAgICAgICAgICAgICkuYWRkVG8obWFwXzMxMmVlNzQzNTAzYjRkOTA4NjkzYTRkMDYxZGNkZjYyKTsKICAgICAgICAKICAgIAogICAgICAgIHZhciBwb3B1cF8zMWM3ZGI0ZTNiNzE0YjllYWMzNDk4NWFlMjE0NzYxNSA9IEwucG9wdXAoeyJtYXhXaWR0aCI6ICIxMDAlIn0pOwoKICAgICAgICAKICAgICAgICAgICAgdmFyIGh0bWxfMWNhY2ZiOGFlNDdkNGU5NWFiZDRiMWU0NTkzN2JjOGIgPSAkKGA8ZGl2IGlkPSJodG1sXzFjYWNmYjhhZTQ3ZDRlOTVhYmQ0YjFlNDU5MzdiYzhiIiBzdHlsZT0id2lkdGg6IDEwMC4wJTsgaGVpZ2h0OiAxMDAuMCU7Ij5OaXphbXBldDwvZGl2PmApWzBdOwogICAgICAgICAgICBwb3B1cF8zMWM3ZGI0ZTNiNzE0YjllYWMzNDk4NWFlMjE0NzYxNS5zZXRDb250ZW50KGh0bWxfMWNhY2ZiOGFlNDdkNGU5NWFiZDRiMWU0NTkzN2JjOGIpOwogICAgICAgIAoKICAgICAgICBjaXJjbGVfbWFya2VyXzBhMTdkNTg1YmZmMjQyMmQ5YTQwOWNlYzEzMDcyMTExLmJpbmRQb3B1cChwb3B1cF8zMWM3ZGI0ZTNiNzE0YjllYWMzNDk4NWFlMjE0NzYxNSkKICAgICAgICA7CgogICAgICAgIAogICAgCiAgICAKICAgICAgICAgICAgdmFyIGNpcmNsZV9tYXJrZXJfMjhkZTA1NjExNWU1NGVmZDk2NzFlOTIzNThjYTkzZWUgPSBMLmNpcmNsZU1hcmtlcigKICAgICAgICAgICAgICAgIFsxNy40MDg0MzgxOTQyNjk4MSwgNzguNDc4NDQxMzE3OTM1MjFdLAogICAgICAgICAgICAgICAgeyJidWJibGluZ01vdXNlRXZlbnRzIjogdHJ1ZSwgImNvbG9yIjogImdyZWVuIiwgImRhc2hBcnJheSI6IG51bGwsICJkYXNoT2Zmc2V0IjogbnVsbCwgImZpbGwiOiB0cnVlLCAiZmlsbENvbG9yIjogIiMzMTg2ZmYiLCAiZmlsbE9wYWNpdHkiOiAwLjIsICJmaWxsUnVsZSI6ICJldmVub2RkIiwgImxpbmVDYXAiOiAicm91bmQiLCAibGluZUpvaW4iOiAicm91bmQiLCAib3BhY2l0eSI6IDEuMCwgInN0cm9rZSI6IHRydWUsICJ3ZWlnaHQiOiAzfQogICAgICAgICAgICApLmFkZFRvKG1hcF8zMTJlZTc0MzUwM2I0ZDkwODY5M2E0ZDA2MWRjZGY2Mik7CiAgICAgICAgCiAgICAKICAgICAgICB2YXIgcG9wdXBfMGQ1NTI5Y2QyNGQ4NDBkYzljY2IxNWE5ZmY0Y2FjY2EgPSBMLnBvcHVwKHsibWF4V2lkdGgiOiAiMTAwJSJ9KTsKCiAgICAgICAgCiAgICAgICAgICAgIHZhciBodG1sXzI5YzE4N2M2ZjhkNzRjYTY4ZTA1NDVjMzY0YTNmM2U1ID0gJChgPGRpdiBpZD0iaHRtbF8yOWMxODdjNmY4ZDc0Y2E2OGUwNTQ1YzM2NGEzZjNlNSIgc3R5bGU9IndpZHRoOiAxMDAuMCU7IGhlaWdodDogMTAwLjAlOyI+T2xkIENpdHkgKEh5ZGVyYWJhZCwgSW5kaWEpPC9kaXY+YClbMF07CiAgICAgICAgICAgIHBvcHVwXzBkNTUyOWNkMjRkODQwZGM5Y2NiMTVhOWZmNGNhY2NhLnNldENvbnRlbnQoaHRtbF8yOWMxODdjNmY4ZDc0Y2E2OGUwNTQ1YzM2NGEzZjNlNSk7CiAgICAgICAgCgogICAgICAgIGNpcmNsZV9tYXJrZXJfMjhkZTA1NjExNWU1NGVmZDk2NzFlOTIzNThjYTkzZWUuYmluZFBvcHVwKHBvcHVwXzBkNTUyOWNkMjRkODQwZGM5Y2NiMTVhOWZmNGNhY2NhKQogICAgICAgIDsKCiAgICAgICAgCiAgICAKICAgIAogICAgICAgICAgICB2YXIgY2lyY2xlX21hcmtlcl8wZjE5ZjNmNTljNDc0OTAxYjM1N2JiZGM2MWUyM2VkZiA9IEwuY2lyY2xlTWFya2VyKAogICAgICAgICAgICAgICAgWzE3LjMyMTE1MDAwMDAwMDA0NiwgNzguNjQyMzcwMDAwMDAwMDhdLAogICAgICAgICAgICAgICAgeyJidWJibGluZ01vdXNlRXZlbnRzIjogdHJ1ZSwgImNvbG9yIjogImdyZWVuIiwgImRhc2hBcnJheSI6IG51bGwsICJkYXNoT2Zmc2V0IjogbnVsbCwgImZpbGwiOiB0cnVlLCAiZmlsbENvbG9yIjogIiMzMTg2ZmYiLCAiZmlsbE9wYWNpdHkiOiAwLjIsICJmaWxsUnVsZSI6ICJldmVub2RkIiwgImxpbmVDYXAiOiAicm91bmQiLCAibGluZUpvaW4iOiAicm91bmQiLCAib3BhY2l0eSI6IDEuMCwgInN0cm9rZSI6IHRydWUsICJ3ZWlnaHQiOiAzfQogICAgICAgICAgICApLmFkZFRvKG1hcF8zMTJlZTc0MzUwM2I0ZDkwODY5M2E0ZDA2MWRjZGY2Mik7CiAgICAgICAgCiAgICAKICAgICAgICB2YXIgcG9wdXBfN2NiNjFjNDM5ODdiNGYxZjgwNTZiMjU5MWViODRmYjYgPSBMLnBvcHVwKHsibWF4V2lkdGgiOiAiMTAwJSJ9KTsKCiAgICAgICAgCiAgICAgICAgICAgIHZhciBodG1sXzU0YWRmMDNiOWI4YzQ2OGNiNDFkMzFmZTNhOTBlNzQ5ID0gJChgPGRpdiBpZD0iaHRtbF81NGFkZjAzYjliOGM0NjhjYjQxZDMxZmUzYTkwZTc0OSIgc3R5bGU9IndpZHRoOiAxMDAuMCU7IGhlaWdodDogMTAwLjAlOyI+UGVkZGEgQW1iZXJwZXQ8L2Rpdj5gKVswXTsKICAgICAgICAgICAgcG9wdXBfN2NiNjFjNDM5ODdiNGYxZjgwNTZiMjU5MWViODRmYjYuc2V0Q29udGVudChodG1sXzU0YWRmMDNiOWI4YzQ2OGNiNDFkMzFmZTNhOTBlNzQ5KTsKICAgICAgICAKCiAgICAgICAgY2lyY2xlX21hcmtlcl8wZjE5ZjNmNTljNDc0OTAxYjM1N2JiZGM2MWUyM2VkZi5iaW5kUG9wdXAocG9wdXBfN2NiNjFjNDM5ODdiNGYxZjgwNTZiMjU5MWViODRmYjYpCiAgICAgICAgOwoKICAgICAgICAKICAgIAogICAgCiAgICAgICAgICAgIHZhciBjaXJjbGVfbWFya2VyX2YxY2NiMTM0ZWQ3NDRlNzhiMTA1NmI0NGU4YzA1ZGM0ID0gTC5jaXJjbGVNYXJrZXIoCiAgICAgICAgICAgICAgICBbMTcuNDU4NzYwMDAwMDAwMDQsIDc4LjQ0MzEwMDAwMDAwMDA3XSwKICAgICAgICAgICAgICAgIHsiYnViYmxpbmdNb3VzZUV2ZW50cyI6IHRydWUsICJjb2xvciI6ICJncmVlbiIsICJkYXNoQXJyYXkiOiBudWxsLCAiZGFzaE9mZnNldCI6IG51bGwsICJmaWxsIjogdHJ1ZSwgImZpbGxDb2xvciI6ICIjMzE4NmZmIiwgImZpbGxPcGFjaXR5IjogMC4yLCAiZmlsbFJ1bGUiOiAiZXZlbm9kZCIsICJsaW5lQ2FwIjogInJvdW5kIiwgImxpbmVKb2luIjogInJvdW5kIiwgIm9wYWNpdHkiOiAxLjAsICJzdHJva2UiOiB0cnVlLCAid2VpZ2h0IjogM30KICAgICAgICAgICAgKS5hZGRUbyhtYXBfMzEyZWU3NDM1MDNiNGQ5MDg2OTNhNGQwNjFkY2RmNjIpOwogICAgICAgIAogICAgCiAgICAgICAgdmFyIHBvcHVwX2UxMjE0ZWI5OGJkODRjYjZiMmIzN2M1OWU4M2E5MzdmID0gTC5wb3B1cCh7Im1heFdpZHRoIjogIjEwMCUifSk7CgogICAgICAgIAogICAgICAgICAgICB2YXIgaHRtbF82MTZlN2QwNjg1NmE0MTU1YTIwMGJlZDk4ZjVhYTA0YyA9ICQoYDxkaXYgaWQ9Imh0bWxfNjE2ZTdkMDY4NTZhNDE1NWEyMDBiZWQ5OGY1YWEwNGMiIHN0eWxlPSJ3aWR0aDogMTAwLjAlOyBoZWlnaHQ6IDEwMC4wJTsiPlNhbmF0aG5hZ2FyPC9kaXY+YClbMF07CiAgICAgICAgICAgIHBvcHVwX2UxMjE0ZWI5OGJkODRjYjZiMmIzN2M1OWU4M2E5MzdmLnNldENvbnRlbnQoaHRtbF82MTZlN2QwNjg1NmE0MTU1YTIwMGJlZDk4ZjVhYTA0Yyk7CiAgICAgICAgCgogICAgICAgIGNpcmNsZV9tYXJrZXJfZjFjY2IxMzRlZDc0NGU3OGIxMDU2YjQ0ZThjMDVkYzQuYmluZFBvcHVwKHBvcHVwX2UxMjE0ZWI5OGJkODRjYjZiMmIzN2M1OWU4M2E5MzdmKQogICAgICAgIDsKCiAgICAgICAgCiAgICAKICAgIAogICAgICAgICAgICB2YXIgY2lyY2xlX21hcmtlcl9lMjhhNWUwNDQ4OTc0MWIyYTM5NTExNmZkMzNjN2Y0YyA9IEwuY2lyY2xlTWFya2VyKAogICAgICAgICAgICAgICAgWzE3LjQ0NDM4MDAwMDAwMDAyNCwgNzguNDQ3MjQwMDAwMDAwMDhdLAogICAgICAgICAgICAgICAgeyJidWJibGluZ01vdXNlRXZlbnRzIjogdHJ1ZSwgImNvbG9yIjogImdyZWVuIiwgImRhc2hBcnJheSI6IG51bGwsICJkYXNoT2Zmc2V0IjogbnVsbCwgImZpbGwiOiB0cnVlLCAiZmlsbENvbG9yIjogIiMzMTg2ZmYiLCAiZmlsbE9wYWNpdHkiOiAwLjIsICJmaWxsUnVsZSI6ICJldmVub2RkIiwgImxpbmVDYXAiOiAicm91bmQiLCAibGluZUpvaW4iOiAicm91bmQiLCAib3BhY2l0eSI6IDEuMCwgInN0cm9rZSI6IHRydWUsICJ3ZWlnaHQiOiAzfQogICAgICAgICAgICApLmFkZFRvKG1hcF8zMTJlZTc0MzUwM2I0ZDkwODY5M2E0ZDA2MWRjZGY2Mik7CiAgICAgICAgCiAgICAKICAgICAgICB2YXIgcG9wdXBfZGM0NWFjMTU1MTU4NGRiYTlmNTVmZjQyZWVlNzc3YTIgPSBMLnBvcHVwKHsibWF4V2lkdGgiOiAiMTAwJSJ9KTsKCiAgICAgICAgCiAgICAgICAgICAgIHZhciBodG1sXzhlZDI3MzM2MzJjYzRlOGJiNzYyY2VjNzk2Yjc1N2M0ID0gJChgPGRpdiBpZD0iaHRtbF84ZWQyNzMzNjMyY2M0ZThiYjc2MmNlYzc5NmI3NTdjNCIgc3R5bGU9IndpZHRoOiAxMDAuMCU7IGhlaWdodDogMTAwLjAlOyI+U2FuamVldmEgUmVkZHkgTmFnYXI8L2Rpdj5gKVswXTsKICAgICAgICAgICAgcG9wdXBfZGM0NWFjMTU1MTU4NGRiYTlmNTVmZjQyZWVlNzc3YTIuc2V0Q29udGVudChodG1sXzhlZDI3MzM2MzJjYzRlOGJiNzYyY2VjNzk2Yjc1N2M0KTsKICAgICAgICAKCiAgICAgICAgY2lyY2xlX21hcmtlcl9lMjhhNWUwNDQ4OTc0MWIyYTM5NTExNmZkMzNjN2Y0Yy5iaW5kUG9wdXAocG9wdXBfZGM0NWFjMTU1MTU4NGRiYTlmNTVmZjQyZWVlNzc3YTIpCiAgICAgICAgOwoKICAgICAgICAKICAgIAogICAgCiAgICAgICAgICAgIHZhciBjaXJjbGVfbWFya2VyXzI5NzhmY2FiOGFkZjQwZTI4NzU0ZDdiMDQ5OTRiZGUyID0gTC5jaXJjbGVNYXJrZXIoCiAgICAgICAgICAgICAgICBbMTcuNTU1NjEzNTc0NDg0OTM0LCA3OC41Nzg4NTQwMzM2NTQ3NF0sCiAgICAgICAgICAgICAgICB7ImJ1YmJsaW5nTW91c2VFdmVudHMiOiB0cnVlLCAiY29sb3IiOiAiZ3JlZW4iLCAiZGFzaEFycmF5IjogbnVsbCwgImRhc2hPZmZzZXQiOiBudWxsLCAiZmlsbCI6IHRydWUsICJmaWxsQ29sb3IiOiAiIzMxODZmZiIsICJmaWxsT3BhY2l0eSI6IDAuMiwgImZpbGxSdWxlIjogImV2ZW5vZGQiLCAibGluZUNhcCI6ICJyb3VuZCIsICJsaW5lSm9pbiI6ICJyb3VuZCIsICJvcGFjaXR5IjogMS4wLCAic3Ryb2tlIjogdHJ1ZSwgIndlaWdodCI6IDN9CiAgICAgICAgICAgICkuYWRkVG8obWFwXzMxMmVlNzQzNTAzYjRkOTA4NjkzYTRkMDYxZGNkZjYyKTsKICAgICAgICAKICAgIAogICAgICAgIHZhciBwb3B1cF85YjA5YTc1YmQxOTI0ZmEyODUzMzJjNmQwZjczMDU2NCA9IEwucG9wdXAoeyJtYXhXaWR0aCI6ICIxMDAlIn0pOwoKICAgICAgICAKICAgICAgICAgICAgdmFyIGh0bWxfMDQzMTFjNDhkNmNjNDU2Y2E3MjVlOGUyNmY1MjM3MzggPSAkKGA8ZGl2IGlkPSJodG1sXzA0MzExYzQ4ZDZjYzQ1NmNhNzI1ZThlMjZmNTIzNzM4IiBzdHlsZT0id2lkdGg6IDEwMC4wJTsgaGVpZ2h0OiAxMDAuMCU7Ij5TaGFtaXJwZXQ8L2Rpdj5gKVswXTsKICAgICAgICAgICAgcG9wdXBfOWIwOWE3NWJkMTkyNGZhMjg1MzMyYzZkMGY3MzA1NjQuc2V0Q29udGVudChodG1sXzA0MzExYzQ4ZDZjYzQ1NmNhNzI1ZThlMjZmNTIzNzM4KTsKICAgICAgICAKCiAgICAgICAgY2lyY2xlX21hcmtlcl8yOTc4ZmNhYjhhZGY0MGUyODc1NGQ3YjA0OTk0YmRlMi5iaW5kUG9wdXAocG9wdXBfOWIwOWE3NWJkMTkyNGZhMjg1MzMyYzZkMGY3MzA1NjQpCiAgICAgICAgOwoKICAgICAgICAKICAgIAogICAgCiAgICAgICAgICAgIHZhciBjaXJjbGVfbWFya2VyX2JjYWU2YTc5ZjA0ZDRkODg5ZTJhOGE2OGJhNzY1MTRhID0gTC5jaXJjbGVNYXJrZXIoCiAgICAgICAgICAgICAgICBbMTcuMjQyMDIwMDAwMDAwMDI1LCA3OC40MjU4NzAwMDAwMDAwM10sCiAgICAgICAgICAgICAgICB7ImJ1YmJsaW5nTW91c2VFdmVudHMiOiB0cnVlLCAiY29sb3IiOiAiZ3JlZW4iLCAiZGFzaEFycmF5IjogbnVsbCwgImRhc2hPZmZzZXQiOiBudWxsLCAiZmlsbCI6IHRydWUsICJmaWxsQ29sb3IiOiAiIzMxODZmZiIsICJmaWxsT3BhY2l0eSI6IDAuMiwgImZpbGxSdWxlIjogImV2ZW5vZGQiLCAibGluZUNhcCI6ICJyb3VuZCIsICJsaW5lSm9pbiI6ICJyb3VuZCIsICJvcGFjaXR5IjogMS4wLCAicmFkaXVzIjogMy4wLCAic3Ryb2tlIjogdHJ1ZSwgIndlaWdodCI6IDN9CiAgICAgICAgICAgICkuYWRkVG8obWFwXzMxMmVlNzQzNTAzYjRkOTA4NjkzYTRkMDYxZGNkZjYyKTsKICAgICAgICAKICAgIAogICAgICAgIHZhciBwb3B1cF9iN2E3MDA3Y2JkZmQ0NTIyYThiMmEwMGQyZjY4NDMzMCA9IEwucG9wdXAoeyJtYXhXaWR0aCI6ICIxMDAlIn0pOwoKICAgICAgICAKICAgICAgICAgICAgdmFyIGh0bWxfZDAwMGM4YmZjN2RmNDc0ZmJkNGRmYTBhNjVlZDA5NWMgPSAkKGA8ZGl2IGlkPSJodG1sX2QwMDBjOGJmYzdkZjQ3NGZiZDRkZmEwYTY1ZWQwOTVjIiBzdHlsZT0id2lkdGg6IDEwMC4wJTsgaGVpZ2h0OiAxMDAuMCU7Ij5TaGFtc2hhYmFkPC9kaXY+YClbMF07CiAgICAgICAgICAgIHBvcHVwX2I3YTcwMDdjYmRmZDQ1MjJhOGIyYTAwZDJmNjg0MzMwLnNldENvbnRlbnQoaHRtbF9kMDAwYzhiZmM3ZGY0NzRmYmQ0ZGZhMGE2NWVkMDk1Yyk7CiAgICAgICAgCgogICAgICAgIGNpcmNsZV9tYXJrZXJfYmNhZTZhNzlmMDRkNGQ4ODllMmE4YTY4YmE3NjUxNGEuYmluZFBvcHVwKHBvcHVwX2I3YTcwMDdjYmRmZDQ1MjJhOGIyYTAwZDJmNjg0MzMwKQogICAgICAgIDsKCiAgICAgICAgCiAgICAKICAgIAogICAgICAgICAgICB2YXIgY2lyY2xlX21hcmtlcl9lMzVlOGIxMDhlYmI0OTk3YWEzZGU5NDJhZjY1ZjZlNyA9IEwuY2lyY2xlTWFya2VyKAogICAgICAgICAgICAgICAgWzE3LjQyODAwMDAwMDAwMDA1NCwgNzguNTE3MDAwMDAwMDAwMDVdLAogICAgICAgICAgICAgICAgeyJidWJibGluZ01vdXNlRXZlbnRzIjogdHJ1ZSwgImNvbG9yIjogImdyZWVuIiwgImRhc2hBcnJheSI6IG51bGwsICJkYXNoT2Zmc2V0IjogbnVsbCwgImZpbGwiOiB0cnVlLCAiZmlsbENvbG9yIjogIiMzMTg2ZmYiLCAiZmlsbE9wYWNpdHkiOiAwLjIsICJmaWxsUnVsZSI6ICJldmVub2RkIiwgImxpbmVDYXAiOiAicm91bmQiLCAibGluZUpvaW4iOiAicm91bmQiLCAib3BhY2l0eSI6IDEuMCwgInN0cm9rZSI6IHRydWUsICJ3ZWlnaHQiOiAzfQogICAgICAgICAgICApLmFkZFRvKG1hcF8zMTJlZTc0MzUwM2I0ZDkwODY5M2E0ZDA2MWRjZGY2Mik7CiAgICAgICAgCiAgICAKICAgICAgICB2YXIgcG9wdXBfMDI4ZjgzYzBlNzFhNDFlYzk3OGEzOWEwNDdiNzQzMTcgPSBMLnBvcHVwKHsibWF4V2lkdGgiOiAiMTAwJSJ9KTsKCiAgICAgICAgCiAgICAgICAgICAgIHZhciBodG1sXzA4YTBmMjNhMTgxMDQxMTY5ZmY3NWM4ZDFmNzAxZjVmID0gJChgPGRpdiBpZD0iaHRtbF8wOGEwZjIzYTE4MTA0MTE2OWZmNzVjOGQxZjcwMWY1ZiIgc3R5bGU9IndpZHRoOiAxMDAuMCU7IGhlaWdodDogMTAwLjAlOyI+U2l0YXBoYWxtYW5kaTwvZGl2PmApWzBdOwogICAgICAgICAgICBwb3B1cF8wMjhmODNjMGU3MWE0MWVjOTc4YTM5YTA0N2I3NDMxNy5zZXRDb250ZW50KGh0bWxfMDhhMGYyM2ExODEwNDExNjlmZjc1YzhkMWY3MDFmNWYpOwogICAgICAgIAoKICAgICAgICBjaXJjbGVfbWFya2VyX2UzNWU4YjEwOGViYjQ5OTdhYTNkZTk0MmFmNjVmNmU3LmJpbmRQb3B1cChwb3B1cF8wMjhmODNjMGU3MWE0MWVjOTc4YTM5YTA0N2I3NDMxNykKICAgICAgICA7CgogICAgICAgIAogICAgCiAgICAKICAgICAgICAgICAgdmFyIGNpcmNsZV9tYXJrZXJfYjg2M2VjMGE5NGIwNGU3MTg5MzRhZDdkMDg4OTExMTEgPSBMLmNpcmNsZU1hcmtlcigKICAgICAgICAgICAgICAgIFsxNy40MjA3MjAwMDAwMDAwNzQsIDc4LjQ2MzAwMDAwMDAwMDA4XSwKICAgICAgICAgICAgICAgIHsiYnViYmxpbmdNb3VzZUV2ZW50cyI6IHRydWUsICJjb2xvciI6ICJncmVlbiIsICJkYXNoQXJyYXkiOiBudWxsLCAiZGFzaE9mZnNldCI6IG51bGwsICJmaWxsIjogdHJ1ZSwgImZpbGxDb2xvciI6ICIjMzE4NmZmIiwgImZpbGxPcGFjaXR5IjogMC4yLCAiZmlsbFJ1bGUiOiAiZXZlbm9kZCIsICJsaW5lQ2FwIjogInJvdW5kIiwgImxpbmVKb2luIjogInJvdW5kIiwgIm9wYWNpdHkiOiAxLjAsICJzdHJva2UiOiB0cnVlLCAid2VpZ2h0IjogM30KICAgICAgICAgICAgKS5hZGRUbyhtYXBfMzEyZWU3NDM1MDNiNGQ5MDg2OTNhNGQwNjFkY2RmNjIpOwogICAgICAgIAogICAgCiAgICAgICAgdmFyIHBvcHVwX2FlMjg5NzdkMWRmMzQwNjdhMDExODkwZjkxNTAzZTMxID0gTC5wb3B1cCh7Im1heFdpZHRoIjogIjEwMCUifSk7CgogICAgICAgIAogICAgICAgICAgICB2YXIgaHRtbF8xZjY0MDRmMjg1ODQ0NDg0OWNhN2E1YWI1YTM5NDZiNyA9ICQoYDxkaXYgaWQ9Imh0bWxfMWY2NDA0ZjI4NTg0NDQ4NDljYTdhNWFiNWEzOTQ2YjciIHN0eWxlPSJ3aWR0aDogMTAwLjAlOyBoZWlnaHQ6IDEwMC4wJTsiPlNvbWFqaWd1ZGE8L2Rpdj5gKVswXTsKICAgICAgICAgICAgcG9wdXBfYWUyODk3N2QxZGYzNDA2N2EwMTE4OTBmOTE1MDNlMzEuc2V0Q29udGVudChodG1sXzFmNjQwNGYyODU4NDQ0ODQ5Y2E3YTVhYjVhMzk0NmI3KTsKICAgICAgICAKCiAgICAgICAgY2lyY2xlX21hcmtlcl9iODYzZWMwYTk0YjA0ZTcxODkzNGFkN2QwODg5MTExMS5iaW5kUG9wdXAocG9wdXBfYWUyODk3N2QxZGYzNDA2N2EwMTE4OTBmOTE1MDNlMzEpCiAgICAgICAgOwoKICAgICAgICAKICAgIAo8L3NjcmlwdD4= onload=\"this.contentDocument.open();this.contentDocument.write(atob(this.getAttribute('data-html')));this.contentDocument.close();\" allowfullscreen webkitallowfullscreen mozallowfullscreen></iframe></div></div>"
      ],
      "text/plain": [
       "<folium.folium.Map at 0x7fb552f09b00>"
      ]
     },
     "execution_count": 38,
     "metadata": {},
     "output_type": "execute_result"
    }
   ],
   "source": [
    "hyd_map = folium.Map(location=[h_lat, h_lng],zoom_start=11)\n",
    "\n",
    "\n",
    "folium.Marker([h_lat, h_lng], popup='<i>Hyderabad</i>', color='red', tooltip=\"Click to see\").add_to(hyd_map)\n",
    "\n",
    "\n",
    "for latitude,longitude,name,strength in zip(loca_df[\"Latitudes\"], loca_df[\"Longitudes\"], loca_df[\"Locality\"], hyd_italian[\"Italian Restaurant\"]):\n",
    "    folium.CircleMarker(\n",
    "        [latitude, longitude],\n",
    "        radius=strength*300,\n",
    "        color='green',\n",
    "        popup=name,\n",
    "        fill=True,\n",
    "        fill_color='#3186ff'\n",
    "    ).add_to(hyd_map)\n",
    "\n",
    "hyd_map"
   ]
  },
  {
   "cell_type": "markdown",
   "metadata": {},
   "source": [
    "<h3>8. Clustering The Localities</h3>"
   ]
  },
  {
   "cell_type": "markdown",
   "metadata": {},
   "source": [
    "Machine Learning- K-means clustering Algorithm for clustering the locality in Hyderabad base on the number of Italian restaurants present in each locality."
   ]
  },
  {
   "cell_type": "code",
   "execution_count": 55,
   "metadata": {},
   "outputs": [
    {
     "name": "stdout",
     "output_type": "stream",
     "text": [
      "[0 0 0 0 4 0 0 0 0 0]\n"
     ]
    }
   ],
   "source": [
    "cluster = 5\n",
    "\n",
    "#Dataframe for clustering\n",
    "hyd_clustering = hyd_italian.drop(['Locality'], 1)\n",
    "\n",
    "#run K-means clustering\n",
    "k_means = KMeans(init=\"k-means++\", n_clusters=cluster, n_init=12).fit(hyd_clustering)\n",
    "\n",
    "#getting the labels for first 10 locality \n",
    "print(k_means.labels_[0:10])"
   ]
  },
  {
   "cell_type": "code",
   "execution_count": 56,
   "metadata": {},
   "outputs": [
    {
     "data": {
      "text/html": [
       "<div>\n",
       "<style scoped>\n",
       "    .dataframe tbody tr th:only-of-type {\n",
       "        vertical-align: middle;\n",
       "    }\n",
       "\n",
       "    .dataframe tbody tr th {\n",
       "        vertical-align: top;\n",
       "    }\n",
       "\n",
       "    .dataframe thead th {\n",
       "        text-align: right;\n",
       "    }\n",
       "</style>\n",
       "<table border=\"1\" class=\"dataframe\">\n",
       "  <thead>\n",
       "    <tr style=\"text-align: right;\">\n",
       "      <th></th>\n",
       "      <th>Locality</th>\n",
       "      <th>Italian Restaurant</th>\n",
       "      <th>Cluster Label</th>\n",
       "    </tr>\n",
       "  </thead>\n",
       "  <tbody>\n",
       "    <tr>\n",
       "      <th>0</th>\n",
       "      <td>Abids</td>\n",
       "      <td>0.00</td>\n",
       "      <td>0</td>\n",
       "    </tr>\n",
       "    <tr>\n",
       "      <th>1</th>\n",
       "      <td>Alwal</td>\n",
       "      <td>0.00</td>\n",
       "      <td>0</td>\n",
       "    </tr>\n",
       "    <tr>\n",
       "      <th>2</th>\n",
       "      <td>Ameerpet, Hyderabad</td>\n",
       "      <td>0.00</td>\n",
       "      <td>0</td>\n",
       "    </tr>\n",
       "    <tr>\n",
       "      <th>3</th>\n",
       "      <td>Bandlaguda, Rangareddy</td>\n",
       "      <td>0.00</td>\n",
       "      <td>0</td>\n",
       "    </tr>\n",
       "    <tr>\n",
       "      <th>4</th>\n",
       "      <td>Banjara Hills</td>\n",
       "      <td>0.04</td>\n",
       "      <td>4</td>\n",
       "    </tr>\n",
       "  </tbody>\n",
       "</table>\n",
       "</div>"
      ],
      "text/plain": [
       "                 Locality  Italian Restaurant  Cluster Label\n",
       "0                   Abids                0.00              0\n",
       "1                   Alwal                0.00              0\n",
       "2     Ameerpet, Hyderabad                0.00              0\n",
       "3  Bandlaguda, Rangareddy                0.00              0\n",
       "4           Banjara Hills                0.04              4"
      ]
     },
     "execution_count": 56,
     "metadata": {},
     "output_type": "execute_result"
    }
   ],
   "source": [
    "hyd_labels = hyd_italian.copy()\n",
    "hyd_labels[\"Cluster Label\"] = k_means.labels_\n",
    "\n",
    "hyd_labels.head()"
   ]
  },
  {
   "cell_type": "code",
   "execution_count": 57,
   "metadata": {},
   "outputs": [
    {
     "data": {
      "text/html": [
       "<div>\n",
       "<style scoped>\n",
       "    .dataframe tbody tr th:only-of-type {\n",
       "        vertical-align: middle;\n",
       "    }\n",
       "\n",
       "    .dataframe tbody tr th {\n",
       "        vertical-align: top;\n",
       "    }\n",
       "\n",
       "    .dataframe thead th {\n",
       "        text-align: right;\n",
       "    }\n",
       "</style>\n",
       "<table border=\"1\" class=\"dataframe\">\n",
       "  <thead>\n",
       "    <tr style=\"text-align: right;\">\n",
       "      <th></th>\n",
       "      <th>Locality</th>\n",
       "      <th>Italian Restaurant</th>\n",
       "      <th>Cluster Label</th>\n",
       "      <th>Latitudes</th>\n",
       "      <th>Longitudes</th>\n",
       "    </tr>\n",
       "  </thead>\n",
       "  <tbody>\n",
       "    <tr>\n",
       "      <th>0</th>\n",
       "      <td>Abids</td>\n",
       "      <td>0.00</td>\n",
       "      <td>0</td>\n",
       "      <td>17.38980</td>\n",
       "      <td>78.47658</td>\n",
       "    </tr>\n",
       "    <tr>\n",
       "      <th>1</th>\n",
       "      <td>Alwal</td>\n",
       "      <td>0.00</td>\n",
       "      <td>0</td>\n",
       "      <td>17.53543</td>\n",
       "      <td>78.54427</td>\n",
       "    </tr>\n",
       "    <tr>\n",
       "      <th>2</th>\n",
       "      <td>Ameerpet, Hyderabad</td>\n",
       "      <td>0.00</td>\n",
       "      <td>0</td>\n",
       "      <td>17.43535</td>\n",
       "      <td>78.44861</td>\n",
       "    </tr>\n",
       "    <tr>\n",
       "      <th>3</th>\n",
       "      <td>Bandlaguda, Rangareddy</td>\n",
       "      <td>0.00</td>\n",
       "      <td>0</td>\n",
       "      <td>17.29982</td>\n",
       "      <td>78.46495</td>\n",
       "    </tr>\n",
       "    <tr>\n",
       "      <th>4</th>\n",
       "      <td>Banjara Hills</td>\n",
       "      <td>0.04</td>\n",
       "      <td>4</td>\n",
       "      <td>17.41535</td>\n",
       "      <td>78.43435</td>\n",
       "    </tr>\n",
       "  </tbody>\n",
       "</table>\n",
       "</div>"
      ],
      "text/plain": [
       "                 Locality  Italian Restaurant  Cluster Label  Latitudes  \\\n",
       "0                   Abids                0.00              0   17.38980   \n",
       "1                   Alwal                0.00              0   17.53543   \n",
       "2     Ameerpet, Hyderabad                0.00              0   17.43535   \n",
       "3  Bandlaguda, Rangareddy                0.00              0   17.29982   \n",
       "4           Banjara Hills                0.04              4   17.41535   \n",
       "\n",
       "   Longitudes  \n",
       "0    78.47658  \n",
       "1    78.54427  \n",
       "2    78.44861  \n",
       "3    78.46495  \n",
       "4    78.43435  "
      ]
     },
     "execution_count": 57,
     "metadata": {},
     "output_type": "execute_result"
    }
   ],
   "source": [
    "hyd_labels = hyd_labels.join(loca_df.set_index('Locality'), on='Locality')\n",
    "hyd_labels.head()"
   ]
  },
  {
   "cell_type": "code",
   "execution_count": 58,
   "metadata": {},
   "outputs": [
    {
     "data": {
      "text/html": [
       "<div>\n",
       "<style scoped>\n",
       "    .dataframe tbody tr th:only-of-type {\n",
       "        vertical-align: middle;\n",
       "    }\n",
       "\n",
       "    .dataframe tbody tr th {\n",
       "        vertical-align: top;\n",
       "    }\n",
       "\n",
       "    .dataframe thead th {\n",
       "        text-align: right;\n",
       "    }\n",
       "</style>\n",
       "<table border=\"1\" class=\"dataframe\">\n",
       "  <thead>\n",
       "    <tr style=\"text-align: right;\">\n",
       "      <th></th>\n",
       "      <th>Locality</th>\n",
       "      <th>Italian Restaurant</th>\n",
       "      <th>Cluster Label</th>\n",
       "      <th>Latitudes</th>\n",
       "      <th>Longitudes</th>\n",
       "    </tr>\n",
       "  </thead>\n",
       "  <tbody>\n",
       "    <tr>\n",
       "      <th>0</th>\n",
       "      <td>Abids</td>\n",
       "      <td>0.0</td>\n",
       "      <td>0</td>\n",
       "      <td>17.38980</td>\n",
       "      <td>78.47658</td>\n",
       "    </tr>\n",
       "    <tr>\n",
       "      <th>27</th>\n",
       "      <td>L. B. Nagar</td>\n",
       "      <td>0.0</td>\n",
       "      <td>0</td>\n",
       "      <td>17.51265</td>\n",
       "      <td>78.44129</td>\n",
       "    </tr>\n",
       "    <tr>\n",
       "      <th>29</th>\n",
       "      <td>Malakpet</td>\n",
       "      <td>0.0</td>\n",
       "      <td>0</td>\n",
       "      <td>17.37493</td>\n",
       "      <td>78.51567</td>\n",
       "    </tr>\n",
       "    <tr>\n",
       "      <th>30</th>\n",
       "      <td>Malkajgiri</td>\n",
       "      <td>0.0</td>\n",
       "      <td>0</td>\n",
       "      <td>17.44737</td>\n",
       "      <td>78.53520</td>\n",
       "    </tr>\n",
       "    <tr>\n",
       "      <th>31</th>\n",
       "      <td>Manikonda</td>\n",
       "      <td>0.0</td>\n",
       "      <td>0</td>\n",
       "      <td>17.40139</td>\n",
       "      <td>78.39163</td>\n",
       "    </tr>\n",
       "  </tbody>\n",
       "</table>\n",
       "</div>"
      ],
      "text/plain": [
       "       Locality  Italian Restaurant  Cluster Label  Latitudes  Longitudes\n",
       "0         Abids                 0.0              0   17.38980    78.47658\n",
       "27  L. B. Nagar                 0.0              0   17.51265    78.44129\n",
       "29     Malakpet                 0.0              0   17.37493    78.51567\n",
       "30   Malkajgiri                 0.0              0   17.44737    78.53520\n",
       "31    Manikonda                 0.0              0   17.40139    78.39163"
      ]
     },
     "execution_count": 58,
     "metadata": {},
     "output_type": "execute_result"
    }
   ],
   "source": [
    "hyd_labels.sort_values([\"Cluster Label\"], inplace=True)\n",
    "hyd_labels.head()"
   ]
  },
  {
   "cell_type": "code",
   "execution_count": 59,
   "metadata": {},
   "outputs": [
    {
     "data": {
      "text/html": [
       "<div>\n",
       "<style scoped>\n",
       "    .dataframe tbody tr th:only-of-type {\n",
       "        vertical-align: middle;\n",
       "    }\n",
       "\n",
       "    .dataframe tbody tr th {\n",
       "        vertical-align: top;\n",
       "    }\n",
       "\n",
       "    .dataframe thead th {\n",
       "        text-align: right;\n",
       "    }\n",
       "</style>\n",
       "<table border=\"1\" class=\"dataframe\">\n",
       "  <thead>\n",
       "    <tr style=\"text-align: right;\">\n",
       "      <th></th>\n",
       "      <th>Locality</th>\n",
       "      <th>Cluster Label</th>\n",
       "    </tr>\n",
       "  </thead>\n",
       "  <tbody>\n",
       "    <tr>\n",
       "      <th>0</th>\n",
       "      <td>Abids</td>\n",
       "      <td>0</td>\n",
       "    </tr>\n",
       "    <tr>\n",
       "      <th>27</th>\n",
       "      <td>L. B. Nagar</td>\n",
       "      <td>0</td>\n",
       "    </tr>\n",
       "    <tr>\n",
       "      <th>29</th>\n",
       "      <td>Malakpet</td>\n",
       "      <td>0</td>\n",
       "    </tr>\n",
       "    <tr>\n",
       "      <th>30</th>\n",
       "      <td>Malkajgiri</td>\n",
       "      <td>0</td>\n",
       "    </tr>\n",
       "    <tr>\n",
       "      <th>31</th>\n",
       "      <td>Manikonda</td>\n",
       "      <td>0</td>\n",
       "    </tr>\n",
       "  </tbody>\n",
       "</table>\n",
       "</div>"
      ],
      "text/plain": [
       "       Locality  Cluster Label\n",
       "0         Abids              0\n",
       "27  L. B. Nagar              0\n",
       "29     Malakpet              0\n",
       "30   Malkajgiri              0\n",
       "31    Manikonda              0"
      ]
     },
     "execution_count": 59,
     "metadata": {},
     "output_type": "execute_result"
    }
   ],
   "source": [
    "#Cleaning the dataframe for mapping the localities according to their cluster labels\n",
    "hyd_only_labels = hyd_labels.drop(columns=['Italian Restaurant','Latitudes','Longitudes'])\n",
    "hyd_only_labels.head()"
   ]
  },
  {
   "cell_type": "code",
   "execution_count": 61,
   "metadata": {},
   "outputs": [
    {
     "data": {
      "text/html": [
       "<div style=\"width:100%;\"><div style=\"position:relative;width:100%;height:0;padding-bottom:60%;\"><span style=\"color:#565656\">Make this Notebook Trusted to load map: File -> Trust Notebook</span><iframe src=\"about:blank\" style=\"position:absolute;width:100%;height:100%;left:0;top:0;border:none !important;\" data-html=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 onload=\"this.contentDocument.open();this.contentDocument.write(atob(this.getAttribute('data-html')));this.contentDocument.close();\" allowfullscreen webkitallowfullscreen mozallowfullscreen></iframe></div></div>"
      ],
      "text/plain": [
       "<folium.folium.Map at 0x7fb552d1f860>"
      ]
     },
     "execution_count": 61,
     "metadata": {},
     "output_type": "execute_result"
    }
   ],
   "source": [
    "#Plot the cluster on map\n",
    "cluster_map = folium.Map(location=[h_lat, h_lng],zoom_start=11)\n",
    "\n",
    "folium.Marker([h_lat, h_lng], popup='<i>Hyderabad</i>', color='red', tooltip=\"Click to see\").add_to(cluster_map)\n",
    "\n",
    "#Getting the colors for the clusters\n",
    "col = ['red', 'green', 'blue','orange','yellow']\n",
    "\n",
    "#markers for localities\n",
    "for latitude,longitude,name,clus in zip(hyd_labels[\"Latitudes\"], hyd_labels[\"Longitudes\"], hyd_labels[\"Locality\"], hyd_labels[\"Cluster Label\"]):\n",
    "    label = folium.Popup(name + ' - Cluster ' + str(clus+1))\n",
    "    folium.CircleMarker(\n",
    "        [latitude, longitude],\n",
    "        radius=6,\n",
    "        color=col[clus],\n",
    "        popup=label,\n",
    "        fill=False,\n",
    "        fill_color=col[clus],\n",
    "        fill_opacity=0.3\n",
    "    ).add_to(cluster_map)\n",
    "       \n",
    "cluster_map"
   ]
  },
  {
   "cell_type": "markdown",
   "metadata": {},
   "source": [
    "<h3>9. Analyzing The Cluster</h3>"
   ]
  },
  {
   "cell_type": "code",
   "execution_count": 68,
   "metadata": {},
   "outputs": [
    {
     "name": "stdout",
     "output_type": "stream",
     "text": [
      "There are 45 localities in cluster-1\n",
      "The mean occurence of Italian restaurant in cluster-1 is 0.00\n"
     ]
    },
    {
     "data": {
      "text/html": [
       "<div>\n",
       "<style scoped>\n",
       "    .dataframe tbody tr th:only-of-type {\n",
       "        vertical-align: middle;\n",
       "    }\n",
       "\n",
       "    .dataframe tbody tr th {\n",
       "        vertical-align: top;\n",
       "    }\n",
       "\n",
       "    .dataframe thead th {\n",
       "        text-align: right;\n",
       "    }\n",
       "</style>\n",
       "<table border=\"1\" class=\"dataframe\">\n",
       "  <thead>\n",
       "    <tr style=\"text-align: right;\">\n",
       "      <th></th>\n",
       "      <th>Locality</th>\n",
       "      <th>Italian Restaurant</th>\n",
       "      <th>Cluster Label</th>\n",
       "      <th>Latitudes</th>\n",
       "      <th>Longitudes</th>\n",
       "    </tr>\n",
       "  </thead>\n",
       "  <tbody>\n",
       "    <tr>\n",
       "      <th>0</th>\n",
       "      <td>Abids</td>\n",
       "      <td>0.0</td>\n",
       "      <td>0</td>\n",
       "      <td>17.38980</td>\n",
       "      <td>78.47658</td>\n",
       "    </tr>\n",
       "    <tr>\n",
       "      <th>27</th>\n",
       "      <td>L. B. Nagar</td>\n",
       "      <td>0.0</td>\n",
       "      <td>0</td>\n",
       "      <td>17.51265</td>\n",
       "      <td>78.44129</td>\n",
       "    </tr>\n",
       "    <tr>\n",
       "      <th>29</th>\n",
       "      <td>Malakpet</td>\n",
       "      <td>0.0</td>\n",
       "      <td>0</td>\n",
       "      <td>17.37493</td>\n",
       "      <td>78.51567</td>\n",
       "    </tr>\n",
       "    <tr>\n",
       "      <th>30</th>\n",
       "      <td>Malkajgiri</td>\n",
       "      <td>0.0</td>\n",
       "      <td>0</td>\n",
       "      <td>17.44737</td>\n",
       "      <td>78.53520</td>\n",
       "    </tr>\n",
       "    <tr>\n",
       "      <th>31</th>\n",
       "      <td>Manikonda</td>\n",
       "      <td>0.0</td>\n",
       "      <td>0</td>\n",
       "      <td>17.40139</td>\n",
       "      <td>78.39163</td>\n",
       "    </tr>\n",
       "  </tbody>\n",
       "</table>\n",
       "</div>"
      ],
      "text/plain": [
       "       Locality  Italian Restaurant  Cluster Label  Latitudes  Longitudes\n",
       "0         Abids                 0.0              0   17.38980    78.47658\n",
       "27  L. B. Nagar                 0.0              0   17.51265    78.44129\n",
       "29     Malakpet                 0.0              0   17.37493    78.51567\n",
       "30   Malkajgiri                 0.0              0   17.44737    78.53520\n",
       "31    Manikonda                 0.0              0   17.40139    78.39163"
      ]
     },
     "execution_count": 68,
     "metadata": {},
     "output_type": "execute_result"
    }
   ],
   "source": [
    "#Cluster 1\n",
    "#Dataframe containing localities with cluster label 0, which corresponds to localities with no Italian Restaurant\n",
    "cluster_1 = hyd_labels[hyd_labels['Cluster Label'] == 0]\n",
    "print(\"There are {} localities in cluster-1\".format(cluster_1.shape[0]))\n",
    "mean_presence_1 = cluster_1['Italian Restaurant'].mean()\n",
    "print(\"The mean occurence of Italian restaurant in cluster-1 is {0:.2f}\".format(mean_presence_1))\n",
    "cluster_1.head()"
   ]
  },
  {
   "cell_type": "code",
   "execution_count": 69,
   "metadata": {},
   "outputs": [
    {
     "name": "stdout",
     "output_type": "stream",
     "text": [
      "There are 2 localities in cluster-2\n",
      "The mean occurence of Italian restaurant in cluster-2 is 0.03\n"
     ]
    },
    {
     "data": {
      "text/html": [
       "<div>\n",
       "<style scoped>\n",
       "    .dataframe tbody tr th:only-of-type {\n",
       "        vertical-align: middle;\n",
       "    }\n",
       "\n",
       "    .dataframe tbody tr th {\n",
       "        vertical-align: top;\n",
       "    }\n",
       "\n",
       "    .dataframe thead th {\n",
       "        text-align: right;\n",
       "    }\n",
       "</style>\n",
       "<table border=\"1\" class=\"dataframe\">\n",
       "  <thead>\n",
       "    <tr style=\"text-align: right;\">\n",
       "      <th></th>\n",
       "      <th>Locality</th>\n",
       "      <th>Italian Restaurant</th>\n",
       "      <th>Cluster Label</th>\n",
       "      <th>Latitudes</th>\n",
       "      <th>Longitudes</th>\n",
       "    </tr>\n",
       "  </thead>\n",
       "  <tbody>\n",
       "    <tr>\n",
       "      <th>28</th>\n",
       "      <td>Madhapur</td>\n",
       "      <td>0.03</td>\n",
       "      <td>1</td>\n",
       "      <td>17.45694</td>\n",
       "      <td>78.39013</td>\n",
       "    </tr>\n",
       "    <tr>\n",
       "      <th>22</th>\n",
       "      <td>Jubilee Hills</td>\n",
       "      <td>0.03</td>\n",
       "      <td>1</td>\n",
       "      <td>17.42865</td>\n",
       "      <td>78.39762</td>\n",
       "    </tr>\n",
       "  </tbody>\n",
       "</table>\n",
       "</div>"
      ],
      "text/plain": [
       "         Locality  Italian Restaurant  Cluster Label  Latitudes  Longitudes\n",
       "28       Madhapur                0.03              1   17.45694    78.39013\n",
       "22  Jubilee Hills                0.03              1   17.42865    78.39762"
      ]
     },
     "execution_count": 69,
     "metadata": {},
     "output_type": "execute_result"
    }
   ],
   "source": [
    "#Cluster 2\n",
    "#Dataframe containing localities with cluster label 1, which corresponds to localities with density of Italian Restaurant\n",
    "cluster_2 = hyd_labels[hyd_labels['Cluster Label'] == 1]\n",
    "print(\"There are {} localities in cluster-2\".format(cluster_2.shape[0]))\n",
    "mean_presence_2 = cluster_2['Italian Restaurant'].mean()\n",
    "print(\"The mean occurence of Italian restaurant in cluster-2 is {0:.2f}\".format(mean_presence_2))\n",
    "cluster_2.head()"
   ]
  },
  {
   "cell_type": "code",
   "execution_count": 70,
   "metadata": {},
   "outputs": [
    {
     "name": "stdout",
     "output_type": "stream",
     "text": [
      "There are 1 localities in cluster-3\n",
      "The mean occurence of Italian restaurant in cluster-3 is 0.06\n"
     ]
    },
    {
     "data": {
      "text/html": [
       "<div>\n",
       "<style scoped>\n",
       "    .dataframe tbody tr th:only-of-type {\n",
       "        vertical-align: middle;\n",
       "    }\n",
       "\n",
       "    .dataframe tbody tr th {\n",
       "        vertical-align: top;\n",
       "    }\n",
       "\n",
       "    .dataframe thead th {\n",
       "        text-align: right;\n",
       "    }\n",
       "</style>\n",
       "<table border=\"1\" class=\"dataframe\">\n",
       "  <thead>\n",
       "    <tr style=\"text-align: right;\">\n",
       "      <th></th>\n",
       "      <th>Locality</th>\n",
       "      <th>Italian Restaurant</th>\n",
       "      <th>Cluster Label</th>\n",
       "      <th>Latitudes</th>\n",
       "      <th>Longitudes</th>\n",
       "    </tr>\n",
       "  </thead>\n",
       "  <tbody>\n",
       "    <tr>\n",
       "      <th>15</th>\n",
       "      <td>Gachibowli</td>\n",
       "      <td>0.06</td>\n",
       "      <td>2</td>\n",
       "      <td>17.43181</td>\n",
       "      <td>78.38636</td>\n",
       "    </tr>\n",
       "  </tbody>\n",
       "</table>\n",
       "</div>"
      ],
      "text/plain": [
       "      Locality  Italian Restaurant  Cluster Label  Latitudes  Longitudes\n",
       "15  Gachibowli                0.06              2   17.43181    78.38636"
      ]
     },
     "execution_count": 70,
     "metadata": {},
     "output_type": "execute_result"
    }
   ],
   "source": [
    "#Cluster 3\n",
    "#Dataframe containing localities with cluster label 2, which corresponds to localities with highest density of Italian Restaurant\n",
    "cluster_3 = hyd_labels[hyd_labels['Cluster Label'] == 2]\n",
    "print(\"There are {} localities in cluster-3\".format(cluster_3.shape[0]))\n",
    "mean_presence_3 = cluster_3['Italian Restaurant'].mean()\n",
    "print(\"The mean occurence of Italian restaurant in cluster-3 is {0:.2f}\".format(mean_presence_3))\n",
    "cluster_3.head()"
   ]
  },
  {
   "cell_type": "code",
   "execution_count": 74,
   "metadata": {},
   "outputs": [
    {
     "name": "stdout",
     "output_type": "stream",
     "text": [
      "There are 3 localities in cluster-4\n",
      "The mean occurence of Italian restaurant in cluster-4 is 0.02\n"
     ]
    },
    {
     "data": {
      "text/html": [
       "<div>\n",
       "<style scoped>\n",
       "    .dataframe tbody tr th:only-of-type {\n",
       "        vertical-align: middle;\n",
       "    }\n",
       "\n",
       "    .dataframe tbody tr th {\n",
       "        vertical-align: top;\n",
       "    }\n",
       "\n",
       "    .dataframe thead th {\n",
       "        text-align: right;\n",
       "    }\n",
       "</style>\n",
       "<table border=\"1\" class=\"dataframe\">\n",
       "  <thead>\n",
       "    <tr style=\"text-align: right;\">\n",
       "      <th></th>\n",
       "      <th>Locality</th>\n",
       "      <th>Italian Restaurant</th>\n",
       "      <th>Cluster Label</th>\n",
       "      <th>Latitudes</th>\n",
       "      <th>Longitudes</th>\n",
       "    </tr>\n",
       "  </thead>\n",
       "  <tbody>\n",
       "    <tr>\n",
       "      <th>24</th>\n",
       "      <td>Khairtabad</td>\n",
       "      <td>0.020000</td>\n",
       "      <td>3</td>\n",
       "      <td>17.40592</td>\n",
       "      <td>78.45856</td>\n",
       "    </tr>\n",
       "    <tr>\n",
       "      <th>32</th>\n",
       "      <td>Masab Tank</td>\n",
       "      <td>0.020000</td>\n",
       "      <td>3</td>\n",
       "      <td>17.40093</td>\n",
       "      <td>78.45362</td>\n",
       "    </tr>\n",
       "    <tr>\n",
       "      <th>19</th>\n",
       "      <td>HITEC City</td>\n",
       "      <td>0.024691</td>\n",
       "      <td>3</td>\n",
       "      <td>17.42923</td>\n",
       "      <td>78.37495</td>\n",
       "    </tr>\n",
       "  </tbody>\n",
       "</table>\n",
       "</div>"
      ],
      "text/plain": [
       "      Locality  Italian Restaurant  Cluster Label  Latitudes  Longitudes\n",
       "24  Khairtabad            0.020000              3   17.40592    78.45856\n",
       "32  Masab Tank            0.020000              3   17.40093    78.45362\n",
       "19  HITEC City            0.024691              3   17.42923    78.37495"
      ]
     },
     "execution_count": 74,
     "metadata": {},
     "output_type": "execute_result"
    }
   ],
   "source": [
    "#Cluster 4\n",
    "#Dataframe containing localities with cluster label 3, which corresponds to localities with low density of Italian Restaurant\n",
    "cluster_4 = hyd_labels[hyd_labels['Cluster Label'] == 3]\n",
    "print(\"There are {} localities in cluster-4\".format(cluster_4.shape[0]))\n",
    "mean_presence_4 = cluster_4['Italian Restaurant'].mean()\n",
    "print(\"The mean occurence of Italian restaurant in cluster-4 is {0:.2f}\".format(mean_presence_4))\n",
    "cluster_4.head()"
   ]
  },
  {
   "cell_type": "code",
   "execution_count": 86,
   "metadata": {},
   "outputs": [
    {
     "name": "stdout",
     "output_type": "stream",
     "text": [
      "There are 1 localities in cluster-5\n",
      "The mean occurence of Italian restaurant in cluster-5 is 0.04\n"
     ]
    },
    {
     "data": {
      "text/html": [
       "<div>\n",
       "<style scoped>\n",
       "    .dataframe tbody tr th:only-of-type {\n",
       "        vertical-align: middle;\n",
       "    }\n",
       "\n",
       "    .dataframe tbody tr th {\n",
       "        vertical-align: top;\n",
       "    }\n",
       "\n",
       "    .dataframe thead th {\n",
       "        text-align: right;\n",
       "    }\n",
       "</style>\n",
       "<table border=\"1\" class=\"dataframe\">\n",
       "  <thead>\n",
       "    <tr style=\"text-align: right;\">\n",
       "      <th></th>\n",
       "      <th>Locality</th>\n",
       "      <th>Italian Restaurant</th>\n",
       "      <th>Cluster Label</th>\n",
       "      <th>Latitudes</th>\n",
       "      <th>Longitudes</th>\n",
       "    </tr>\n",
       "  </thead>\n",
       "  <tbody>\n",
       "    <tr>\n",
       "      <th>4</th>\n",
       "      <td>Banjara Hills</td>\n",
       "      <td>0.04</td>\n",
       "      <td>4</td>\n",
       "      <td>17.41535</td>\n",
       "      <td>78.43435</td>\n",
       "    </tr>\n",
       "  </tbody>\n",
       "</table>\n",
       "</div>"
      ],
      "text/plain": [
       "        Locality  Italian Restaurant  Cluster Label  Latitudes  Longitudes\n",
       "4  Banjara Hills                0.04              4   17.41535    78.43435"
      ]
     },
     "execution_count": 86,
     "metadata": {},
     "output_type": "execute_result"
    }
   ],
   "source": [
    "#Cluster 5\n",
    "#Dataframe containing localities with cluster label 4, which corresponds to localities with medium density of Italian Restaurant\n",
    "cluster_5 = hyd_labels[hyd_labels['Cluster Label'] == 4]\n",
    "print(\"There are {} localities in cluster-5\".format(cluster_5.shape[0]))\n",
    "mean_presence_5 = cluster_5['Italian Restaurant'].mean()\n",
    "print(\"The mean occurence of Italian restaurant in cluster-5 is {0:.2f}\".format(mean_presence_5))\n",
    "cluster_5.head()"
   ]
  },
  {
   "cell_type": "markdown",
   "metadata": {},
   "source": [
    "# Results & Observations"
   ]
  },
  {
   "cell_type": "markdown",
   "metadata": {},
   "source": [
    "<ul> \n",
    "    <li>Analysing the clusters accordingly we can infer that cluster-1(shown with red color) has no existing Italian Restaurant with the highest numbers of the same in cluster-2(shown with blue color).\n",
    "    <li>Moderate number of Italian Restaurants are present in cluster-2 and cluster-5(shown with green, yellow color) and low number of Italian Restuarants are found in cluster-4 (shown in orange color).</li>\n",
    "    <li>The analysis shows that most of the Italian restaurants are spread across central to North west region of the city. Hardly, there are no restaurants in the eastern part of the city. There are no Italian restaurants in the outer parts of the city. <br/> \n",
    " \n",
    "        "
   ]
  },
  {
   "cell_type": "markdown",
   "metadata": {},
   "source": [
    "# Conclusion"
   ]
  },
  {
   "cell_type": "markdown",
   "metadata": {},
   "source": [
    "<ul> \n",
    "    <li> Cluster-1 and cluster-4 are the best options for the outsider/ investors to open the Italian restaurant in Hyderabad. \n",
    "    <li> As Cluster 1 has no Italian restaurants more marketing efforts restaurants need to spend, while for cluster-4 which already has existing Italian restaurants with very low competition can attract the existing customers visiting to other Italian restuarants along with new customers."
   ]
  },
  {
   "cell_type": "code",
   "execution_count": null,
   "metadata": {},
   "outputs": [],
   "source": []
  }
 ],
 "metadata": {
  "kernelspec": {
   "display_name": "Python 3.6",
   "language": "python",
   "name": "python3"
  },
  "language_info": {
   "codemirror_mode": {
    "name": "ipython",
    "version": 3
   },
   "file_extension": ".py",
   "mimetype": "text/x-python",
   "name": "python",
   "nbconvert_exporter": "python",
   "pygments_lexer": "ipython3",
   "version": "3.6.9"
  }
 },
 "nbformat": 4,
 "nbformat_minor": 4
}
