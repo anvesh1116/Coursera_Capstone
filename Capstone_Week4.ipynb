{
 "cells": [
  {
   "cell_type": "markdown",
   "metadata": {},
   "source": [
    "<h1>Capstone Project - Battle of Neighborhoods </h1>"
   ]
  },
  {
   "cell_type": "markdown",
   "metadata": {},
   "source": [
    "<h3>Introduction to Business Problem</h3>"
   ]
  },
  {
   "cell_type": "markdown",
   "metadata": {},
   "source": [
    "<h4>Opening a new Italian Restaurant in Hyderabad, India</h4>"
   ]
  },
  {
   "cell_type": "markdown",
   "metadata": {},
   "source": [
    "Hyderabad is a cosmopolitan city spread across the area of 7250 Km2 roughly making it the fourth most populas city in India. The city is popular for its rich heritage and it is home for restaurants serving multiple cusines. The objective of this project is to evalute the best possible location to open Italian Restaurant in Hyderabad, India with minimum competition.\n"
   ]
  },
  {
   "cell_type": "markdown",
   "metadata": {},
   "source": [
    "<h3>Data</h3>"
   ]
  },
  {
   "cell_type": "markdown",
   "metadata": {},
   "source": [
    "Data Sources for the Project would be : <br/>\n",
    "\n",
    "Wikimedia Commons: Information about areas/localites in Hyderabad <br/>\n",
    "Geopy - For the co-ordinates of different locations <br/>\n",
    "Foursquare API - To get the list of venues and their details around a given location <br/>"
   ]
  },
  {
   "cell_type": "code",
   "execution_count": null,
   "metadata": {},
   "outputs": [],
   "source": []
  }
 ],
 "metadata": {
  "kernelspec": {
   "display_name": "Python 3.6",
   "language": "python",
   "name": "python3"
  },
  "language_info": {
   "codemirror_mode": {
    "name": "ipython",
    "version": 3
   },
   "file_extension": ".py",
   "mimetype": "text/x-python",
   "name": "python",
   "nbconvert_exporter": "python",
   "pygments_lexer": "ipython3",
   "version": "3.6.9"
  }
 },
 "nbformat": 4,
 "nbformat_minor": 4
}
